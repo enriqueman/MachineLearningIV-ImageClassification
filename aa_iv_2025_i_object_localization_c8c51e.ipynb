{
 "cells": [
  {
   "cell_type": "code",
   "execution_count": 3,
   "metadata": {
    "colab": {
     "base_uri": "https://localhost:8080/",
     "height": 84,
     "referenced_widgets": [
      "6fc9ad7d422043fa96ce50d8cc708924",
      "83652fd3bfb14bbe91089aea8846f8d5",
      "48589bd8307a4a40b0c39ad67775c0e5",
      "8f3d358bb9a948ba980989ff7e8a81b0",
      "53645b6f4c994dbf8446b9302914308f",
      "b1ea84e8038f47158c770e914d759c7a",
      "87b2b34cff994fae81b2c5f88d5c2468",
      "9b50dd0a8b6b456b87b93e071d8cfb92",
      "1245f78689ba429b94405ff219a7b143",
      "f6b2ab04217a4735b077878d69b51e15",
      "ec68f88e313b428c9feb32b867cb5c88",
      "268453fdd7384ba8bd93fcd0ee844da0",
      "67c03d4caf414b1ca30e36742826ca8a",
      "cc1246a7b38d46148068aa63af9bedc8",
      "120f43a763954401ad60c7a62f656893",
      "df19421bb0114de7ae6328aaa00a4fec",
      "756d1f5f7c2b4fa09ba54f651d06d116",
      "897c6a9e8a6540cd96d72bddee35cb58",
      "f09e45a403ba41b1b9a1d9c478c29486",
      "9399936b1f444017b15ed10e54bb52e0",
      "cd0da2b617c64a2588612fa63cd6992d",
      "6441fc4e270c488db57de94ea731c968",
      "79b1417bc6ca44838e4e010a07a41259"
     ]
    },
    "id": "qut_d6u-NqOb",
    "outputId": "e7f1c0ba-11a4-4b5b-ed97-f0d651f536e3"
   },
   "outputs": [
    {
     "data": {
      "application/vnd.jupyter.widget-view+json": {
       "model_id": "0a64faae654d4a3dbd85c09f829cd5a6",
       "version_major": 2,
       "version_minor": 0
      },
      "text/plain": [
       "VBox(children=(HTML(value='<center> <img\\nsrc=https://www.kaggle.com/static/images/site-logo.png\\nalt=\\'Kaggle…"
      ]
     },
     "metadata": {},
     "output_type": "display_data"
    }
   ],
   "source": [
    "# IMPORTANT: SOME KAGGLE DATA SOURCES ARE PRIVATE\n",
    "# RUN THIS CELL IN ORDER TO IMPORT YOUR KAGGLE DATA SOURCES.\n",
    "import kagglehub\n",
    "kagglehub.login()\n"
   ]
  },
  {
   "cell_type": "code",
   "execution_count": 5,
   "metadata": {
    "colab": {
     "base_uri": "https://localhost:8080/"
    },
    "id": "FSXe5X08NqOd",
    "outputId": "05966545-582a-4dba-d215-bf1e84fab68d"
   },
   "outputs": [
    {
     "name": "stdout",
     "output_type": "stream",
     "text": [
      "Data source import complete.\n"
     ]
    }
   ],
   "source": [
    "# IMPORTANT: RUN THIS CELL IN ORDER TO IMPORT YOUR KAGGLE DATA SOURCES,\n",
    "# THEN FEEL FREE TO DELETE THIS CELL.\n",
    "# NOTE: THIS NOTEBOOK ENVIRONMENT DIFFERS FROM KAGGLE'S PYTHON\n",
    "# ENVIRONMENT SO THERE MAY BE MISSING LIBRARIES USED BY YOUR\n",
    "# NOTEBOOK. \n",
    "\n",
    "aa_iv_2025_i_object_localization_path = kagglehub.competition_download('aa-iv-2025-i-object-localization')\n",
    "\n",
    "print('Data source import complete.')\n"
   ]
  },
  {
   "cell_type": "markdown",
   "metadata": {
    "id": "kOBkMEn8NqOf",
    "papermill": {
     "duration": 0.021633,
     "end_time": "2024-11-13T17:32:03.753714",
     "exception": false,
     "start_time": "2024-11-13T17:32:03.732081",
     "status": "completed"
    },
    "tags": []
   },
   "source": [
    "# Imports"
   ]
  },
  {
   "cell_type": "markdown",
   "metadata": {
    "id": "o78Ku4dfNqOh",
    "papermill": {
     "duration": 0.018934,
     "end_time": "2024-11-13T17:32:03.791989",
     "exception": false,
     "start_time": "2024-11-13T17:32:03.773055",
     "status": "completed"
    },
    "tags": []
   },
   "source": [
    "Here we import the required libraries"
   ]
  },
  {
   "cell_type": "code",
   "execution_count": 36,
   "metadata": {
    "colab": {
     "base_uri": "https://localhost:8080/"
    },
    "id": "UKONkhWpNqOi",
    "outputId": "a559ca89-e6e7-4bba-a281-6687b58d5de9",
    "papermill": {
     "duration": 12.744006,
     "end_time": "2024-11-13T17:32:16.555337",
     "exception": false,
     "start_time": "2024-11-13T17:32:03.811331",
     "status": "completed"
    },
    "tags": []
   },
   "outputs": [
    {
     "name": "stdout",
     "output_type": "stream",
     "text": [
      "Requirement already satisfied: google in c:\\users\\manza\\anaconda3\\lib\\site-packages (3.0.0)\n",
      "Requirement already satisfied: wandb in c:\\users\\manza\\anaconda3\\lib\\site-packages (0.19.6)\n",
      "Requirement already satisfied: beautifulsoup4 in c:\\users\\manza\\anaconda3\\lib\\site-packages (from google) (4.12.3)\n",
      "Requirement already satisfied: click!=8.0.0,>=7.1 in c:\\users\\manza\\anaconda3\\lib\\site-packages (from wandb) (8.1.7)\n",
      "Requirement already satisfied: docker-pycreds>=0.4.0 in c:\\users\\manza\\anaconda3\\lib\\site-packages (from wandb) (0.4.0)\n",
      "Collecting gitpython!=3.1.29,>=1.0.0 (from wandb)\n",
      "  Downloading GitPython-3.1.44-py3-none-any.whl.metadata (13 kB)\n",
      "Requirement already satisfied: platformdirs in c:\\users\\manza\\anaconda3\\lib\\site-packages (from wandb) (3.10.0)\n",
      "Collecting protobuf!=4.21.0,!=5.28.0,<6,>=3.19.0 (from wandb)\n",
      "  Downloading protobuf-5.29.3-cp310-abi3-win_amd64.whl.metadata (592 bytes)\n",
      "Requirement already satisfied: psutil>=5.0.0 in c:\\users\\manza\\anaconda3\\lib\\site-packages (from wandb) (5.9.0)\n",
      "Requirement already satisfied: pydantic<3,>=2.6 in c:\\users\\manza\\anaconda3\\lib\\site-packages (from wandb) (2.10.6)\n",
      "Requirement already satisfied: pyyaml in c:\\users\\manza\\anaconda3\\lib\\site-packages (from wandb) (6.0.1)\n",
      "Requirement already satisfied: requests<3,>=2.0.0 in c:\\users\\manza\\anaconda3\\lib\\site-packages (from wandb) (2.32.3)\n",
      "Requirement already satisfied: sentry-sdk>=2.0.0 in c:\\users\\manza\\anaconda3\\lib\\site-packages (from wandb) (2.18.0)\n",
      "Requirement already satisfied: setproctitle in c:\\users\\manza\\anaconda3\\lib\\site-packages (from wandb) (1.3.4)\n",
      "Requirement already satisfied: setuptools in c:\\users\\manza\\anaconda3\\lib\\site-packages (from wandb) (75.1.0)\n",
      "Requirement already satisfied: colorama in c:\\users\\manza\\anaconda3\\lib\\site-packages (from click!=8.0.0,>=7.1->wandb) (0.4.6)\n",
      "Requirement already satisfied: six>=1.4.0 in c:\\users\\manza\\anaconda3\\lib\\site-packages (from docker-pycreds>=0.4.0->wandb) (1.16.0)\n",
      "Collecting gitdb<5,>=4.0.1 (from gitpython!=3.1.29,>=1.0.0->wandb)\n",
      "  Downloading gitdb-4.0.12-py3-none-any.whl.metadata (1.2 kB)\n",
      "Requirement already satisfied: annotated-types>=0.6.0 in c:\\users\\manza\\anaconda3\\lib\\site-packages (from pydantic<3,>=2.6->wandb) (0.6.0)\n",
      "Requirement already satisfied: pydantic-core==2.27.2 in c:\\users\\manza\\anaconda3\\lib\\site-packages (from pydantic<3,>=2.6->wandb) (2.27.2)\n",
      "Requirement already satisfied: typing-extensions>=4.12.2 in c:\\users\\manza\\anaconda3\\lib\\site-packages (from pydantic<3,>=2.6->wandb) (4.12.2)\n",
      "Requirement already satisfied: charset-normalizer<4,>=2 in c:\\users\\manza\\anaconda3\\lib\\site-packages (from requests<3,>=2.0.0->wandb) (3.3.2)\n",
      "Requirement already satisfied: idna<4,>=2.5 in c:\\users\\manza\\anaconda3\\lib\\site-packages (from requests<3,>=2.0.0->wandb) (3.7)\n",
      "Requirement already satisfied: urllib3<3,>=1.21.1 in c:\\users\\manza\\anaconda3\\lib\\site-packages (from requests<3,>=2.0.0->wandb) (2.2.3)\n",
      "Requirement already satisfied: certifi>=2017.4.17 in c:\\users\\manza\\anaconda3\\lib\\site-packages (from requests<3,>=2.0.0->wandb) (2025.1.31)\n",
      "Requirement already satisfied: soupsieve>1.2 in c:\\users\\manza\\anaconda3\\lib\\site-packages (from beautifulsoup4->google) (2.5)\n",
      "Collecting smmap<6,>=3.0.1 (from gitdb<5,>=4.0.1->gitpython!=3.1.29,>=1.0.0->wandb)\n",
      "  Downloading smmap-5.0.2-py3-none-any.whl.metadata (4.3 kB)\n",
      "Downloading GitPython-3.1.44-py3-none-any.whl (207 kB)\n",
      "Downloading protobuf-5.29.3-cp310-abi3-win_amd64.whl (434 kB)\n",
      "Downloading gitdb-4.0.12-py3-none-any.whl (62 kB)\n",
      "Downloading smmap-5.0.2-py3-none-any.whl (24 kB)\n",
      "Installing collected packages: smmap, protobuf, gitdb, gitpython\n",
      "Successfully installed gitdb-4.0.12 gitpython-3.1.44 protobuf-5.29.3 smmap-5.0.2\n"
     ]
    }
   ],
   "source": [
    " # torchsummary\n",
    "!pip install google wandb"
   ]
  },
  {
   "cell_type": "code",
   "execution_count": 40,
   "metadata": {
    "colab": {
     "base_uri": "https://localhost:8080/",
     "height": 138,
     "referenced_widgets": [
      "7318400e0bc24be5a60c8319b9d65ea9",
      "e383bff44ad1440a81b4b0f44dcd8efc",
      "b2108d4860eb4e58bf2f9f0b4c7e9b82",
      "9442b7efa75348a48aa7ca8c87ccf80b",
      "96d8d91b8cf3400caaa88a6a0ac88ccb",
      "928ae5239baa40d782bd20bef2a97ead",
      "7df373052c9d4e3ebe73ff109739afd6",
      "660571d13bef46889080f8e84c223e75",
      "52de3c10459a444eae0d8fa5d2872695",
      "d4952f7351514946951a1e32e8cd1666",
      "fae5d014f72c448eb9c8d4a753f5e450"
     ]
    },
    "id": "wBEniAswNqOj",
    "outputId": "ad9ad150-a6a6-4215-9092-4d50eb6590a2",
    "papermill": {
     "duration": 9.315525,
     "end_time": "2024-11-13T17:32:25.890752",
     "exception": false,
     "start_time": "2024-11-13T17:32:16.575227",
     "status": "completed"
    },
    "tags": []
   },
   "outputs": [
    {
     "ename": "AttributeError",
     "evalue": "partially initialized module 'wandb' has no attribute 'errors' (most likely due to a circular import)",
     "output_type": "error",
     "traceback": [
      "\u001b[1;31m---------------------------------------------------------------------------\u001b[0m",
      "\u001b[1;31mAttributeError\u001b[0m                            Traceback (most recent call last)",
      "Cell \u001b[1;32mIn[40], line 15\u001b[0m\n\u001b[0;32m     13\u001b[0m \u001b[38;5;28;01mfrom\u001b[39;00m \u001b[38;5;21;01mfunctools\u001b[39;00m \u001b[38;5;28;01mimport\u001b[39;00m reduce\n\u001b[0;32m     14\u001b[0m \u001b[38;5;28;01mfrom\u001b[39;00m \u001b[38;5;21;01mitertools\u001b[39;00m \u001b[38;5;28;01mimport\u001b[39;00m islice\n\u001b[1;32m---> 15\u001b[0m \u001b[38;5;28;01mimport\u001b[39;00m \u001b[38;5;21;01mwandb\u001b[39;00m\n\u001b[0;32m     16\u001b[0m \u001b[38;5;28;01mimport\u001b[39;00m \u001b[38;5;21;01mmath\u001b[39;00m\n\u001b[0;32m     17\u001b[0m \u001b[38;5;28;01mfrom\u001b[39;00m \u001b[38;5;21;01mitertools\u001b[39;00m \u001b[38;5;28;01mimport\u001b[39;00m chain\n",
      "File \u001b[1;32m~\\anaconda3\\Lib\\site-packages\\wandb\\__init__.py:21\u001b[0m\n\u001b[0;32m     18\u001b[0m \u001b[38;5;66;03m# This needs to be early as other modules call it.\u001b[39;00m\n\u001b[0;32m     19\u001b[0m \u001b[38;5;28;01mfrom\u001b[39;00m \u001b[38;5;21;01mwandb\u001b[39;00m\u001b[38;5;21;01m.\u001b[39;00m\u001b[38;5;21;01merrors\u001b[39;00m\u001b[38;5;21;01m.\u001b[39;00m\u001b[38;5;21;01mterm\u001b[39;00m \u001b[38;5;28;01mimport\u001b[39;00m termsetup, termlog, termerror, termwarn\n\u001b[1;32m---> 21\u001b[0m \u001b[38;5;28;01mfrom\u001b[39;00m \u001b[38;5;21;01mwandb\u001b[39;00m \u001b[38;5;28;01mimport\u001b[39;00m sdk \u001b[38;5;28;01mas\u001b[39;00m wandb_sdk\n\u001b[0;32m     23\u001b[0m \u001b[38;5;28;01mimport\u001b[39;00m \u001b[38;5;21;01mwandb\u001b[39;00m\n\u001b[0;32m     25\u001b[0m wandb\u001b[38;5;241m.\u001b[39mwandb_lib \u001b[38;5;241m=\u001b[39m wandb_sdk\u001b[38;5;241m.\u001b[39mlib  \u001b[38;5;66;03m# type: ignore\u001b[39;00m\n",
      "File \u001b[1;32m~\\anaconda3\\Lib\\site-packages\\wandb\\sdk\\__init__.py:25\u001b[0m\n\u001b[0;32m      3\u001b[0m __all__ \u001b[38;5;241m=\u001b[39m (\n\u001b[0;32m      4\u001b[0m     \u001b[38;5;124m\"\u001b[39m\u001b[38;5;124mConfig\u001b[39m\u001b[38;5;124m\"\u001b[39m,\n\u001b[0;32m      5\u001b[0m     \u001b[38;5;124m\"\u001b[39m\u001b[38;5;124mSettings\u001b[39m\u001b[38;5;124m\"\u001b[39m,\n\u001b[1;32m   (...)\u001b[0m\n\u001b[0;32m     21\u001b[0m     \u001b[38;5;124m\"\u001b[39m\u001b[38;5;124mhelper\u001b[39m\u001b[38;5;124m\"\u001b[39m,\n\u001b[0;32m     22\u001b[0m )\n\u001b[0;32m     24\u001b[0m \u001b[38;5;28;01mfrom\u001b[39;00m \u001b[38;5;21;01m.\u001b[39;00m \u001b[38;5;28;01mimport\u001b[39;00m wandb_helper \u001b[38;5;28;01mas\u001b[39;00m helper\n\u001b[1;32m---> 25\u001b[0m \u001b[38;5;28;01mfrom\u001b[39;00m \u001b[38;5;21;01m.\u001b[39;00m\u001b[38;5;21;01martifacts\u001b[39;00m\u001b[38;5;21;01m.\u001b[39;00m\u001b[38;5;21;01martifact\u001b[39;00m \u001b[38;5;28;01mimport\u001b[39;00m Artifact\n\u001b[0;32m     26\u001b[0m \u001b[38;5;28;01mfrom\u001b[39;00m \u001b[38;5;21;01m.\u001b[39;00m\u001b[38;5;21;01mwandb_alerts\u001b[39;00m \u001b[38;5;28;01mimport\u001b[39;00m AlertLevel\n\u001b[0;32m     27\u001b[0m \u001b[38;5;28;01mfrom\u001b[39;00m \u001b[38;5;21;01m.\u001b[39;00m\u001b[38;5;21;01mwandb_config\u001b[39;00m \u001b[38;5;28;01mimport\u001b[39;00m Config\n",
      "File \u001b[1;32m~\\anaconda3\\Lib\\site-packages\\wandb\\sdk\\artifacts\\artifact.py:41\u001b[0m\n\u001b[0;32m     39\u001b[0m \u001b[38;5;28;01mfrom\u001b[39;00m \u001b[38;5;21;01mwandb\u001b[39;00m \u001b[38;5;28;01mimport\u001b[39;00m data_types, env, util\n\u001b[0;32m     40\u001b[0m \u001b[38;5;28;01mfrom\u001b[39;00m \u001b[38;5;21;01mwandb\u001b[39;00m\u001b[38;5;21;01m.\u001b[39;00m\u001b[38;5;21;01mapis\u001b[39;00m\u001b[38;5;21;01m.\u001b[39;00m\u001b[38;5;21;01mnormalize\u001b[39;00m \u001b[38;5;28;01mimport\u001b[39;00m normalize_exceptions\n\u001b[1;32m---> 41\u001b[0m \u001b[38;5;28;01mfrom\u001b[39;00m \u001b[38;5;21;01mwandb\u001b[39;00m\u001b[38;5;21;01m.\u001b[39;00m\u001b[38;5;21;01mapis\u001b[39;00m\u001b[38;5;21;01m.\u001b[39;00m\u001b[38;5;21;01mpublic\u001b[39;00m \u001b[38;5;28;01mimport\u001b[39;00m ArtifactCollection, ArtifactFiles, RetryingClient, Run\n\u001b[0;32m     42\u001b[0m \u001b[38;5;28;01mfrom\u001b[39;00m \u001b[38;5;21;01mwandb\u001b[39;00m\u001b[38;5;21;01m.\u001b[39;00m\u001b[38;5;21;01mdata_types\u001b[39;00m \u001b[38;5;28;01mimport\u001b[39;00m WBValue\n\u001b[0;32m     43\u001b[0m \u001b[38;5;28;01mfrom\u001b[39;00m \u001b[38;5;21;01mwandb\u001b[39;00m\u001b[38;5;21;01m.\u001b[39;00m\u001b[38;5;21;01merrors\u001b[39;00m\u001b[38;5;21;01m.\u001b[39;00m\u001b[38;5;21;01mterm\u001b[39;00m \u001b[38;5;28;01mimport\u001b[39;00m termerror, termlog, termwarn\n",
      "File \u001b[1;32m~\\anaconda3\\Lib\\site-packages\\wandb\\apis\\__init__.py:43\u001b[0m\n\u001b[0;32m     38\u001b[0m     _disable_ssl()\n\u001b[0;32m     41\u001b[0m reset_path \u001b[38;5;241m=\u001b[39m util\u001b[38;5;241m.\u001b[39mvendor_setup()\n\u001b[1;32m---> 43\u001b[0m \u001b[38;5;28;01mfrom\u001b[39;00m \u001b[38;5;21;01m.\u001b[39;00m\u001b[38;5;21;01minternal\u001b[39;00m \u001b[38;5;28;01mimport\u001b[39;00m Api \u001b[38;5;28;01mas\u001b[39;00m InternalApi  \u001b[38;5;66;03m# noqa\u001b[39;00m\n\u001b[0;32m     44\u001b[0m \u001b[38;5;28;01mfrom\u001b[39;00m \u001b[38;5;21;01m.\u001b[39;00m\u001b[38;5;21;01mpublic\u001b[39;00m \u001b[38;5;28;01mimport\u001b[39;00m Api \u001b[38;5;28;01mas\u001b[39;00m PublicApi  \u001b[38;5;66;03m# noqa\u001b[39;00m\n\u001b[0;32m     46\u001b[0m reset_path()\n",
      "File \u001b[1;32m~\\anaconda3\\Lib\\site-packages\\wandb\\apis\\internal.py:3\u001b[0m\n\u001b[0;32m      1\u001b[0m \u001b[38;5;28;01mfrom\u001b[39;00m \u001b[38;5;21;01mtyping\u001b[39;00m \u001b[38;5;28;01mimport\u001b[39;00m Any\n\u001b[1;32m----> 3\u001b[0m \u001b[38;5;28;01mfrom\u001b[39;00m \u001b[38;5;21;01mwandb\u001b[39;00m\u001b[38;5;21;01m.\u001b[39;00m\u001b[38;5;21;01msdk\u001b[39;00m\u001b[38;5;21;01m.\u001b[39;00m\u001b[38;5;21;01minternal\u001b[39;00m\u001b[38;5;21;01m.\u001b[39;00m\u001b[38;5;21;01minternal_api\u001b[39;00m \u001b[38;5;28;01mimport\u001b[39;00m Api \u001b[38;5;28;01mas\u001b[39;00m InternalApi\n\u001b[0;32m      6\u001b[0m \u001b[38;5;28;01mclass\u001b[39;00m \u001b[38;5;21;01mApi\u001b[39;00m:\n\u001b[0;32m      7\u001b[0m \u001b[38;5;250m    \u001b[39m\u001b[38;5;124;03m\"\"\"Internal proxy to the official internal API.\"\"\"\u001b[39;00m\n",
      "File \u001b[1;32m~\\anaconda3\\Lib\\site-packages\\wandb\\sdk\\internal\\internal_api.py:51\u001b[0m\n\u001b[0;32m     48\u001b[0m \u001b[38;5;28;01mfrom\u001b[39;00m \u001b[38;5;21;01mwandb\u001b[39;00m\u001b[38;5;21;01m.\u001b[39;00m\u001b[38;5;21;01msdk\u001b[39;00m\u001b[38;5;21;01m.\u001b[39;00m\u001b[38;5;21;01mlib\u001b[39;00m\u001b[38;5;21;01m.\u001b[39;00m\u001b[38;5;21;01mgql_request\u001b[39;00m \u001b[38;5;28;01mimport\u001b[39;00m GraphQLSession\n\u001b[0;32m     49\u001b[0m \u001b[38;5;28;01mfrom\u001b[39;00m \u001b[38;5;21;01mwandb\u001b[39;00m\u001b[38;5;21;01m.\u001b[39;00m\u001b[38;5;21;01msdk\u001b[39;00m\u001b[38;5;21;01m.\u001b[39;00m\u001b[38;5;21;01mlib\u001b[39;00m\u001b[38;5;21;01m.\u001b[39;00m\u001b[38;5;21;01mhashutil\u001b[39;00m \u001b[38;5;28;01mimport\u001b[39;00m B64MD5, md5_file_b64\n\u001b[1;32m---> 51\u001b[0m \u001b[38;5;28;01mfrom\u001b[39;00m \u001b[38;5;21;01m.\u001b[39;00m\u001b[38;5;21;01m.\u001b[39;00m\u001b[38;5;21;01mlib\u001b[39;00m \u001b[38;5;28;01mimport\u001b[39;00m credentials, retry\n\u001b[0;32m     52\u001b[0m \u001b[38;5;28;01mfrom\u001b[39;00m \u001b[38;5;21;01m.\u001b[39;00m\u001b[38;5;21;01m.\u001b[39;00m\u001b[38;5;21;01mlib\u001b[39;00m\u001b[38;5;21;01m.\u001b[39;00m\u001b[38;5;21;01mfilenames\u001b[39;00m \u001b[38;5;28;01mimport\u001b[39;00m DIFF_FNAME, METADATA_FNAME\n\u001b[0;32m     53\u001b[0m \u001b[38;5;28;01mfrom\u001b[39;00m \u001b[38;5;21;01m.\u001b[39;00m\u001b[38;5;21;01m.\u001b[39;00m\u001b[38;5;21;01mlib\u001b[39;00m\u001b[38;5;21;01m.\u001b[39;00m\u001b[38;5;21;01mgitlib\u001b[39;00m \u001b[38;5;28;01mimport\u001b[39;00m GitRepo\n",
      "File \u001b[1;32m~\\anaconda3\\Lib\\site-packages\\wandb\\sdk\\lib\\retry.py:28\u001b[0m\n\u001b[0;32m     24\u001b[0m SLEEP_FN \u001b[38;5;241m=\u001b[39m time\u001b[38;5;241m.\u001b[39msleep\n\u001b[0;32m     25\u001b[0m SLEEP_ASYNC_FN \u001b[38;5;241m=\u001b[39m asyncio\u001b[38;5;241m.\u001b[39msleep\n\u001b[1;32m---> 28\u001b[0m \u001b[38;5;28;01mclass\u001b[39;00m \u001b[38;5;21;01mRetryCancelledError\u001b[39;00m(wandb\u001b[38;5;241m.\u001b[39merrors\u001b[38;5;241m.\u001b[39mError):\n\u001b[0;32m     29\u001b[0m \u001b[38;5;250m    \u001b[39m\u001b[38;5;124;03m\"\"\"A retry did not occur because it was cancelled.\"\"\"\u001b[39;00m\n\u001b[0;32m     32\u001b[0m \u001b[38;5;28;01mclass\u001b[39;00m \u001b[38;5;21;01mTransientError\u001b[39;00m(\u001b[38;5;167;01mException\u001b[39;00m):\n",
      "\u001b[1;31mAttributeError\u001b[0m: partially initialized module 'wandb' has no attribute 'errors' (most likely due to a circular import)"
     ]
    }
   ],
   "source": [
    "# This Python 3 environment comes with many helpful analytics libraries installed\n",
    "# It is defined by the kaggle/python Docker image: https://github.com/kaggle/docker-python\n",
    "# For example, here's several helpful packages to load\n",
    "from __future__ import print_function, division\n",
    "\n",
    "from tqdm.notebook import tqdm\n",
    "tqdm.pandas()\n",
    "\n",
    "\n",
    "import numpy as np # linear algebra\n",
    "import pandas as pd # data processing, CSV file I/O (e.g. pd.read_csv)\n",
    "from numpy.typing import NDArray\n",
    "from functools import reduce\n",
    "from itertools import islice\n",
    "import wandb\n",
    "import math\n",
    "from itertools import chain\n",
    "import copy\n",
    "from PIL import Image\n",
    "\n",
    "import torch\n",
    "from torch import nn\n",
    "from torch import Tensor\n",
    "from torch.optim import Optimizer\n",
    "import torch.nn.functional as F\n",
    "import torchvision\n",
    "from torch.utils.data import Dataset, DataLoader\n",
    "from torchvision import transforms, utils\n",
    "from torchsummary import summary\n",
    "# Import albumentations library in order to -use pre-built augmentations\n",
    "import albumentations as A\n",
    "\n",
    "from sklearn.model_selection import train_test_split\n",
    "from multiprocessing import cpu_count\n",
    "\n",
    "import os\n",
    "import torch\n",
    "import os.path as osp\n",
    "from skimage import io, transform\n",
    "import matplotlib.pyplot as plt\n",
    "import typing as ty\n",
    "import cv2\n",
    "\n",
    "\n",
    "plt.ion()   # interactive mode\n",
    "\n",
    "# Input data files are available in the read-only \"../input/\" directory\n",
    "# For example, running this (by clicking run or pressing Shift+Enter) will list all files under the input directory\n",
    "\n",
    "for root, dirs, filenames in os.walk('/kaggle/input'):\n",
    "    for i, filepath in enumerate(filenames):\n",
    "        if i >= 10:\n",
    "            print()\n",
    "            break\n",
    "        print(osp.join(root, filepath))\n",
    "\n",
    "# You can write up to 20GB to the current directory (/kaggle/working/) that gets preserved as output when you create a version using \"Save & Run All\"\n",
    "# You can also write temporary files to /kaggle/temp/, but they won't be saved outside of the current session"
   ]
  },
  {
   "cell_type": "markdown",
   "metadata": {
    "id": "AQCYpA_kNqOl",
    "papermill": {
     "duration": 0.025262,
     "end_time": "2024-11-13T17:32:25.940491",
     "exception": false,
     "start_time": "2024-11-13T17:32:25.915229",
     "status": "completed"
    },
    "tags": []
   },
   "source": [
    "## Creating dataset structure"
   ]
  },
  {
   "cell_type": "code",
   "execution_count": 5,
   "metadata": {
    "colab": {
     "base_uri": "https://localhost:8080/"
    },
    "execution": {
     "iopub.execute_input": "2025-02-10T22:55:19.285638Z",
     "iopub.status.busy": "2025-02-10T22:55:19.285152Z",
     "iopub.status.idle": "2025-02-10T22:55:19.43358Z",
     "shell.execute_reply": "2025-02-10T22:55:19.432866Z",
     "shell.execute_reply.started": "2025-02-10T22:55:19.285612Z"
    },
    "id": "etW7OZ-pNqOm",
    "outputId": "b28ecc67-4639-47e4-b19b-aac31fe78c90",
    "papermill": {
     "duration": 0.284911,
     "end_time": "2024-11-13T17:32:26.248989",
     "exception": false,
     "start_time": "2024-11-13T17:32:25.964078",
     "status": "completed"
    },
    "tags": []
   },
   "outputs": [
    {
     "name": "stdout",
     "output_type": "stream",
     "text": [
      "Using cuda\n"
     ]
    }
   ],
   "source": [
    "torch.manual_seed(32)\n",
    "device = 'cuda' if torch.cuda.is_available() else 'cpu'\n",
    "print(f'Using {device}')\n",
    "test = torch.ones((100, 100)).to(device)\n",
    "del test\n",
    "torch.cuda.empty_cache()"
   ]
  },
  {
   "cell_type": "markdown",
   "metadata": {
    "id": "7upnv5loNqOr",
    "papermill": {
     "duration": 0.019671,
     "end_time": "2024-11-13T17:32:26.289527",
     "exception": false,
     "start_time": "2024-11-13T17:32:26.269856",
     "status": "completed"
    },
    "tags": []
   },
   "source": [
    "This is done in order to control randomness."
   ]
  },
  {
   "cell_type": "code",
   "execution_count": 7,
   "metadata": {
    "execution": {
     "iopub.execute_input": "2025-02-10T23:26:19.255561Z",
     "iopub.status.busy": "2025-02-10T23:26:19.255159Z",
     "iopub.status.idle": "2025-02-10T23:26:19.266025Z",
     "shell.execute_reply": "2025-02-10T23:26:19.265142Z",
     "shell.execute_reply.started": "2025-02-10T23:26:19.255529Z"
    },
    "id": "wrS9Xfh3NqOr",
    "papermill": {
     "duration": 0.04648,
     "end_time": "2024-11-13T17:32:26.356236",
     "exception": false,
     "start_time": "2024-11-13T17:32:26.309756",
     "status": "completed"
    },
    "tags": []
   },
   "outputs": [],
   "source": [
    "DATA_DIR = aa_iv_2025_i_object_localization_path\n",
    "WORK_DIR = '/kaggle/working'\n",
    "BATCH_SIZE = 32\n",
    "\n",
    "img_dir = osp.join(DATA_DIR, \"images/images\")\n",
    "\n",
    "df = pd.read_csv(osp.join(DATA_DIR, \"train.csv\"))\n",
    "\n",
    "obj2id  = {'f16':0,'cougar':1,'chinook':2,'ah64':3,'f15':4,'seahawk':5}\n",
    "\n",
    "id2obj  = {0:'f16',1:'cougar',2:'chinook',3:'ah64',4:'f15',5:'seahawk'}\n",
    "\n",
    "df[\"class_id\"] = df[\"class\"].map(obj2id)\n",
    "\n",
    "columns_f=['filename','xmin','ymin','xmax','ymax','class','class_id']\n",
    "\n",
    "df= df[columns_f].copy()"
   ]
  },
  {
   "cell_type": "code",
   "execution_count": 8,
   "metadata": {
    "execution": {
     "iopub.execute_input": "2025-02-10T23:18:43.320751Z",
     "iopub.status.busy": "2025-02-10T23:18:43.320417Z",
     "iopub.status.idle": "2025-02-10T23:18:43.37404Z",
     "shell.execute_reply": "2025-02-10T23:18:43.373392Z",
     "shell.execute_reply.started": "2025-02-10T23:18:43.320723Z"
    },
    "id": "mHX7ZkXkNqOt"
   },
   "outputs": [],
   "source": [
    "img_filename = osp.join(DATA_DIR, \"images/images\",'image_00077.jpeg')\n",
    "\n",
    "img1 = cv2.imread(img_filename)\n",
    "img1 = cv2.cvtColor(img1, cv2.COLOR_BGR2RGB)\n",
    "img2 = io.imread(img_filename) # no necesita bgr2rgb"
   ]
  },
  {
   "cell_type": "code",
   "execution_count": 9,
   "metadata": {
    "colab": {
     "base_uri": "https://localhost:8080/"
    },
    "execution": {
     "iopub.execute_input": "2025-02-10T23:18:52.263583Z",
     "iopub.status.busy": "2025-02-10T23:18:52.263197Z",
     "iopub.status.idle": "2025-02-10T23:18:52.268689Z",
     "shell.execute_reply": "2025-02-10T23:18:52.267813Z",
     "shell.execute_reply.started": "2025-02-10T23:18:52.26355Z"
    },
    "id": "pQWAAKnHNqOu",
    "outputId": "e5986643-08a5-4f35-ee4c-2261cec32e76"
   },
   "outputs": [
    {
     "name": "stdout",
     "output_type": "stream",
     "text": [
      "(720, 1280, 3)\n",
      "(3, 720, 1280)\n"
     ]
    }
   ],
   "source": [
    "print(img1.shape)\n",
    "print(img1.transpose((2,0,1)).shape)"
   ]
  },
  {
   "cell_type": "code",
   "execution_count": 10,
   "metadata": {
    "colab": {
     "base_uri": "https://localhost:8080/"
    },
    "execution": {
     "iopub.execute_input": "2025-02-10T22:55:22.327945Z",
     "iopub.status.busy": "2025-02-10T22:55:22.327625Z",
     "iopub.status.idle": "2025-02-10T22:55:24.192253Z",
     "shell.execute_reply": "2025-02-10T22:55:24.191393Z",
     "shell.execute_reply.started": "2025-02-10T22:55:22.327921Z"
    },
    "id": "HdP0AqTjNqOu",
    "outputId": "8f064e54-5981-46d8-c370-edf83d7f14df"
   },
   "outputs": [
    {
     "name": "stderr",
     "output_type": "stream",
     "text": [
      "100%|████████████████████████████████████████████████████████████████████████████████████████████████████████████| 189/189 [00:04<00:00, 45.32it/s]\n"
     ]
    }
   ],
   "source": [
    "list_image = list(df.filename)\n",
    "data_shape = []\n",
    "data_dim = []\n",
    "data_w = []\n",
    "data_h = []\n",
    "\n",
    "for i in tqdm(list_image): ## tqdm(list_image)dura 40 segundos\n",
    "    ruta_imagen = osp.join(img_dir, i)\n",
    "    imagen = io.imread(ruta_imagen)\n",
    "    shapes = imagen.shape\n",
    "    dimen = imagen.ndim\n",
    "    imagen = Image.open(ruta_imagen)\n",
    "    w, h = imagen.size\n",
    "    data_w.append(w)\n",
    "    data_h.append(h)\n",
    "    data_shape.append(shapes)\n",
    "    data_dim.append(dimen)\n",
    "\n",
    "data_w_h = pd.DataFrame([list_image,data_shape,data_dim,data_w,data_h]).T.rename(columns={0:'filename',1:'shapes',2:'ndim',3:'w',4:'h'})"
   ]
  },
  {
   "cell_type": "code",
   "execution_count": 11,
   "metadata": {
    "colab": {
     "base_uri": "https://localhost:8080/"
    },
    "id": "J7xZSL6aNqOv",
    "outputId": "1df95113-40c0-4f23-9586-d09537009f11"
   },
   "outputs": [
    {
     "data": {
      "text/plain": [
       "w\n",
       "1280    189\n",
       "Name: count, dtype: int64"
      ]
     },
     "execution_count": 11,
     "metadata": {},
     "output_type": "execute_result"
    }
   ],
   "source": [
    "data_w_h['w'].value_counts()"
   ]
  },
  {
   "cell_type": "code",
   "execution_count": 12,
   "metadata": {
    "colab": {
     "base_uri": "https://localhost:8080/"
    },
    "id": "QiHOgbAVNqOv",
    "outputId": "29ffa7e0-27db-427b-f09e-7525835e8305"
   },
   "outputs": [
    {
     "data": {
      "text/plain": [
       "ndim\n",
       "3    189\n",
       "Name: count, dtype: int64"
      ]
     },
     "execution_count": 12,
     "metadata": {},
     "output_type": "execute_result"
    }
   ],
   "source": [
    "data_w_h['ndim'].value_counts()\n"
   ]
  },
  {
   "cell_type": "code",
   "execution_count": 13,
   "metadata": {
    "colab": {
     "base_uri": "https://localhost:8080/"
    },
    "id": "CY-WeuxqNqOw",
    "outputId": "c05ff24a-a44f-4b69-a3a3-b999f80bf54e"
   },
   "outputs": [
    {
     "data": {
      "text/plain": [
       "shapes\n",
       "(720, 1280, 3)    189\n",
       "Name: count, dtype: int64"
      ]
     },
     "execution_count": 13,
     "metadata": {},
     "output_type": "execute_result"
    }
   ],
   "source": [
    "data_w_h['shapes'].value_counts()"
   ]
  },
  {
   "cell_type": "code",
   "execution_count": 14,
   "metadata": {
    "colab": {
     "base_uri": "https://localhost:8080/"
    },
    "id": "aBVasC9bNqOw",
    "outputId": "26fc7018-6cf8-4183-df03-b947441db54c"
   },
   "outputs": [
    {
     "data": {
      "text/plain": [
       "class_id\n",
       "0    41\n",
       "1    37\n",
       "2    35\n",
       "3    34\n",
       "4    23\n",
       "5    19\n",
       "Name: count, dtype: int64"
      ]
     },
     "execution_count": 14,
     "metadata": {},
     "output_type": "execute_result"
    }
   ],
   "source": [
    "df['class_id'].value_counts()"
   ]
  },
  {
   "cell_type": "code",
   "execution_count": 15,
   "metadata": {
    "colab": {
     "base_uri": "https://localhost:8080/"
    },
    "id": "nnQA21kyNqOw",
    "outputId": "c291e568-ddc2-4489-fb38-c815b46af3e7"
   },
   "outputs": [
    {
     "data": {
      "text/plain": [
       "class\n",
       "f16        41\n",
       "cougar     37\n",
       "chinook    35\n",
       "ah64       34\n",
       "f15        23\n",
       "seahawk    19\n",
       "Name: count, dtype: int64"
      ]
     },
     "execution_count": 15,
     "metadata": {},
     "output_type": "execute_result"
    }
   ],
   "source": [
    "df['class'].value_counts()"
   ]
  },
  {
   "cell_type": "code",
   "execution_count": 16,
   "metadata": {
    "colab": {
     "base_uri": "https://localhost:8080/"
    },
    "id": "qceMF4C4NqOx",
    "outputId": "72fd68b5-1f47-49fc-e310-09933ccdcd37"
   },
   "outputs": [
    {
     "data": {
      "text/plain": [
       "((0, 7), (0, 7))"
      ]
     },
     "execution_count": 16,
     "metadata": {},
     "output_type": "execute_result"
    }
   ],
   "source": [
    "df[df['xmin']>=df['xmax']].shape, df[df['ymin']>=df['ymax']].shape"
   ]
  },
  {
   "cell_type": "code",
   "execution_count": 17,
   "metadata": {
    "execution": {
     "iopub.execute_input": "2025-02-10T22:55:26.88343Z",
     "iopub.status.busy": "2025-02-10T22:55:26.882981Z",
     "iopub.status.idle": "2025-02-10T22:55:26.887758Z",
     "shell.execute_reply": "2025-02-10T22:55:26.886815Z",
     "shell.execute_reply.started": "2025-02-10T22:55:26.883387Z"
    },
    "id": "xvz1BTFENqOx"
   },
   "outputs": [],
   "source": [
    "h_real=720\n",
    "w_real=1280\n",
    "h, w, c = 255, 400, 3 # The heigh, width and number of channels of each image"
   ]
  },
  {
   "cell_type": "markdown",
   "metadata": {
    "id": "VF0IkboTNqOx"
   },
   "source": [
    "normalizamos los bboxes"
   ]
  },
  {
   "cell_type": "code",
   "execution_count": 18,
   "metadata": {
    "colab": {
     "base_uri": "https://localhost:8080/"
    },
    "execution": {
     "iopub.execute_input": "2025-02-10T23:22:45.31284Z",
     "iopub.status.busy": "2025-02-10T23:22:45.31249Z",
     "iopub.status.idle": "2025-02-10T23:22:45.3293Z",
     "shell.execute_reply": "2025-02-10T23:22:45.328325Z",
     "shell.execute_reply.started": "2025-02-10T23:22:45.312807Z"
    },
    "id": "iDefiSkCNqOy",
    "outputId": "1fc05a6f-fdf2-4709-f2ea-e1d389b626f1"
   },
   "outputs": [
    {
     "name": "stdout",
     "output_type": "stream",
     "text": [
      "             ymin        ymax        xmin         xmax\n",
      "count  189.000000  189.000000  189.000000   189.000000\n",
      "mean   186.396825  425.455026  401.238095   902.666667\n",
      "std    112.079883  103.348946  232.361996   213.588688\n",
      "min      1.000000  154.000000    1.000000   298.000000\n",
      "25%    109.000000  359.000000  210.000000   730.000000\n",
      "50%    188.000000  417.000000  418.000000   901.000000\n",
      "75%    267.000000  494.000000  572.000000  1071.000000\n",
      "max    440.000000  702.000000  944.000000  1280.000000\n"
     ]
    }
   ],
   "source": [
    "print(df[[\"ymin\", \"ymax\", \"xmin\", \"xmax\"]].describe())"
   ]
  },
  {
   "cell_type": "code",
   "execution_count": 19,
   "metadata": {
    "execution": {
     "iopub.execute_input": "2025-02-10T23:23:49.090622Z",
     "iopub.status.busy": "2025-02-10T23:23:49.090302Z",
     "iopub.status.idle": "2025-02-10T23:23:49.097654Z",
     "shell.execute_reply": "2025-02-10T23:23:49.096707Z",
     "shell.execute_reply.started": "2025-02-10T23:23:49.090595Z"
    },
    "id": "XPkwcdksNqOy",
    "papermill": {
     "duration": 0.030265,
     "end_time": "2024-11-13T17:32:26.519812",
     "exception": false,
     "start_time": "2024-11-13T17:32:26.489547",
     "status": "completed"
    },
    "tags": []
   },
   "outputs": [],
   "source": [
    "# Normalizar las columnas ymin, ymax, xmin, xmax\n",
    "df[[\"ymin\", \"ymax\"]] = df[[\"ymin\", \"ymax\"]].div(h_real, axis=0)\n",
    "df[[\"xmin\", \"xmax\"]] = df[[\"xmin\", \"xmax\"]].div(w_real, axis=0)\n"
   ]
  },
  {
   "cell_type": "code",
   "execution_count": 20,
   "metadata": {
    "colab": {
     "base_uri": "https://localhost:8080/"
    },
    "execution": {
     "iopub.execute_input": "2025-02-10T23:23:50.834292Z",
     "iopub.status.busy": "2025-02-10T23:23:50.833964Z",
     "iopub.status.idle": "2025-02-10T23:23:50.848536Z",
     "shell.execute_reply": "2025-02-10T23:23:50.847844Z",
     "shell.execute_reply.started": "2025-02-10T23:23:50.834249Z"
    },
    "id": "ViH5dZIvNqOy",
    "outputId": "d5ad9ffd-2ccb-44d7-ead1-0fb9e6ec5b46"
   },
   "outputs": [
    {
     "name": "stdout",
     "output_type": "stream",
     "text": [
      "             ymin        ymax        xmin        xmax\n",
      "count  189.000000  189.000000  189.000000  189.000000\n",
      "mean     0.258884    0.590910    0.313467    0.705208\n",
      "std      0.155667    0.143540    0.181533    0.166866\n",
      "min      0.001389    0.213889    0.000781    0.232813\n",
      "25%      0.151389    0.498611    0.164062    0.570312\n",
      "50%      0.261111    0.579167    0.326562    0.703906\n",
      "75%      0.370833    0.686111    0.446875    0.836719\n",
      "max      0.611111    0.975000    0.737500    1.000000\n"
     ]
    }
   ],
   "source": [
    "print(df[[\"ymin\", \"ymax\", \"xmin\", \"xmax\"]].describe())"
   ]
  },
  {
   "cell_type": "code",
   "execution_count": null,
   "metadata": {
    "execution": {
     "iopub.execute_input": "2025-02-10T23:24:25.246364Z",
     "iopub.status.busy": "2025-02-10T23:24:25.246012Z",
     "iopub.status.idle": "2025-02-10T23:24:25.25834Z",
     "shell.execute_reply": "2025-02-10T23:24:25.257494Z",
     "shell.execute_reply.started": "2025-02-10T23:24:25.246331Z"
    },
    "id": "wLEImN26NqOz"
   },
   "outputs": [],
   "source": [
    "df"
   ]
  },
  {
   "cell_type": "code",
   "execution_count": 21,
   "metadata": {
    "colab": {
     "base_uri": "https://localhost:8080/"
    },
    "execution": {
     "iopub.execute_input": "2025-02-10T22:55:32.04343Z",
     "iopub.status.busy": "2025-02-10T22:55:32.042994Z",
     "iopub.status.idle": "2025-02-10T22:55:32.053178Z",
     "shell.execute_reply": "2025-02-10T22:55:32.0522Z",
     "shell.execute_reply.started": "2025-02-10T22:55:32.043391Z"
    },
    "id": "KQno5xZFNqOz",
    "outputId": "21b9515d-bf29-4c98-f9cb-8e5794e5a776",
    "papermill": {
     "duration": 0.033062,
     "end_time": "2024-11-13T17:32:26.57283",
     "exception": false,
     "start_time": "2024-11-13T17:32:26.539768",
     "status": "completed"
    },
    "tags": []
   },
   "outputs": [
    {
     "name": "stdout",
     "output_type": "stream",
     "text": [
      "(141, 7)\n",
      "(48, 7)\n"
     ]
    }
   ],
   "source": [
    "train_df, val_df = train_test_split(\n",
    "    df, stratify=df['class_id'], test_size=0.25, random_state=42\n",
    ")\n",
    "\n",
    "print(train_df.shape)\n",
    "print(val_df.shape)\n"
   ]
  },
  {
   "cell_type": "markdown",
   "metadata": {
    "id": "nm48OSajNqO0",
    "papermill": {
     "duration": 0.019623,
     "end_time": "2024-11-13T17:32:26.664626",
     "exception": false,
     "start_time": "2024-11-13T17:32:26.645003",
     "status": "completed"
    },
    "tags": []
   },
   "source": [
    "The training set contians information about the class at each image and the corresponding bounding box."
   ]
  },
  {
   "cell_type": "code",
   "execution_count": 22,
   "metadata": {
    "colab": {
     "base_uri": "https://localhost:8080/"
    },
    "execution": {
     "iopub.execute_input": "2025-02-10T23:32:55.72669Z",
     "iopub.status.busy": "2025-02-10T23:32:55.726345Z",
     "iopub.status.idle": "2025-02-10T23:32:55.734032Z",
     "shell.execute_reply": "2025-02-10T23:32:55.733298Z",
     "shell.execute_reply.started": "2025-02-10T23:32:55.726663Z"
    },
    "id": "dVy1oubuNqO0",
    "outputId": "81eed523-7b3c-4ba5-a35a-2b254da01b03",
    "papermill": {
     "duration": 0.035187,
     "end_time": "2024-11-13T17:32:26.780932",
     "exception": false,
     "start_time": "2024-11-13T17:32:26.745745",
     "status": "completed"
    },
    "tags": []
   },
   "outputs": [
    {
     "data": {
      "text/plain": [
       "class\n",
       "f16        21.985816\n",
       "cougar     19.858156\n",
       "chinook    18.439716\n",
       "ah64       17.730496\n",
       "f15        12.056738\n",
       "seahawk     9.929078\n",
       "Name: proportion, dtype: float64"
      ]
     },
     "execution_count": 22,
     "metadata": {},
     "output_type": "execute_result"
    }
   ],
   "source": [
    "train_df['class'].value_counts(1) * 100"
   ]
  },
  {
   "cell_type": "code",
   "execution_count": 23,
   "metadata": {
    "colab": {
     "base_uri": "https://localhost:8080/"
    },
    "execution": {
     "iopub.execute_input": "2025-02-10T23:33:01.797562Z",
     "iopub.status.busy": "2025-02-10T23:33:01.79721Z",
     "iopub.status.idle": "2025-02-10T23:33:01.804607Z",
     "shell.execute_reply": "2025-02-10T23:33:01.803687Z",
     "shell.execute_reply.started": "2025-02-10T23:33:01.79753Z"
    },
    "id": "x_sKUqu-NqO0",
    "outputId": "fb2c555f-02b2-4630-bd58-b6c06efa233d",
    "papermill": {
     "duration": 0.033494,
     "end_time": "2024-11-13T17:32:26.834923",
     "exception": false,
     "start_time": "2024-11-13T17:32:26.801429",
     "status": "completed"
    },
    "tags": []
   },
   "outputs": [
    {
     "data": {
      "text/plain": [
       "class_id\n",
       "0    20.833333\n",
       "2    18.750000\n",
       "1    18.750000\n",
       "3    18.750000\n",
       "4    12.500000\n",
       "5    10.416667\n",
       "Name: proportion, dtype: float64"
      ]
     },
     "execution_count": 23,
     "metadata": {},
     "output_type": "execute_result"
    }
   ],
   "source": [
    "val_df['class_id'].value_counts(1) * 100"
   ]
  },
  {
   "cell_type": "markdown",
   "metadata": {
    "id": "fSEV58eMNqO1",
    "papermill": {
     "duration": 0.020356,
     "end_time": "2024-11-13T17:32:26.884084",
     "exception": false,
     "start_time": "2024-11-13T17:32:26.863728",
     "status": "completed"
    },
    "tags": []
   },
   "source": [
    "But the test set only contains the filename of each image, so we have to generate predictions and send it to the Kaggle competition."
   ]
  },
  {
   "cell_type": "code",
   "execution_count": 24,
   "metadata": {
    "_kg_hide-input": false,
    "execution": {
     "iopub.execute_input": "2025-02-10T23:33:17.700622Z",
     "iopub.status.busy": "2025-02-10T23:33:17.700287Z",
     "iopub.status.idle": "2025-02-10T23:33:17.710697Z",
     "shell.execute_reply": "2025-02-10T23:33:17.709881Z",
     "shell.execute_reply.started": "2025-02-10T23:33:17.700591Z"
    },
    "id": "zeCj9IMdNqO1",
    "papermill": {
     "duration": 0.036373,
     "end_time": "2024-11-13T17:32:26.940795",
     "exception": false,
     "start_time": "2024-11-13T17:32:26.904422",
     "status": "completed"
    },
    "tags": []
   },
   "outputs": [],
   "source": [
    "transform_func_inp_signature = ty.Dict[str, NDArray[np.float_]]\n",
    "transform_func_signature = ty.Callable[\n",
    "    [transform_func_inp_signature],\n",
    "    transform_func_inp_signature\n",
    "]\n",
    "\n",
    "class militarDataset(Dataset):\n",
    "    \"\"\"\n",
    "    Location image dataset\n",
    "    \"\"\"\n",
    "    def __init__(\n",
    "        self,\n",
    "        df: pd.DataFrame,\n",
    "        root_dir: str,\n",
    "        labeled: bool = True,\n",
    "        transform: ty.Optional[ty.List[transform_func_signature]] = None,\n",
    "        output_size: ty.Optional[tuple] = None  # Añadir parámetro para tamaño de salida\n",
    "    ) -> None:\n",
    "        self.df = df\n",
    "        self.root_dir = root_dir\n",
    "        self.transform = transform\n",
    "        self.labeled = labeled\n",
    "        self.output_size = output_size  # Almacenar el tamaño de salida\n",
    "\n",
    "    def __len__(self):\n",
    "        return self.df.shape[0]\n",
    "\n",
    "    def __getitem__(self, idx: int) -> transform_func_signature:\n",
    "        if torch.is_tensor(idx):\n",
    "            idx = idx.tolist()\n",
    "\n",
    "        # Read image\n",
    "        img_name = os.path.join(self.root_dir, self.df.filename.iloc[idx])\n",
    "        #img_name = os.path.join(self.root_dir, self.df.iloc[idx]['filename'])\n",
    "        image = io.imread(img_name)\n",
    "        #image = cv2.imread(img_name)\n",
    "\n",
    "\n",
    "        #print(f\"Dimensiones originales de la imagen: {image.shape}\")  # Agregar para depuración\n",
    "        if image is None:\n",
    "            raise FileNotFoundError(f\"Image not found: {img_name}\")\n",
    "\n",
    "        if image.ndim == 2:  # Si la imagen está en escala de grises\n",
    "            image = cv2.cvtColor(image,cv2.COLOR_BGR2RGB)  # Convertir a RGB\n",
    "        elif image.shape[2] == 4:  # Si la imagen es RGBA\n",
    "            image = image[:, :, :3]\n",
    "\n",
    "        # Redimensionar la imagen si se especifica un tamaño de salida\n",
    "        if self.output_size:\n",
    "            image = cv2.resize(image, self.output_size)  # Redimensionar la imagen\n",
    "\n",
    "        sample = {'image': image}\n",
    "\n",
    "        if self.labeled:\n",
    "            # Read labels\n",
    "            img_class = self.df.class_id.iloc[idx]\n",
    "            img_bbox = self.df.iloc[idx, 1:5]\n",
    "\n",
    "            img_bbox = np.array([img_bbox]).astype('float')\n",
    "            img_class = np.array([img_class]).astype('int')\n",
    "            sample.update({'bbox': img_bbox, 'class_id': img_class})\n",
    "\n",
    "        if self.transform:\n",
    "            sample = self.transform(sample)\n",
    "\n",
    "        return sample\n"
   ]
  },
  {
   "cell_type": "code",
   "execution_count": 25,
   "metadata": {
    "execution": {
     "iopub.execute_input": "2025-02-10T22:55:37.937764Z",
     "iopub.status.busy": "2025-02-10T22:55:37.937446Z",
     "iopub.status.idle": "2025-02-10T22:55:37.945679Z",
     "shell.execute_reply": "2025-02-10T22:55:37.944842Z",
     "shell.execute_reply.started": "2025-02-10T22:55:37.937739Z"
    },
    "id": "FEAVB-sTNqO2"
   },
   "outputs": [],
   "source": [
    "def draw_bbox(img, bbox, color,thickness: int = 3):\n",
    "    xmin, ymin, xmax, ymax = bbox\n",
    "    img = cv2.rectangle(img, (xmin, ymin), (xmax, ymax), color, thickness)\n",
    "    return img\n",
    "\n",
    "def normalize_bbox(bbox, h: int, w: int):\n",
    "    \"\"\"Escala las coordenadas normalizadas al tamaño real de la imagen.\"\"\"\n",
    "    return [\n",
    "        int(bbox[0] * w),  # xmin\n",
    "        int(bbox[1] * h),  # ymin\n",
    "        int(bbox[2] * w),  # xmax\n",
    "        int(bbox[3] * h),  # ymax\n",
    "    ]\n",
    "\n",
    "def draw_bboxes(imgs, bboxes, colors,thickness):\n",
    "    \"\"\"Dibuja múltiples cuadros delimitadores en imágenes, escalando según h y w.\"\"\"\n",
    "    for i, (img, bbox, color) in enumerate(zip(imgs, bboxes, colors)):\n",
    "        imgs[i] = draw_bbox(img, bbox, color,thickness)\n",
    "    return imgs\n",
    "\n",
    "def draw_classes(imgs, classes, colors, origin, prefix: str ='',fontScale : int = 2):\n",
    "    \"\"\"Dibuja las clases en las imágenes.\"\"\"\n",
    "    for i, (img, class_id, color) in enumerate(zip(imgs, classes, colors)):\n",
    "        if type(c)==list:\n",
    "            name_class_=id2obj[classes[i]]\n",
    "        else:\n",
    "            name_class_=id2obj[classes[i][0]]\n",
    "        imgs[i] = cv2.putText(\n",
    "            img, f'{prefix}{name_class_}', #class_id.squeeze()\n",
    "            origin, cv2.FONT_HERSHEY_SIMPLEX,\n",
    "            fontScale , color, 2, cv2.LINE_AA\n",
    "        )\n",
    "    return imgs\n",
    "\n",
    "def draw_predictions(imgs, classes, bboxes, colors, origin,thickness,fontScale):\n",
    "    \"\"\"\n",
    "    Combina las funciones anteriores para dibujar cuadros delimitadores\n",
    "    y clases en las imágenes.\n",
    "    \"\"\"\n",
    "    assert all(len(x) > 0 for x in [imgs, classes, bboxes, colors])\n",
    "    if len(colors) == 1:\n",
    "        colors = [colors[0] for _ in imgs]\n",
    "    imgs = draw_bboxes(imgs, bboxes, colors,thickness)\n",
    "    imgs = draw_classes(imgs, classes, colors, origin,\"\",fontScale)\n",
    "    return imgs"
   ]
  },
  {
   "cell_type": "code",
   "execution_count": 26,
   "metadata": {
    "colab": {
     "base_uri": "https://localhost:8080/",
     "height": 98
    },
    "execution": {
     "iopub.execute_input": "2025-02-10T22:55:40.208723Z",
     "iopub.status.busy": "2025-02-10T22:55:40.208419Z",
     "iopub.status.idle": "2025-02-10T22:55:41.208255Z",
     "shell.execute_reply": "2025-02-10T22:55:41.207446Z",
     "shell.execute_reply.started": "2025-02-10T22:55:40.208699Z"
    },
    "id": "CGQYPgaKNqO3",
    "outputId": "0bc6580a-cbb8-452f-af33-74c8cc803654"
   },
   "outputs": [
    {
     "data": {
      "image/png": "[encoded data removed]",
      "text/plain": [
       "<Figure size 3000x600 with 6 Axes>"
      ]
     },
     "metadata": {},
     "output_type": "display_data"
    }
   ],
   "source": [
    "train_root_dir = osp.join(DATA_DIR, \"images/images\")#, \"train\"\n",
    "train_ds = militarDataset(train_df, root_dir=train_root_dir,output_size=(w,h))\n",
    "\n",
    "num_imgs = 6\n",
    "start_idx = 0\n",
    "\n",
    "samples = [train_ds[i] for i in range(start_idx, num_imgs)]\n",
    "\n",
    "imgs = [s['image'] for s in samples]\n",
    "bboxes = [normalize_bbox(s['bbox'].squeeze(),h,w) for s in samples]\n",
    "classes = [s['class_id'] for s in samples]\n",
    "\n",
    "imgs = draw_predictions(imgs, classes, bboxes, [(0, 150, 0)], (int(w*0.1), int(h*0.1)),thickness = 1,fontScale=1)#(150, 10)\n",
    "\n",
    "fig = plt.figure(figsize=(30, num_imgs))\n",
    "\n",
    "for i, img in enumerate(imgs):\n",
    "    fig.add_subplot(1, num_imgs, i+1)\n",
    "    plt.imshow(img)\n",
    "\n",
    "plt.show()"
   ]
  },
  {
   "cell_type": "code",
   "execution_count": 27,
   "metadata": {
    "colab": {
     "base_uri": "https://localhost:8080/"
    },
    "execution": {
     "iopub.execute_input": "2025-02-10T23:41:18.068869Z",
     "iopub.status.busy": "2025-02-10T23:41:18.06858Z",
     "iopub.status.idle": "2025-02-10T23:41:18.073944Z",
     "shell.execute_reply": "2025-02-10T23:41:18.073212Z",
     "shell.execute_reply.started": "2025-02-10T23:41:18.068842Z"
    },
    "id": "hKYpKRaINqO3",
    "outputId": "a2cb4031-9985-4da5-9744-45bfa19663b7"
   },
   "outputs": [
    {
     "data": {
      "text/plain": [
       "array([0])"
      ]
     },
     "execution_count": 27,
     "metadata": {},
     "output_type": "execute_result"
    }
   ],
   "source": [
    "samples[0]['class_id']"
   ]
  },
  {
   "cell_type": "markdown",
   "metadata": {
    "id": "eL9MUtuJNqO3",
    "papermill": {
     "duration": 0.032615,
     "end_time": "2024-11-13T17:32:28.412044",
     "exception": false,
     "start_time": "2024-11-13T17:32:28.379429",
     "status": "completed"
    },
    "tags": []
   },
   "source": [
    "# Transfer learning\n"
   ]
  },
  {
   "cell_type": "markdown",
   "metadata": {
    "id": "7sGedrc2NqO4",
    "papermill": {
     "duration": 0.033773,
     "end_time": "2024-11-13T17:32:28.478046",
     "exception": false,
     "start_time": "2024-11-13T17:32:28.444273",
     "status": "completed"
    },
    "tags": []
   },
   "source": [
    "In our case, we are interested in getting a pretrained-model to use it as a backbone that has been trained in other tasks. For example, if we want to use vgg16 as our backbone, we would not need the last classification module and keep the averaged pool module as the source of features to perform both tasks"
   ]
  },
  {
   "cell_type": "code",
   "execution_count": 28,
   "metadata": {
    "colab": {
     "base_uri": "https://localhost:8080/"
    },
    "execution": {
     "iopub.execute_input": "2025-02-10T22:55:48.466638Z",
     "iopub.status.busy": "2025-02-10T22:55:48.466308Z",
     "iopub.status.idle": "2025-02-10T22:55:50.055076Z",
     "shell.execute_reply": "2025-02-10T22:55:50.054328Z",
     "shell.execute_reply.started": "2025-02-10T22:55:48.466613Z"
    },
    "id": "dN6NPZZSNqO4",
    "outputId": "6834973d-6d49-40cf-96b4-f9dcef478a5f",
    "papermill": {
     "duration": 4.229183,
     "end_time": "2024-11-13T17:32:32.74511",
     "exception": false,
     "start_time": "2024-11-13T17:32:28.515927",
     "status": "completed"
    },
    "tags": []
   },
   "outputs": [
    {
     "name": "stderr",
     "output_type": "stream",
     "text": [
      "C:\\Users\\manza\\anaconda3\\Lib\\site-packages\\torchvision\\models\\_utils.py:208: UserWarning: The parameter 'pretrained' is deprecated since 0.13 and may be removed in the future, please use 'weights' instead.\n",
      "  warnings.warn(\n",
      "C:\\Users\\manza\\anaconda3\\Lib\\site-packages\\torchvision\\models\\_utils.py:223: UserWarning: Arguments other than a weight enum or `None` for 'weights' are deprecated since 0.13 and may be removed in the future. The current behavior is equivalent to passing `weights=VGG16_Weights.IMAGENET1K_V1`. You can also use `weights=VGG16_Weights.DEFAULT` to get the most up-to-date weights.\n",
      "  warnings.warn(msg)\n"
     ]
    },
    {
     "data": {
      "text/plain": [
       "FeatureExtractor(\n",
       "  (features): Sequential(\n",
       "    (0): Conv2d(3, 64, kernel_size=(3, 3), stride=(1, 1), padding=(1, 1))\n",
       "    (1): ReLU(inplace=True)\n",
       "    (2): Conv2d(64, 64, kernel_size=(3, 3), stride=(1, 1), padding=(1, 1))\n",
       "    (3): ReLU(inplace=True)\n",
       "    (4): MaxPool2d(kernel_size=2, stride=2, padding=0, dilation=1, ceil_mode=False)\n",
       "    (5): Conv2d(64, 128, kernel_size=(3, 3), stride=(1, 1), padding=(1, 1))\n",
       "    (6): ReLU(inplace=True)\n",
       "    (7): Conv2d(128, 128, kernel_size=(3, 3), stride=(1, 1), padding=(1, 1))\n",
       "    (8): ReLU(inplace=True)\n",
       "    (9): MaxPool2d(kernel_size=2, stride=2, padding=0, dilation=1, ceil_mode=False)\n",
       "    (10): Conv2d(128, 256, kernel_size=(3, 3), stride=(1, 1), padding=(1, 1))\n",
       "    (11): ReLU(inplace=True)\n",
       "    (12): Conv2d(256, 256, kernel_size=(3, 3), stride=(1, 1), padding=(1, 1))\n",
       "    (13): ReLU(inplace=True)\n",
       "    (14): Conv2d(256, 256, kernel_size=(3, 3), stride=(1, 1), padding=(1, 1))\n",
       "    (15): ReLU(inplace=True)\n",
       "    (16): MaxPool2d(kernel_size=2, stride=2, padding=0, dilation=1, ceil_mode=False)\n",
       "    (17): Conv2d(256, 512, kernel_size=(3, 3), stride=(1, 1), padding=(1, 1))\n",
       "    (18): ReLU(inplace=True)\n",
       "    (19): Conv2d(512, 512, kernel_size=(3, 3), stride=(1, 1), padding=(1, 1))\n",
       "    (20): ReLU(inplace=True)\n",
       "    (21): Conv2d(512, 512, kernel_size=(3, 3), stride=(1, 1), padding=(1, 1))\n",
       "    (22): ReLU(inplace=True)\n",
       "    (23): MaxPool2d(kernel_size=2, stride=2, padding=0, dilation=1, ceil_mode=False)\n",
       "    (24): Conv2d(512, 512, kernel_size=(3, 3), stride=(1, 1), padding=(1, 1))\n",
       "    (25): ReLU(inplace=True)\n",
       "    (26): Conv2d(512, 512, kernel_size=(3, 3), stride=(1, 1), padding=(1, 1))\n",
       "    (27): ReLU(inplace=True)\n",
       "    (28): Conv2d(512, 512, kernel_size=(3, 3), stride=(1, 1), padding=(1, 1))\n",
       "    (29): ReLU(inplace=True)\n",
       "    (30): MaxPool2d(kernel_size=2, stride=2, padding=0, dilation=1, ceil_mode=False)\n",
       "  )\n",
       "  (pooling): AdaptiveAvgPool2d(output_size=(7, 7))\n",
       "  (flatten): Flatten(start_dim=1, end_dim=-1)\n",
       "  (dropout): Dropout(p=0.5, inplace=False)\n",
       ")"
      ]
     },
     "execution_count": 28,
     "metadata": {},
     "output_type": "execute_result"
    }
   ],
   "source": [
    "from torchvision.models import vgg16\n",
    "\n",
    "\n",
    "class FeatureExtractor(nn.Module):\n",
    "    def __init__(self, model):\n",
    "        super(FeatureExtractor, self).__init__()\n",
    "        # Extract VGG-16 Feature Layers\n",
    "        self.features = list(model.features)\n",
    "        self.features = nn.Sequential(*self.features)\n",
    "        # Extract VGG-16 Average Pooling Layer\n",
    "        self.pooling = model.avgpool\n",
    "        # Convert the image into one-dimensional vector\n",
    "        self.flatten = nn.Flatten()\n",
    "        self.dropout = nn.Dropout(0.5)\n",
    "\n",
    "    def forward(self, x):\n",
    "        # It will take the input 'x' until it returns the feature vector called 'out'\n",
    "        out = self.features(x)\n",
    "        out = self.pooling(out)\n",
    "        out = self.flatten(out)\n",
    "        out = self.dropout(out)\n",
    "        return out\n",
    "\n",
    "# Load the vgg16 model\n",
    "vgg16_model = vgg16(pretrained=True, progress=True)\n",
    "pretrained_model = FeatureExtractor(vgg16_model).to(device)\n",
    "pretrained_model"
   ]
  },
  {
   "cell_type": "code",
   "execution_count": 29,
   "metadata": {
    "colab": {
     "base_uri": "https://localhost:8080/"
    },
    "execution": {
     "iopub.execute_input": "2025-02-10T22:55:52.330704Z",
     "iopub.status.busy": "2025-02-10T22:55:52.330447Z",
     "iopub.status.idle": "2025-02-10T22:55:52.336106Z",
     "shell.execute_reply": "2025-02-10T22:55:52.335437Z",
     "shell.execute_reply.started": "2025-02-10T22:55:52.330682Z"
    },
    "id": "Ei7HqSrWNqPE",
    "outputId": "1b4c276e-209f-499d-e33d-f0a2f056ec0d",
    "papermill": {
     "duration": 0.043632,
     "end_time": "2024-11-13T17:32:33.440368",
     "exception": false,
     "start_time": "2024-11-13T17:32:33.396736",
     "status": "completed"
    },
    "tags": []
   },
   "outputs": [
    {
     "data": {
      "text/plain": [
       "VGG(\n",
       "  (features): Sequential(\n",
       "    (0): Conv2d(3, 64, kernel_size=(3, 3), stride=(1, 1), padding=(1, 1))\n",
       "    (1): ReLU(inplace=True)\n",
       "    (2): Conv2d(64, 64, kernel_size=(3, 3), stride=(1, 1), padding=(1, 1))\n",
       "    (3): ReLU(inplace=True)\n",
       "    (4): MaxPool2d(kernel_size=2, stride=2, padding=0, dilation=1, ceil_mode=False)\n",
       "    (5): Conv2d(64, 128, kernel_size=(3, 3), stride=(1, 1), padding=(1, 1))\n",
       "    (6): ReLU(inplace=True)\n",
       "    (7): Conv2d(128, 128, kernel_size=(3, 3), stride=(1, 1), padding=(1, 1))\n",
       "    (8): ReLU(inplace=True)\n",
       "    (9): MaxPool2d(kernel_size=2, stride=2, padding=0, dilation=1, ceil_mode=False)\n",
       "    (10): Conv2d(128, 256, kernel_size=(3, 3), stride=(1, 1), padding=(1, 1))\n",
       "    (11): ReLU(inplace=True)\n",
       "    (12): Conv2d(256, 256, kernel_size=(3, 3), stride=(1, 1), padding=(1, 1))\n",
       "    (13): ReLU(inplace=True)\n",
       "    (14): Conv2d(256, 256, kernel_size=(3, 3), stride=(1, 1), padding=(1, 1))\n",
       "    (15): ReLU(inplace=True)\n",
       "    (16): MaxPool2d(kernel_size=2, stride=2, padding=0, dilation=1, ceil_mode=False)\n",
       "    (17): Conv2d(256, 512, kernel_size=(3, 3), stride=(1, 1), padding=(1, 1))\n",
       "    (18): ReLU(inplace=True)\n",
       "    (19): Conv2d(512, 512, kernel_size=(3, 3), stride=(1, 1), padding=(1, 1))\n",
       "    (20): ReLU(inplace=True)\n",
       "    (21): Conv2d(512, 512, kernel_size=(3, 3), stride=(1, 1), padding=(1, 1))\n",
       "    (22): ReLU(inplace=True)\n",
       "    (23): MaxPool2d(kernel_size=2, stride=2, padding=0, dilation=1, ceil_mode=False)\n",
       "    (24): Conv2d(512, 512, kernel_size=(3, 3), stride=(1, 1), padding=(1, 1))\n",
       "    (25): ReLU(inplace=True)\n",
       "    (26): Conv2d(512, 512, kernel_size=(3, 3), stride=(1, 1), padding=(1, 1))\n",
       "    (27): ReLU(inplace=True)\n",
       "    (28): Conv2d(512, 512, kernel_size=(3, 3), stride=(1, 1), padding=(1, 1))\n",
       "    (29): ReLU(inplace=True)\n",
       "    (30): MaxPool2d(kernel_size=2, stride=2, padding=0, dilation=1, ceil_mode=False)\n",
       "  )\n",
       "  (avgpool): AdaptiveAvgPool2d(output_size=(7, 7))\n",
       "  (classifier): Sequential(\n",
       "    (0): Linear(in_features=25088, out_features=4096, bias=True)\n",
       "    (1): ReLU(inplace=True)\n",
       "    (2): Dropout(p=0.5, inplace=False)\n",
       "    (3): Linear(in_features=4096, out_features=4096, bias=True)\n",
       "    (4): ReLU(inplace=True)\n",
       "    (5): Dropout(p=0.5, inplace=False)\n",
       "    (6): Linear(in_features=4096, out_features=1000, bias=True)\n",
       "  )\n",
       ")"
      ]
     },
     "execution_count": 29,
     "metadata": {},
     "output_type": "execute_result"
    }
   ],
   "source": [
    "vgg16_model"
   ]
  },
  {
   "cell_type": "markdown",
   "metadata": {
    "id": "WBmCwHhzNqPF",
    "papermill": {
     "duration": 0.034067,
     "end_time": "2024-11-13T17:32:33.509971",
     "exception": false,
     "start_time": "2024-11-13T17:32:33.475904",
     "status": "completed"
    },
    "tags": []
   },
   "source": [
    "# Image normalization"
   ]
  },
  {
   "cell_type": "code",
   "execution_count": 31,
   "metadata": {
    "execution": {
     "iopub.execute_input": "2025-02-10T22:55:56.152115Z",
     "iopub.status.busy": "2025-02-10T22:55:56.15171Z",
     "iopub.status.idle": "2025-02-10T22:55:57.619252Z",
     "shell.execute_reply": "2025-02-10T22:55:57.618314Z",
     "shell.execute_reply.started": "2025-02-10T22:55:56.152075Z"
    },
    "id": "oCRqJIwuNqPF",
    "papermill": {
     "duration": 3.283378,
     "end_time": "2024-11-13T17:32:36.827814",
     "exception": false,
     "start_time": "2024-11-13T17:32:33.544436",
     "status": "completed"
    },
    "tags": []
   },
   "outputs": [],
   "source": [
    "train_ds = militarDataset(train_df, root_dir=train_root_dir,output_size=(w,h))#,output_size=(255,255)\n",
    "\n",
    "means = np.zeros(3)\n",
    "stds = np.zeros(3)\n",
    "n_images = 0\n",
    "\n",
    "for x in train_ds:\n",
    "    img = x['image']#.astype(np.float32)  # Asegúrate de que la imagen está en float para cálculos precisos\n",
    "    n_images += 1\n",
    "\n",
    "    for channel in range(3):\n",
    "        channel_pixels = img[..., channel]\n",
    "        # Acumular la suma y suma de cuadrados para calcular la media y desviación estándar\n",
    "        means[channel] += np.mean(channel_pixels)\n",
    "        stds[channel] += np.std(channel_pixels)\n",
    "\n",
    "# Calcular la media y desviación estándar final\n",
    "means /= n_images\n",
    "stds /= n_images"
   ]
  },
  {
   "cell_type": "code",
   "execution_count": 32,
   "metadata": {
    "colab": {
     "base_uri": "https://localhost:8080/"
    },
    "execution": {
     "iopub.execute_input": "2025-02-10T22:55:59.01719Z",
     "iopub.status.busy": "2025-02-10T22:55:59.016892Z",
     "iopub.status.idle": "2025-02-10T22:55:59.022502Z",
     "shell.execute_reply": "2025-02-10T22:55:59.02151Z",
     "shell.execute_reply.started": "2025-02-10T22:55:59.017166Z"
    },
    "id": "ljGhDFRpNqPF",
    "outputId": "819a466d-db3a-4341-aa29-11bd7b5c7336"
   },
   "outputs": [
    {
     "name": "stdout",
     "output_type": "stream",
     "text": [
      "[136.01436573 148.2774863  157.09526352]\n",
      "[48.73297638 48.9641151  52.19618889]\n"
     ]
    }
   ],
   "source": [
    "print(means)\n",
    "print(stds)"
   ]
  },
  {
   "cell_type": "markdown",
   "metadata": {
    "id": "PC82QbzQNqPG",
    "papermill": {
     "duration": 0.038409,
     "end_time": "2024-11-13T17:32:39.363706",
     "exception": false,
     "start_time": "2024-11-13T17:32:39.325297",
     "status": "completed"
    },
    "tags": []
   },
   "source": [
    "# Image transforms"
   ]
  },
  {
   "cell_type": "markdown",
   "metadata": {
    "id": "qkmfB1C3NqPG",
    "papermill": {
     "duration": 0.037947,
     "end_time": "2024-11-13T17:32:39.439711",
     "exception": false,
     "start_time": "2024-11-13T17:32:39.401764",
     "status": "completed"
    },
    "tags": []
   },
   "source": [
    "A recommended library to do image augmentation is https://albumentations.ai/docs/examples/pytorch_classification/\n"
   ]
  },
  {
   "cell_type": "code",
   "execution_count": 33,
   "metadata": {
    "execution": {
     "iopub.execute_input": "2025-02-10T22:56:06.321253Z",
     "iopub.status.busy": "2025-02-10T22:56:06.320924Z",
     "iopub.status.idle": "2025-02-10T22:56:06.328476Z",
     "shell.execute_reply": "2025-02-10T22:56:06.327658Z",
     "shell.execute_reply.started": "2025-02-10T22:56:06.321207Z"
    },
    "id": "01-OOZSgNqPH",
    "papermill": {
     "duration": 0.054293,
     "end_time": "2024-11-13T17:32:39.532091",
     "exception": false,
     "start_time": "2024-11-13T17:32:39.477798",
     "status": "completed"
    },
    "tags": []
   },
   "outputs": [],
   "source": [
    "\n",
    "class ToTensor(object):\n",
    "    \"\"\"Convert ndarrays in sample to Tensors.\"\"\"\n",
    "\n",
    "    def __call__(self, sample):\n",
    "        image = sample['image']\n",
    "\n",
    "        # swap color axis because\n",
    "        # numpy image: H x W x C (0,1,2)\n",
    "        # torch image: C x H x W\n",
    "        image = image.transpose((2, 0, 1))\n",
    "        image = torch.from_numpy(image).float()\n",
    "        sample.update({'image': image})\n",
    "        return sample\n",
    "\n",
    "\n",
    "class Normalizer(object):\n",
    "\n",
    "    def __init__(self, stds, means):\n",
    "        \"\"\"\n",
    "        Arguments:\n",
    "\n",
    "            stds: array of length 3 containing the standard deviation of each channel in RGB order.\n",
    "            means: array of length 3 containing the means of each channel in RGB order.\n",
    "        \"\"\"\n",
    "        self.stds = stds\n",
    "        self.means = means\n",
    "\n",
    "    def __call__(self, sample):\n",
    "        \"\"\"\n",
    "        Sample: a dicitonary containing:\n",
    "            image: sample image in format (C, H, W)\n",
    "        Returns:\n",
    "            the image in (C, H, W) format with the channels normalized.\n",
    "        \"\"\"\n",
    "        image = sample['image']\n",
    "\n",
    "        for channel in range(3):\n",
    "            image[channel] = (image[channel] - means[channel]) / stds[channel]\n",
    "\n",
    "        sample['image'] = image\n",
    "        return sample\n",
    "\n",
    "class TVTransformWrapper(object):\n",
    "    \"\"\"Torch Vision Transform Wrapper\n",
    "    \"\"\"\n",
    "    def __init__(self, transform: torch.nn.Module):\n",
    "        self.transform = transform\n",
    "\n",
    "    def __call__(self, sample):\n",
    "        sample['image'] = self.transform(sample['image'])\n",
    "        return sample\n",
    "\n",
    "class AlbumentationsWrapper(object):\n",
    "\n",
    "    def __init__(self, transform):\n",
    "        self.transform = transform\n",
    "\n",
    "    def __call__(self, sample):\n",
    "        transformed = self.transform(\n",
    "            image=sample['image'],\n",
    "            bboxes=sample['bbox'],\n",
    "            #category_ids=sample['class_id']\n",
    "        )\n",
    "        sample['image'] = transformed['image']\n",
    "        sample['bbox'] = np.array(transformed['bboxes'])\n",
    "        return sample\n",
    "\n"
   ]
  },
  {
   "cell_type": "code",
   "execution_count": 34,
   "metadata": {
    "execution": {
     "iopub.execute_input": "2025-02-10T22:56:08.312593Z",
     "iopub.status.busy": "2025-02-10T22:56:08.312272Z",
     "iopub.status.idle": "2025-02-10T22:56:08.317677Z",
     "shell.execute_reply": "2025-02-10T22:56:08.316688Z",
     "shell.execute_reply.started": "2025-02-10T22:56:08.312565Z"
    },
    "id": "WiMCTBqgNqPH"
   },
   "outputs": [],
   "source": [
    "train_data_augmentations = A.Compose([\n",
    "    A.HorizontalFlip(p=1)\n",
    "    ],\n",
    "    bbox_params=A.BboxParams(\n",
    "        format='albumentations',\n",
    "        label_fields=[],#'category_ids'\n",
    "    )\n",
    ")\n",
    "\n",
    "dataaug_transforms = torchvision.transforms.Compose(\n",
    "    [\n",
    "        AlbumentationsWrapper(train_data_augmentations)\n",
    "    ]\n",
    ")\n"
   ]
  },
  {
   "cell_type": "code",
   "execution_count": 35,
   "metadata": {
    "colab": {
     "base_uri": "https://localhost:8080/",
     "height": 424
    },
    "execution": {
     "iopub.execute_input": "2025-02-10T22:56:09.435872Z",
     "iopub.status.busy": "2025-02-10T22:56:09.435574Z",
     "iopub.status.idle": "2025-02-10T22:56:11.385712Z",
     "shell.execute_reply": "2025-02-10T22:56:11.38495Z",
     "shell.execute_reply.started": "2025-02-10T22:56:09.435848Z"
    },
    "id": "aQf9asdvNqPI",
    "outputId": "5d808e5e-c953-4390-85fe-2467d28a0327"
   },
   "outputs": [
    {
     "data": {
      "text/html": [
       "<div>\n",
       "<style scoped>\n",
       "    .dataframe tbody tr th:only-of-type {\n",
       "        vertical-align: middle;\n",
       "    }\n",
       "\n",
       "    .dataframe tbody tr th {\n",
       "        vertical-align: top;\n",
       "    }\n",
       "\n",
       "    .dataframe thead th {\n",
       "        text-align: right;\n",
       "    }\n",
       "</style>\n",
       "<table border=\"1\" class=\"dataframe\">\n",
       "  <thead>\n",
       "    <tr style=\"text-align: right;\">\n",
       "      <th></th>\n",
       "      <th>filename</th>\n",
       "      <th>xmin</th>\n",
       "      <th>ymin</th>\n",
       "      <th>xmax</th>\n",
       "      <th>ymax</th>\n",
       "      <th>class</th>\n",
       "      <th>class_id</th>\n",
       "    </tr>\n",
       "  </thead>\n",
       "  <tbody>\n",
       "    <tr>\n",
       "      <th>0</th>\n",
       "      <td>image_00249.jpeg</td>\n",
       "      <td>0.657031</td>\n",
       "      <td>0.241667</td>\n",
       "      <td>0.867188</td>\n",
       "      <td>0.398611</td>\n",
       "      <td>f16</td>\n",
       "      <td>0</td>\n",
       "    </tr>\n",
       "    <tr>\n",
       "      <th>1</th>\n",
       "      <td>image_00039.jpeg</td>\n",
       "      <td>0.334375</td>\n",
       "      <td>0.458333</td>\n",
       "      <td>0.541406</td>\n",
       "      <td>0.606944</td>\n",
       "      <td>f16</td>\n",
       "      <td>0</td>\n",
       "    </tr>\n",
       "    <tr>\n",
       "      <th>2</th>\n",
       "      <td>image_00037.jpeg</td>\n",
       "      <td>0.001563</td>\n",
       "      <td>0.001389</td>\n",
       "      <td>0.965625</td>\n",
       "      <td>0.783333</td>\n",
       "      <td>f16</td>\n",
       "      <td>0</td>\n",
       "    </tr>\n",
       "    <tr>\n",
       "      <th>3</th>\n",
       "      <td>image_00138.jpeg</td>\n",
       "      <td>0.320312</td>\n",
       "      <td>0.325000</td>\n",
       "      <td>0.517188</td>\n",
       "      <td>0.465278</td>\n",
       "      <td>f16</td>\n",
       "      <td>0</td>\n",
       "    </tr>\n",
       "    <tr>\n",
       "      <th>4</th>\n",
       "      <td>image_00064.jpeg</td>\n",
       "      <td>0.283594</td>\n",
       "      <td>0.093056</td>\n",
       "      <td>0.589844</td>\n",
       "      <td>0.397222</td>\n",
       "      <td>seahawk</td>\n",
       "      <td>5</td>\n",
       "    </tr>\n",
       "    <tr>\n",
       "      <th>...</th>\n",
       "      <td>...</td>\n",
       "      <td>...</td>\n",
       "      <td>...</td>\n",
       "      <td>...</td>\n",
       "      <td>...</td>\n",
       "      <td>...</td>\n",
       "      <td>...</td>\n",
       "    </tr>\n",
       "    <tr>\n",
       "      <th>277</th>\n",
       "      <td>image_id_512_t0.jpeg</td>\n",
       "      <td>0.192969</td>\n",
       "      <td>0.001389</td>\n",
       "      <td>0.998437</td>\n",
       "      <td>0.700000</td>\n",
       "      <td>chinook</td>\n",
       "      <td>2</td>\n",
       "    </tr>\n",
       "    <tr>\n",
       "      <th>278</th>\n",
       "      <td>image_id_513_t0.jpeg</td>\n",
       "      <td>0.318750</td>\n",
       "      <td>0.343056</td>\n",
       "      <td>0.464062</td>\n",
       "      <td>0.486111</td>\n",
       "      <td>seahawk</td>\n",
       "      <td>5</td>\n",
       "    </tr>\n",
       "    <tr>\n",
       "      <th>279</th>\n",
       "      <td>image_id_514_t0.jpeg</td>\n",
       "      <td>0.357031</td>\n",
       "      <td>0.227778</td>\n",
       "      <td>0.561719</td>\n",
       "      <td>0.679167</td>\n",
       "      <td>ah64</td>\n",
       "      <td>3</td>\n",
       "    </tr>\n",
       "    <tr>\n",
       "      <th>280</th>\n",
       "      <td>image_id_515_t0.jpeg</td>\n",
       "      <td>0.632031</td>\n",
       "      <td>0.447222</td>\n",
       "      <td>0.842187</td>\n",
       "      <td>0.586111</td>\n",
       "      <td>f16</td>\n",
       "      <td>0</td>\n",
       "    </tr>\n",
       "    <tr>\n",
       "      <th>281</th>\n",
       "      <td>image_id_516_t0.jpeg</td>\n",
       "      <td>0.118750</td>\n",
       "      <td>0.212500</td>\n",
       "      <td>0.757031</td>\n",
       "      <td>0.686111</td>\n",
       "      <td>f15</td>\n",
       "      <td>4</td>\n",
       "    </tr>\n",
       "  </tbody>\n",
       "</table>\n",
       "<p>282 rows × 7 columns</p>\n",
       "</div>"
      ],
      "text/plain": [
       "                 filename      xmin      ymin      xmax      ymax    class  \\\n",
       "0        image_00249.jpeg  0.657031  0.241667  0.867188  0.398611      f16   \n",
       "1        image_00039.jpeg  0.334375  0.458333  0.541406  0.606944      f16   \n",
       "2        image_00037.jpeg  0.001563  0.001389  0.965625  0.783333      f16   \n",
       "3        image_00138.jpeg  0.320312  0.325000  0.517188  0.465278      f16   \n",
       "4        image_00064.jpeg  0.283594  0.093056  0.589844  0.397222  seahawk   \n",
       "..                    ...       ...       ...       ...       ...      ...   \n",
       "277  image_id_512_t0.jpeg  0.192969  0.001389  0.998437  0.700000  chinook   \n",
       "278  image_id_513_t0.jpeg  0.318750  0.343056  0.464062  0.486111  seahawk   \n",
       "279  image_id_514_t0.jpeg  0.357031  0.227778  0.561719  0.679167     ah64   \n",
       "280  image_id_515_t0.jpeg  0.632031  0.447222  0.842187  0.586111      f16   \n",
       "281  image_id_516_t0.jpeg  0.118750  0.212500  0.757031  0.686111      f15   \n",
       "\n",
       "     class_id  \n",
       "0           0  \n",
       "1           0  \n",
       "2           0  \n",
       "3           0  \n",
       "4           5  \n",
       "..        ...  \n",
       "277         2  \n",
       "278         5  \n",
       "279         3  \n",
       "280         0  \n",
       "281         4  \n",
       "\n",
       "[282 rows x 7 columns]"
      ]
     },
     "execution_count": 35,
     "metadata": {},
     "output_type": "execute_result"
    }
   ],
   "source": [
    "import shutil\n",
    "\n",
    "if os.path.exists('data_final'):\n",
    "    shutil.rmtree('data_final')\n",
    "\n",
    "os.mkdir('data_final')\n",
    "\n",
    "train_ds_da = militarDataset(train_df, root_dir=train_root_dir) # ,output_size=(255,255) No usamos resize para que conservé el tamaño original\n",
    "last_index = max(train_ds_da.df.filename.apply(lambda x: int(x.replace('image_', '').replace('.jpeg', ''))))\n",
    "index = last_index + 1\n",
    "rows = []\n",
    "for j in range(0,1): #Cantidad de imagenes que se quieran generar por cada imagen original del train\n",
    "    iterador = iter(train_ds_da)\n",
    "    for i in range(len(train_ds_da)):\n",
    "        x = next(iterador)\n",
    "        x_transformed = copy.deepcopy(x)\n",
    "        x_transformed = dataaug_transforms(x_transformed)\n",
    "        filename = f\"image_id_{index}_t{j}.jpeg\"\n",
    "        image = x_transformed['image']#.astype('uint8')\n",
    "        #result = cv2.normalize(image, dst=None, alpha=0, beta=255,norm_type=cv2.NORM_MINMAX, dtype=cv2.CV_8U)\n",
    "        cv2.imwrite(\"data_final/\"+filename, cv2.cvtColor(image, cv2.COLOR_RGB2BGR))\n",
    "        #row = [filename, [id2obj[class_id] for class_id in x_transformed[\"class_id\"]], *x_transformed['bbox'].squeeze()]\n",
    "        row = [filename, *x_transformed[\"class_id\"], *x_transformed['bbox'].squeeze()]\n",
    "        rows.append(row)\n",
    "        index+=1\n",
    "\n",
    "aug_df = pd.DataFrame(rows, columns=['filename', 'class_id', 'xmin', 'ymin', 'xmax', 'ymax',])\n",
    "#aug_df[\"class\"] = aug_df.class_id.replace(train_df.set_index('class_id')['class'])\n",
    "#aug_df[['xmin', 'ymin', 'xmax', 'ymax']]*=hw_real\n",
    "\n",
    "\n",
    "#A esta carpeta creada con las imágenes sintéticas se agregan las originales para tener todo en una sola carpeta\n",
    "source = train_root_dir\n",
    "destination = 'data_final'\n",
    "\n",
    "#gather all files\n",
    "allfiles = os.listdir(source)\n",
    "\n",
    "#iterate on all files to move them to destination folder\n",
    "for f in allfiles:\n",
    "    if f in train_df['filename'].values:\n",
    "        src_path = os.path.join(source, f)\n",
    "        dst_path = os.path.join(destination, f)\n",
    "        shutil.copy(src_path, dst_path)\n",
    "\n",
    "#\n",
    "dataframe_with_dataaugmentation = pd.concat([train_df, aug_df], ignore_index=True)\n",
    "dataframe_with_dataaugmentation['class']=dataframe_with_dataaugmentation['class_id'].replace(id2obj)\n",
    "dataframe_with_dataaugmentation"
   ]
  },
  {
   "cell_type": "code",
   "execution_count": 36,
   "metadata": {
    "colab": {
     "base_uri": "https://localhost:8080/"
    },
    "execution": {
     "iopub.execute_input": "2025-02-10T22:56:15.264498Z",
     "iopub.status.busy": "2025-02-10T22:56:15.264172Z",
     "iopub.status.idle": "2025-02-10T22:56:15.269623Z",
     "shell.execute_reply": "2025-02-10T22:56:15.268943Z",
     "shell.execute_reply.started": "2025-02-10T22:56:15.264471Z"
    },
    "id": "ojrbwcwHNqPJ",
    "outputId": "420b103b-37d6-4fe3-a2bd-624a48855394"
   },
   "outputs": [
    {
     "data": {
      "text/plain": [
       "((141, 7), (282, 7))"
      ]
     },
     "execution_count": 36,
     "metadata": {},
     "output_type": "execute_result"
    }
   ],
   "source": [
    "train_df.shape,dataframe_with_dataaugmentation.shape"
   ]
  },
  {
   "cell_type": "code",
   "execution_count": 37,
   "metadata": {
    "colab": {
     "base_uri": "https://localhost:8080/"
    },
    "execution": {
     "iopub.execute_input": "2025-02-10T22:56:16.031956Z",
     "iopub.status.busy": "2025-02-10T22:56:16.03166Z",
     "iopub.status.idle": "2025-02-10T22:56:16.037595Z",
     "shell.execute_reply": "2025-02-10T22:56:16.036693Z",
     "shell.execute_reply.started": "2025-02-10T22:56:16.031932Z"
    },
    "id": "_8I2CmnqNqPK",
    "outputId": "9be05714-cf12-4b0f-fbd7-cfddd3f8b7c3"
   },
   "outputs": [
    {
     "data": {
      "text/plain": [
       "282"
      ]
     },
     "execution_count": 37,
     "metadata": {},
     "output_type": "execute_result"
    }
   ],
   "source": [
    "allfiles = os.listdir('data_final')\n",
    "\n",
    "#iterate on all files to move them to destination folder\n",
    "len(allfiles)"
   ]
  },
  {
   "cell_type": "code",
   "execution_count": 38,
   "metadata": {
    "execution": {
     "iopub.execute_input": "2025-02-10T22:56:18.216567Z",
     "iopub.status.busy": "2025-02-10T22:56:18.216199Z",
     "iopub.status.idle": "2025-02-10T22:56:18.221671Z",
     "shell.execute_reply": "2025-02-10T22:56:18.220682Z",
     "shell.execute_reply.started": "2025-02-10T22:56:18.216536Z"
    },
    "id": "6JARNSl0NqPK"
   },
   "outputs": [],
   "source": [
    "common_transforms = [\n",
    "    ToTensor(),\n",
    "    Normalizer(\n",
    "        means=means,\n",
    "        stds=stds,\n",
    "    )\n",
    "]\n",
    "\n",
    "train_data_augmentations = A.Compose([\n",
    "    A.HorizontalFlip(p=0.5)\n",
    "\n",
    "    ],\n",
    "    bbox_params=A.BboxParams(\n",
    "        format='albumentations',\n",
    "        label_fields=[],\n",
    "    )\n",
    ")\n",
    "\n",
    "train_transforms = torchvision.transforms.Compose(\n",
    "    [\n",
    "        AlbumentationsWrapper(train_data_augmentations),\n",
    "    ] + common_transforms\n",
    ")\n",
    "\n",
    "eval_transforms = torchvision.transforms.Compose(common_transforms)"
   ]
  },
  {
   "cell_type": "code",
   "execution_count": 39,
   "metadata": {
    "colab": {
     "base_uri": "https://localhost:8080/"
    },
    "execution": {
     "iopub.execute_input": "2025-02-10T22:56:21.08008Z",
     "iopub.status.busy": "2025-02-10T22:56:21.079776Z",
     "iopub.status.idle": "2025-02-10T22:56:21.253627Z",
     "shell.execute_reply": "2025-02-10T22:56:21.252642Z",
     "shell.execute_reply.started": "2025-02-10T22:56:21.080055Z"
    },
    "id": "1DD_-7tGNqPL",
    "outputId": "db4fea1c-96fc-4b2e-9b16-98883e102f6b"
   },
   "outputs": [
    {
     "name": "stdout",
     "output_type": "stream",
     "text": [
      "torch.Size([16, 3, 255, 400])\n"
     ]
    }
   ],
   "source": [
    "train_ds = militarDataset(dataframe_with_dataaugmentation, root_dir='data_final', transform=train_transforms,output_size=(w,h)) #train_root_dir\n",
    "train_data = torch.utils.data.DataLoader(train_ds, batch_size=16)\n",
    "\n",
    "for x in train_data:\n",
    "    print(x['image'].size())\n",
    "    break"
   ]
  },
  {
   "cell_type": "code",
   "execution_count": null,
   "metadata": {
    "execution": {
     "iopub.execute_input": "2025-02-11T00:20:25.108091Z",
     "iopub.status.busy": "2025-02-11T00:20:25.107724Z",
     "iopub.status.idle": "2025-02-11T00:20:25.440374Z",
     "shell.execute_reply": "2025-02-11T00:20:25.439404Z",
     "shell.execute_reply.started": "2025-02-11T00:20:25.108057Z"
    },
    "id": "zzXTg9nrNqPL",
    "papermill": {
     "duration": 0.63674,
     "end_time": "2024-11-13T17:32:40.295517",
     "exception": false,
     "start_time": "2024-11-13T17:32:39.658777",
     "status": "completed"
    },
    "tags": []
   },
   "outputs": [],
   "source": [
    "'''train_ds = militarDataset(train_df, root_dir=train_root_dir,output_size=(w,h))#,output_size=(255,255)\n",
    "\n",
    "x = next(iter(train_ds))\n",
    "x_transformed = copy.deepcopy(x)\n",
    "x_transformed = train_transforms(x_transformed)\n",
    "\n",
    "original_img = x['image']\n",
    "transformed_img = x_transformed['image'].numpy().transpose(1, 2, 0)\n",
    "#transformed_img = cv2.resize(transformed_img, (255,255)) ## Redimensiona la imagen\n",
    "\n",
    "original_img = draw_bbox(\n",
    "    original_img,\n",
    "    normalize_bbox(x['bbox'].squeeze(),h,w),\n",
    "    (0, 255, 0),thickness=1\n",
    ")\n",
    "\n",
    "transformed_img = draw_bbox(\n",
    "    transformed_img,\n",
    "    normalize_bbox(x_transformed['bbox'].squeeze(),h,w),\n",
    "    (0, 255, 0),thickness=1\n",
    ")\n",
    "\n",
    "fig, axes = plt.subplots(nrows=1, ncols=2, figsize=(10, 5))\n",
    "\n",
    "axes[0].imshow(original_img)\n",
    "axes[0].set_title('Original digit')\n",
    "\n",
    "axes[1].imshow(transformed_img)\n",
    "axes[1].set_title('Transformed digit')\n",
    "\n",
    "plt.show()\n",
    "'''"
   ]
  },
  {
   "cell_type": "code",
   "execution_count": null,
   "metadata": {
    "id": "bhCkM8q-NqPN"
   },
   "outputs": [],
   "source": [
    "'''train_ds = militarDataset(train_df, root_dir=train_root_dir, transform=train_transforms,output_size=(w,h))#\n",
    "train_data = torch.utils.data.DataLoader(train_ds, batch_size=16)#,collate_fn=custom_collate_fn\n",
    "\n",
    "for x in train_data:\n",
    "    print(x['image'].size())\n",
    "    break\n",
    "\n",
    "    '''"
   ]
  },
  {
   "cell_type": "code",
   "execution_count": 40,
   "metadata": {
    "execution": {
     "iopub.execute_input": "2025-02-10T22:56:35.154996Z",
     "iopub.status.busy": "2025-02-10T22:56:35.15467Z",
     "iopub.status.idle": "2025-02-10T22:56:35.162395Z",
     "shell.execute_reply": "2025-02-10T22:56:35.161546Z",
     "shell.execute_reply.started": "2025-02-10T22:56:35.154965Z"
    },
    "id": "R-WjC7DGNqPO",
    "papermill": {
     "duration": 0.060352,
     "end_time": "2024-11-13T17:32:40.666108",
     "exception": false,
     "start_time": "2024-11-13T17:32:40.605756",
     "status": "completed"
    },
    "tags": []
   },
   "outputs": [],
   "source": [
    "def get_output_shape(model: nn.Sequential, image_dim: ty.Tuple[int, int, int]):\n",
    "    return model(torch.rand(*(image_dim)).to(device)).data.shape\n",
    "\n",
    "class Model(nn.Module):\n",
    "    def __init__(self, input_shape: ty.Tuple[int, int, int] = (3, 255, 400), n_classes: int = 6):\n",
    "        \"\"\"\n",
    "        Model with one input (image) and two outputs:\n",
    "            1. Digit classification (classification).\n",
    "            2. Bounding box prediction (regression).\n",
    "\n",
    "        Arguments:\n",
    "            input_shape: input shape of the image in format (C, H, W)\n",
    "            n_classes: number of classes to perfrom classification with\n",
    "\n",
    "        Attributes:\n",
    "            backbone: ConvNet that process the image and\n",
    "            returns a flattened vector with the information of the\n",
    "            activations.\n",
    "\n",
    "            cls_head: MLP that receives the flattened input from the backbone\n",
    "            and predicts the classification logits for the classes (classficiation task).\n",
    "\n",
    "            reg_head: MLP that receives the flattened input from the backbone\n",
    "            and predicts the coordinates of the predicted bounding box (regression task).\n",
    "        \"\"\"\n",
    "        super().__init__()\n",
    "\n",
    "        self.input_shape = input_shape\n",
    "\n",
    "        # When doing transfer learning, use pretrained model instead of custom backbone\n",
    "        self.backbone = pretrained_model\n",
    "\n",
    "        backbone_output_shape = get_output_shape(self.backbone, [1, *input_shape])\n",
    "        backbone_output_features = reduce(lambda x, y: x*y, backbone_output_shape)\n",
    "\n",
    "        self.cls_head = nn.Sequential(\n",
    "            nn.Linear(in_features=backbone_output_features, out_features=768),\n",
    "            nn.ReLU(),\n",
    "            nn.Linear(768, 256),\n",
    "            nn.ReLU(),\n",
    "            nn.Linear(256, n_classes)\n",
    "        )\n",
    "\n",
    "        self.reg_head = nn.Sequential(\n",
    "            nn.Linear(in_features=backbone_output_features, out_features=768),\n",
    "            nn.ReLU(),\n",
    "            nn.Linear(768, 256),\n",
    "            nn.ReLU(),\n",
    "            nn.Linear(256, 128),\n",
    "            nn.ReLU(),\n",
    "            nn.Linear(128, 4)\n",
    "        )\n",
    "\n",
    "    def forward(self, x: Tensor) -> ty.Dict[str, Tensor]:\n",
    "        features = self.backbone(x)\n",
    "        cls_logits = self.cls_head(features)\n",
    "        pred_bbox = self.reg_head(features)\n",
    "        predictions = {'bbox': pred_bbox, 'class_id': cls_logits}\n",
    "        return predictions"
   ]
  },
  {
   "cell_type": "code",
   "execution_count": 43,
   "metadata": {
    "colab": {
     "base_uri": "https://localhost:8080/",
     "height": 384
    },
    "execution": {
     "iopub.execute_input": "2025-02-10T22:56:37.624557Z",
     "iopub.status.busy": "2025-02-10T22:56:37.624203Z",
     "iopub.status.idle": "2025-02-10T22:56:37.691344Z",
     "shell.execute_reply": "2025-02-10T22:56:37.690453Z",
     "shell.execute_reply.started": "2025-02-10T22:56:37.624525Z"
    },
    "id": "uF_1DsIDNqPP",
    "outputId": "db3e78ac-58cc-4cbd-a19b-1b5ba7f45977",
    "papermill": {
     "duration": 0.058921,
     "end_time": "2024-11-13T17:32:40.767969",
     "exception": false,
     "start_time": "2024-11-13T17:32:40.709048",
     "status": "completed"
    },
    "tags": []
   },
   "outputs": [
    {
     "ename": "RuntimeError",
     "evalue": "CUDA error: the launch timed out and was terminated\nCUDA kernel errors might be asynchronously reported at some other API call, so the stacktrace below might be incorrect.\nFor debugging consider passing CUDA_LAUNCH_BLOCKING=1\nCompile with `TORCH_USE_CUDA_DSA` to enable device-side assertions.\n",
     "output_type": "error",
     "traceback": [
      "\u001b[1;31m---------------------------------------------------------------------------\u001b[0m",
      "\u001b[1;31mRuntimeError\u001b[0m                              Traceback (most recent call last)",
      "Cell \u001b[1;32mIn[43], line 1\u001b[0m\n\u001b[1;32m----> 1\u001b[0m torch\u001b[38;5;241m.\u001b[39mcuda\u001b[38;5;241m.\u001b[39mempty_cache()\n",
      "File \u001b[1;32m~\\anaconda3\\Lib\\site-packages\\torch\\cuda\\memory.py:192\u001b[0m, in \u001b[0;36mempty_cache\u001b[1;34m()\u001b[0m\n\u001b[0;32m    181\u001b[0m \u001b[38;5;250m\u001b[39m\u001b[38;5;124mr\u001b[39m\u001b[38;5;124;03m\"\"\"Release all unoccupied cached memory currently held by the caching\u001b[39;00m\n\u001b[0;32m    182\u001b[0m \u001b[38;5;124;03mallocator so that those can be used in other GPU application and visible in\u001b[39;00m\n\u001b[0;32m    183\u001b[0m \u001b[38;5;124;03m`nvidia-smi`.\u001b[39;00m\n\u001b[1;32m   (...)\u001b[0m\n\u001b[0;32m    189\u001b[0m \u001b[38;5;124;03m    more details about GPU memory management.\u001b[39;00m\n\u001b[0;32m    190\u001b[0m \u001b[38;5;124;03m\"\"\"\u001b[39;00m\n\u001b[0;32m    191\u001b[0m \u001b[38;5;28;01mif\u001b[39;00m is_initialized():\n\u001b[1;32m--> 192\u001b[0m     torch\u001b[38;5;241m.\u001b[39m_C\u001b[38;5;241m.\u001b[39m_cuda_emptyCache()\n",
      "\u001b[1;31mRuntimeError\u001b[0m: CUDA error: the launch timed out and was terminated\nCUDA kernel errors might be asynchronously reported at some other API call, so the stacktrace below might be incorrect.\nFor debugging consider passing CUDA_LAUNCH_BLOCKING=1\nCompile with `TORCH_USE_CUDA_DSA` to enable device-side assertions.\n"
     ]
    }
   ],
   "source": [
    "torch.cuda.empty_cache()"
   ]
  },
  {
   "cell_type": "code",
   "execution_count": 42,
   "metadata": {
    "colab": {
     "base_uri": "https://localhost:8080/",
     "height": 1000
    },
    "execution": {
     "iopub.execute_input": "2025-02-10T22:56:39.439781Z",
     "iopub.status.busy": "2025-02-10T22:56:39.439479Z",
     "iopub.status.idle": "2025-02-10T22:56:40.034928Z",
     "shell.execute_reply": "2025-02-10T22:56:40.034148Z",
     "shell.execute_reply.started": "2025-02-10T22:56:39.439755Z"
    },
    "id": "haefnvOQNqPP",
    "outputId": "29a6f5b7-304c-406c-e4b3-092f2d77aa55",
    "papermill": {
     "duration": 0.755032,
     "end_time": "2024-11-13T17:32:41.56599",
     "exception": false,
     "start_time": "2024-11-13T17:32:40.810958",
     "status": "completed"
    },
    "tags": []
   },
   "outputs": [
    {
     "name": "stdout",
     "output_type": "stream",
     "text": [
      "image torch.Size([16, 3, 255, 400])\n"
     ]
    },
    {
     "ename": "RuntimeError",
     "evalue": "CUDA error: CUBLAS_STATUS_EXECUTION_FAILED when calling cublasLtMatmul with transpose_mat1 1 transpose_mat2 0 m 768 n 16 k 25088 mat1_ld 25088 mat2_ld 25088 result_ld 768 abcType 0 computeType 68 scaleType 0",
     "output_type": "error",
     "traceback": [
      "\u001b[1;31m---------------------------------------------------------------------------\u001b[0m",
      "\u001b[1;31mRuntimeError\u001b[0m                              Traceback (most recent call last)",
      "Cell \u001b[1;32mIn[42], line 4\u001b[0m\n\u001b[0;32m      2\u001b[0m model \u001b[38;5;241m=\u001b[39m Model(input_shape\u001b[38;5;241m=\u001b[39m(\u001b[38;5;241m3\u001b[39m, h, w), n_classes\u001b[38;5;241m=\u001b[39m\u001b[38;5;241m6\u001b[39m)\u001b[38;5;241m.\u001b[39mto(device)\n\u001b[0;32m      3\u001b[0m x[\u001b[38;5;124m'\u001b[39m\u001b[38;5;124mimage\u001b[39m\u001b[38;5;124m'\u001b[39m] \u001b[38;5;241m=\u001b[39m x[\u001b[38;5;124m'\u001b[39m\u001b[38;5;124mimage\u001b[39m\u001b[38;5;124m'\u001b[39m]\u001b[38;5;241m.\u001b[39mto(device)\n\u001b[1;32m----> 4\u001b[0m preds \u001b[38;5;241m=\u001b[39m model(x[\u001b[38;5;124m'\u001b[39m\u001b[38;5;124mimage\u001b[39m\u001b[38;5;124m'\u001b[39m])\n\u001b[0;32m      5\u001b[0m preds\n",
      "File \u001b[1;32m~\\anaconda3\\Lib\\site-packages\\torch\\nn\\modules\\module.py:1736\u001b[0m, in \u001b[0;36mModule._wrapped_call_impl\u001b[1;34m(self, *args, **kwargs)\u001b[0m\n\u001b[0;32m   1734\u001b[0m     \u001b[38;5;28;01mreturn\u001b[39;00m \u001b[38;5;28mself\u001b[39m\u001b[38;5;241m.\u001b[39m_compiled_call_impl(\u001b[38;5;241m*\u001b[39margs, \u001b[38;5;241m*\u001b[39m\u001b[38;5;241m*\u001b[39mkwargs)  \u001b[38;5;66;03m# type: ignore[misc]\u001b[39;00m\n\u001b[0;32m   1735\u001b[0m \u001b[38;5;28;01melse\u001b[39;00m:\n\u001b[1;32m-> 1736\u001b[0m     \u001b[38;5;28;01mreturn\u001b[39;00m \u001b[38;5;28mself\u001b[39m\u001b[38;5;241m.\u001b[39m_call_impl(\u001b[38;5;241m*\u001b[39margs, \u001b[38;5;241m*\u001b[39m\u001b[38;5;241m*\u001b[39mkwargs)\n",
      "File \u001b[1;32m~\\anaconda3\\Lib\\site-packages\\torch\\nn\\modules\\module.py:1747\u001b[0m, in \u001b[0;36mModule._call_impl\u001b[1;34m(self, *args, **kwargs)\u001b[0m\n\u001b[0;32m   1742\u001b[0m \u001b[38;5;66;03m# If we don't have any hooks, we want to skip the rest of the logic in\u001b[39;00m\n\u001b[0;32m   1743\u001b[0m \u001b[38;5;66;03m# this function, and just call forward.\u001b[39;00m\n\u001b[0;32m   1744\u001b[0m \u001b[38;5;28;01mif\u001b[39;00m \u001b[38;5;129;01mnot\u001b[39;00m (\u001b[38;5;28mself\u001b[39m\u001b[38;5;241m.\u001b[39m_backward_hooks \u001b[38;5;129;01mor\u001b[39;00m \u001b[38;5;28mself\u001b[39m\u001b[38;5;241m.\u001b[39m_backward_pre_hooks \u001b[38;5;129;01mor\u001b[39;00m \u001b[38;5;28mself\u001b[39m\u001b[38;5;241m.\u001b[39m_forward_hooks \u001b[38;5;129;01mor\u001b[39;00m \u001b[38;5;28mself\u001b[39m\u001b[38;5;241m.\u001b[39m_forward_pre_hooks\n\u001b[0;32m   1745\u001b[0m         \u001b[38;5;129;01mor\u001b[39;00m _global_backward_pre_hooks \u001b[38;5;129;01mor\u001b[39;00m _global_backward_hooks\n\u001b[0;32m   1746\u001b[0m         \u001b[38;5;129;01mor\u001b[39;00m _global_forward_hooks \u001b[38;5;129;01mor\u001b[39;00m _global_forward_pre_hooks):\n\u001b[1;32m-> 1747\u001b[0m     \u001b[38;5;28;01mreturn\u001b[39;00m forward_call(\u001b[38;5;241m*\u001b[39margs, \u001b[38;5;241m*\u001b[39m\u001b[38;5;241m*\u001b[39mkwargs)\n\u001b[0;32m   1749\u001b[0m result \u001b[38;5;241m=\u001b[39m \u001b[38;5;28;01mNone\u001b[39;00m\n\u001b[0;32m   1750\u001b[0m called_always_called_hooks \u001b[38;5;241m=\u001b[39m \u001b[38;5;28mset\u001b[39m()\n",
      "Cell \u001b[1;32mIn[40], line 56\u001b[0m, in \u001b[0;36mModel.forward\u001b[1;34m(self, x)\u001b[0m\n\u001b[0;32m     54\u001b[0m \u001b[38;5;28;01mdef\u001b[39;00m \u001b[38;5;21mforward\u001b[39m(\u001b[38;5;28mself\u001b[39m, x: Tensor) \u001b[38;5;241m-\u001b[39m\u001b[38;5;241m>\u001b[39m ty\u001b[38;5;241m.\u001b[39mDict[\u001b[38;5;28mstr\u001b[39m, Tensor]:\n\u001b[0;32m     55\u001b[0m     features \u001b[38;5;241m=\u001b[39m \u001b[38;5;28mself\u001b[39m\u001b[38;5;241m.\u001b[39mbackbone(x)\n\u001b[1;32m---> 56\u001b[0m     cls_logits \u001b[38;5;241m=\u001b[39m \u001b[38;5;28mself\u001b[39m\u001b[38;5;241m.\u001b[39mcls_head(features)\n\u001b[0;32m     57\u001b[0m     pred_bbox \u001b[38;5;241m=\u001b[39m \u001b[38;5;28mself\u001b[39m\u001b[38;5;241m.\u001b[39mreg_head(features)\n\u001b[0;32m     58\u001b[0m     predictions \u001b[38;5;241m=\u001b[39m {\u001b[38;5;124m'\u001b[39m\u001b[38;5;124mbbox\u001b[39m\u001b[38;5;124m'\u001b[39m: pred_bbox, \u001b[38;5;124m'\u001b[39m\u001b[38;5;124mclass_id\u001b[39m\u001b[38;5;124m'\u001b[39m: cls_logits}\n",
      "File \u001b[1;32m~\\anaconda3\\Lib\\site-packages\\torch\\nn\\modules\\module.py:1736\u001b[0m, in \u001b[0;36mModule._wrapped_call_impl\u001b[1;34m(self, *args, **kwargs)\u001b[0m\n\u001b[0;32m   1734\u001b[0m     \u001b[38;5;28;01mreturn\u001b[39;00m \u001b[38;5;28mself\u001b[39m\u001b[38;5;241m.\u001b[39m_compiled_call_impl(\u001b[38;5;241m*\u001b[39margs, \u001b[38;5;241m*\u001b[39m\u001b[38;5;241m*\u001b[39mkwargs)  \u001b[38;5;66;03m# type: ignore[misc]\u001b[39;00m\n\u001b[0;32m   1735\u001b[0m \u001b[38;5;28;01melse\u001b[39;00m:\n\u001b[1;32m-> 1736\u001b[0m     \u001b[38;5;28;01mreturn\u001b[39;00m \u001b[38;5;28mself\u001b[39m\u001b[38;5;241m.\u001b[39m_call_impl(\u001b[38;5;241m*\u001b[39margs, \u001b[38;5;241m*\u001b[39m\u001b[38;5;241m*\u001b[39mkwargs)\n",
      "File \u001b[1;32m~\\anaconda3\\Lib\\site-packages\\torch\\nn\\modules\\module.py:1747\u001b[0m, in \u001b[0;36mModule._call_impl\u001b[1;34m(self, *args, **kwargs)\u001b[0m\n\u001b[0;32m   1742\u001b[0m \u001b[38;5;66;03m# If we don't have any hooks, we want to skip the rest of the logic in\u001b[39;00m\n\u001b[0;32m   1743\u001b[0m \u001b[38;5;66;03m# this function, and just call forward.\u001b[39;00m\n\u001b[0;32m   1744\u001b[0m \u001b[38;5;28;01mif\u001b[39;00m \u001b[38;5;129;01mnot\u001b[39;00m (\u001b[38;5;28mself\u001b[39m\u001b[38;5;241m.\u001b[39m_backward_hooks \u001b[38;5;129;01mor\u001b[39;00m \u001b[38;5;28mself\u001b[39m\u001b[38;5;241m.\u001b[39m_backward_pre_hooks \u001b[38;5;129;01mor\u001b[39;00m \u001b[38;5;28mself\u001b[39m\u001b[38;5;241m.\u001b[39m_forward_hooks \u001b[38;5;129;01mor\u001b[39;00m \u001b[38;5;28mself\u001b[39m\u001b[38;5;241m.\u001b[39m_forward_pre_hooks\n\u001b[0;32m   1745\u001b[0m         \u001b[38;5;129;01mor\u001b[39;00m _global_backward_pre_hooks \u001b[38;5;129;01mor\u001b[39;00m _global_backward_hooks\n\u001b[0;32m   1746\u001b[0m         \u001b[38;5;129;01mor\u001b[39;00m _global_forward_hooks \u001b[38;5;129;01mor\u001b[39;00m _global_forward_pre_hooks):\n\u001b[1;32m-> 1747\u001b[0m     \u001b[38;5;28;01mreturn\u001b[39;00m forward_call(\u001b[38;5;241m*\u001b[39margs, \u001b[38;5;241m*\u001b[39m\u001b[38;5;241m*\u001b[39mkwargs)\n\u001b[0;32m   1749\u001b[0m result \u001b[38;5;241m=\u001b[39m \u001b[38;5;28;01mNone\u001b[39;00m\n\u001b[0;32m   1750\u001b[0m called_always_called_hooks \u001b[38;5;241m=\u001b[39m \u001b[38;5;28mset\u001b[39m()\n",
      "File \u001b[1;32m~\\anaconda3\\Lib\\site-packages\\torch\\nn\\modules\\container.py:250\u001b[0m, in \u001b[0;36mSequential.forward\u001b[1;34m(self, input)\u001b[0m\n\u001b[0;32m    248\u001b[0m \u001b[38;5;28;01mdef\u001b[39;00m \u001b[38;5;21mforward\u001b[39m(\u001b[38;5;28mself\u001b[39m, \u001b[38;5;28minput\u001b[39m):\n\u001b[0;32m    249\u001b[0m     \u001b[38;5;28;01mfor\u001b[39;00m module \u001b[38;5;129;01min\u001b[39;00m \u001b[38;5;28mself\u001b[39m:\n\u001b[1;32m--> 250\u001b[0m         \u001b[38;5;28minput\u001b[39m \u001b[38;5;241m=\u001b[39m module(\u001b[38;5;28minput\u001b[39m)\n\u001b[0;32m    251\u001b[0m     \u001b[38;5;28;01mreturn\u001b[39;00m \u001b[38;5;28minput\u001b[39m\n",
      "File \u001b[1;32m~\\anaconda3\\Lib\\site-packages\\torch\\nn\\modules\\module.py:1736\u001b[0m, in \u001b[0;36mModule._wrapped_call_impl\u001b[1;34m(self, *args, **kwargs)\u001b[0m\n\u001b[0;32m   1734\u001b[0m     \u001b[38;5;28;01mreturn\u001b[39;00m \u001b[38;5;28mself\u001b[39m\u001b[38;5;241m.\u001b[39m_compiled_call_impl(\u001b[38;5;241m*\u001b[39margs, \u001b[38;5;241m*\u001b[39m\u001b[38;5;241m*\u001b[39mkwargs)  \u001b[38;5;66;03m# type: ignore[misc]\u001b[39;00m\n\u001b[0;32m   1735\u001b[0m \u001b[38;5;28;01melse\u001b[39;00m:\n\u001b[1;32m-> 1736\u001b[0m     \u001b[38;5;28;01mreturn\u001b[39;00m \u001b[38;5;28mself\u001b[39m\u001b[38;5;241m.\u001b[39m_call_impl(\u001b[38;5;241m*\u001b[39margs, \u001b[38;5;241m*\u001b[39m\u001b[38;5;241m*\u001b[39mkwargs)\n",
      "File \u001b[1;32m~\\anaconda3\\Lib\\site-packages\\torch\\nn\\modules\\module.py:1747\u001b[0m, in \u001b[0;36mModule._call_impl\u001b[1;34m(self, *args, **kwargs)\u001b[0m\n\u001b[0;32m   1742\u001b[0m \u001b[38;5;66;03m# If we don't have any hooks, we want to skip the rest of the logic in\u001b[39;00m\n\u001b[0;32m   1743\u001b[0m \u001b[38;5;66;03m# this function, and just call forward.\u001b[39;00m\n\u001b[0;32m   1744\u001b[0m \u001b[38;5;28;01mif\u001b[39;00m \u001b[38;5;129;01mnot\u001b[39;00m (\u001b[38;5;28mself\u001b[39m\u001b[38;5;241m.\u001b[39m_backward_hooks \u001b[38;5;129;01mor\u001b[39;00m \u001b[38;5;28mself\u001b[39m\u001b[38;5;241m.\u001b[39m_backward_pre_hooks \u001b[38;5;129;01mor\u001b[39;00m \u001b[38;5;28mself\u001b[39m\u001b[38;5;241m.\u001b[39m_forward_hooks \u001b[38;5;129;01mor\u001b[39;00m \u001b[38;5;28mself\u001b[39m\u001b[38;5;241m.\u001b[39m_forward_pre_hooks\n\u001b[0;32m   1745\u001b[0m         \u001b[38;5;129;01mor\u001b[39;00m _global_backward_pre_hooks \u001b[38;5;129;01mor\u001b[39;00m _global_backward_hooks\n\u001b[0;32m   1746\u001b[0m         \u001b[38;5;129;01mor\u001b[39;00m _global_forward_hooks \u001b[38;5;129;01mor\u001b[39;00m _global_forward_pre_hooks):\n\u001b[1;32m-> 1747\u001b[0m     \u001b[38;5;28;01mreturn\u001b[39;00m forward_call(\u001b[38;5;241m*\u001b[39margs, \u001b[38;5;241m*\u001b[39m\u001b[38;5;241m*\u001b[39mkwargs)\n\u001b[0;32m   1749\u001b[0m result \u001b[38;5;241m=\u001b[39m \u001b[38;5;28;01mNone\u001b[39;00m\n\u001b[0;32m   1750\u001b[0m called_always_called_hooks \u001b[38;5;241m=\u001b[39m \u001b[38;5;28mset\u001b[39m()\n",
      "File \u001b[1;32m~\\anaconda3\\Lib\\site-packages\\torch\\nn\\modules\\linear.py:125\u001b[0m, in \u001b[0;36mLinear.forward\u001b[1;34m(self, input)\u001b[0m\n\u001b[0;32m    124\u001b[0m \u001b[38;5;28;01mdef\u001b[39;00m \u001b[38;5;21mforward\u001b[39m(\u001b[38;5;28mself\u001b[39m, \u001b[38;5;28minput\u001b[39m: Tensor) \u001b[38;5;241m-\u001b[39m\u001b[38;5;241m>\u001b[39m Tensor:\n\u001b[1;32m--> 125\u001b[0m     \u001b[38;5;28;01mreturn\u001b[39;00m F\u001b[38;5;241m.\u001b[39mlinear(\u001b[38;5;28minput\u001b[39m, \u001b[38;5;28mself\u001b[39m\u001b[38;5;241m.\u001b[39mweight, \u001b[38;5;28mself\u001b[39m\u001b[38;5;241m.\u001b[39mbias)\n",
      "\u001b[1;31mRuntimeError\u001b[0m: CUDA error: CUBLAS_STATUS_EXECUTION_FAILED when calling cublasLtMatmul with transpose_mat1 1 transpose_mat2 0 m 768 n 16 k 25088 mat1_ld 25088 mat2_ld 25088 result_ld 768 abcType 0 computeType 68 scaleType 0"
     ]
    }
   ],
   "source": [
    "print('image', x['image'].size())\n",
    "model = Model(input_shape=(3, h, w), n_classes=6).to(device)\n",
    "x['image'] = x['image'].to(device)\n",
    "preds = model(x['image'])\n",
    "preds"
   ]
  },
  {
   "cell_type": "markdown",
   "metadata": {
    "id": "z8eNZ3iCNqPQ",
    "papermill": {
     "duration": 0.042487,
     "end_time": "2024-11-13T17:32:41.652195",
     "exception": false,
     "start_time": "2024-11-13T17:32:41.609708",
     "status": "completed"
    },
    "tags": []
   },
   "source": [
    "# Metrics"
   ]
  },
  {
   "cell_type": "code",
   "execution_count": null,
   "metadata": {
    "execution": {
     "iopub.execute_input": "2025-02-10T22:56:45.248677Z",
     "iopub.status.busy": "2025-02-10T22:56:45.248367Z",
     "iopub.status.idle": "2025-02-10T22:56:45.252966Z",
     "shell.execute_reply": "2025-02-10T22:56:45.252107Z",
     "shell.execute_reply.started": "2025-02-10T22:56:45.248651Z"
    },
    "id": "z9c-3QYSNqPR",
    "papermill": {
     "duration": 0.050631,
     "end_time": "2024-11-13T17:32:41.74505",
     "exception": false,
     "start_time": "2024-11-13T17:32:41.694419",
     "status": "completed"
    },
    "tags": []
   },
   "outputs": [],
   "source": [
    "def iou(y_true: Tensor, y_pred: Tensor):\n",
    "    pairwise_iou = torchvision.ops.box_iou(y_true.squeeze(), y_pred.squeeze())\n",
    "    result = torch.trace(pairwise_iou) / pairwise_iou.size()[0]\n",
    "    return result"
   ]
  },
  {
   "cell_type": "code",
   "execution_count": null,
   "metadata": {
    "execution": {
     "iopub.execute_input": "2025-02-10T22:56:45.619174Z",
     "iopub.status.busy": "2025-02-10T22:56:45.618888Z",
     "iopub.status.idle": "2025-02-10T22:56:45.623478Z",
     "shell.execute_reply": "2025-02-10T22:56:45.62268Z",
     "shell.execute_reply.started": "2025-02-10T22:56:45.619151Z"
    },
    "id": "Nk3YYqNzNqPR",
    "papermill": {
     "duration": 0.052741,
     "end_time": "2024-11-13T17:32:41.841048",
     "exception": false,
     "start_time": "2024-11-13T17:32:41.788307",
     "status": "completed"
    },
    "tags": []
   },
   "outputs": [],
   "source": [
    "def accuracy(y_true: Tensor, y_pred: Tensor):\n",
    "    pred = torch.argmax(y_pred, axis=-1)\n",
    "    y_true = y_true.squeeze()\n",
    "    correct = torch.eq(pred, y_true).float()\n",
    "    total = torch.ones_like(correct)\n",
    "    result = torch.divide(torch.sum(correct), torch.sum(total))\n",
    "    return result"
   ]
  },
  {
   "cell_type": "markdown",
   "metadata": {
    "id": "SFOSGDVwNqPR",
    "papermill": {
     "duration": 0.042718,
     "end_time": "2024-11-13T17:32:41.926815",
     "exception": false,
     "start_time": "2024-11-13T17:32:41.884097",
     "status": "completed"
    },
    "tags": []
   },
   "source": [
    "# Loss fn"
   ]
  },
  {
   "cell_type": "code",
   "execution_count": null,
   "metadata": {
    "execution": {
     "iopub.execute_input": "2025-02-10T22:56:47.54435Z",
     "iopub.status.busy": "2025-02-10T22:56:47.544006Z",
     "iopub.status.idle": "2025-02-10T22:56:47.549393Z",
     "shell.execute_reply": "2025-02-10T22:56:47.548412Z",
     "shell.execute_reply.started": "2025-02-10T22:56:47.544318Z"
    },
    "id": "jeysvYcuNqPS"
   },
   "outputs": [],
   "source": [
    "def loss_fn(y_true, y_preds, alpha: float = 0.5):\n",
    "    cls_y_true, cls_y_pred = y_true['class_id'].long(), y_preds['class_id'].float().unsqueeze(-1)\n",
    "    reg_y_true, reg_y_pred = y_true['bbox'].float().squeeze(), y_preds['bbox'].float().squeeze()\n",
    "\n",
    "    cls_loss = F.cross_entropy(cls_y_pred, cls_y_true)\n",
    "\n",
    "    reg_loss = F.mse_loss(reg_y_pred, reg_y_true)\n",
    "    # Adds weights to both tasks\n",
    "    total_loss = (1 - alpha) * cls_loss + alpha * reg_loss\n",
    "    return dict(loss=total_loss, reg_loss=reg_loss,cls_loss=cls_loss)"
   ]
  },
  {
   "cell_type": "markdown",
   "metadata": {
    "id": "qtDnAGEBNqPS",
    "papermill": {
     "duration": 0.042187,
     "end_time": "2024-11-13T17:32:42.108107",
     "exception": false,
     "start_time": "2024-11-13T17:32:42.06592",
     "status": "completed"
    },
    "tags": []
   },
   "source": [
    "# Callbacks"
   ]
  },
  {
   "cell_type": "code",
   "execution_count": null,
   "metadata": {
    "execution": {
     "iopub.execute_input": "2025-02-10T22:56:50.625994Z",
     "iopub.status.busy": "2025-02-10T22:56:50.625688Z",
     "iopub.status.idle": "2025-02-10T22:56:50.630965Z",
     "shell.execute_reply": "2025-02-10T22:56:50.629994Z",
     "shell.execute_reply.started": "2025-02-10T22:56:50.625969Z"
    },
    "id": "AgkTlNyONqPT",
    "papermill": {
     "duration": 0.051979,
     "end_time": "2024-11-13T17:32:42.202411",
     "exception": false,
     "start_time": "2024-11-13T17:32:42.150432",
     "status": "completed"
    },
    "tags": []
   },
   "outputs": [],
   "source": [
    "def printer(logs: ty.Dict[str, ty.Any]):\n",
    "    # print every 10 steps\n",
    "    if logs['iters'] % 10 != 0:\n",
    "        return\n",
    "    print('Iteration #: ',logs['iters'])\n",
    "    for name, value in logs.items():\n",
    "        if name == 'iters':\n",
    "            continue\n",
    "\n",
    "        if type(value) in [float, int]:\n",
    "            value = round(value, 4)\n",
    "        elif type(value) is torch.Tensor:\n",
    "            value = torch.round(value, decimals=4)\n",
    "\n",
    "        print(f'\\t{name} = {value}')\n",
    "    print()"
   ]
  },
  {
   "cell_type": "markdown",
   "metadata": {
    "id": "s0DFy8ZFNqPT",
    "papermill": {
     "duration": 0.050635,
     "end_time": "2024-11-13T17:32:42.332431",
     "exception": false,
     "start_time": "2024-11-13T17:32:42.281796",
     "status": "completed"
    },
    "tags": []
   },
   "source": [
    "# Training loop"
   ]
  },
  {
   "cell_type": "code",
   "execution_count": null,
   "metadata": {
    "execution": {
     "iopub.execute_input": "2025-02-10T22:56:52.344249Z",
     "iopub.status.busy": "2025-02-10T22:56:52.343932Z",
     "iopub.status.idle": "2025-02-10T22:56:52.356586Z",
     "shell.execute_reply": "2025-02-10T22:56:52.355653Z",
     "shell.execute_reply.started": "2025-02-10T22:56:52.344204Z"
    },
    "id": "N-2Few3SNqPU",
    "papermill": {
     "duration": 0.069189,
     "end_time": "2024-11-13T17:32:42.451328",
     "exception": false,
     "start_time": "2024-11-13T17:32:42.382139",
     "status": "completed"
    },
    "tags": []
   },
   "outputs": [],
   "source": [
    "def evaluate(\n",
    "    logs: ty.Dict[str, ty.Any],\n",
    "    labels: ty.Dict[str, Tensor],\n",
    "    preds: ty.Dict[str, Tensor],\n",
    "    eval_set: str,\n",
    "    metrics: ty.Dict[str, ty.Callable[[Tensor, Tensor], Tensor]],\n",
    "    losses: ty.Optional[ty.Dict[str, Tensor]] = None,\n",
    ") -> ty.Dict[str, ty.Any]:\n",
    "\n",
    "    if losses is not None:\n",
    "        for loss_name, loss_value in losses.items():\n",
    "            logs[f'{eval_set}_{loss_name}'] = loss_value\n",
    "\n",
    "    for task_name, label in labels.items():\n",
    "        for metric_name, metric in metrics[task_name]:\n",
    "            value = metric(label, preds[task_name])\n",
    "            logs[f'{eval_set}_{metric_name}'] = value\n",
    "\n",
    "    return logs\n",
    "\n",
    "def step(\n",
    "    model: Model,\n",
    "    optimizer: Optimizer,\n",
    "    batch: militarDataset,\n",
    "    loss_fn: ty.Callable[[ty.Dict[str, torch.Tensor]], torch.Tensor],\n",
    "    device: str,\n",
    "    train: bool = False,\n",
    ") -> ty.Tuple[ty.Dict[str, Tensor], ty.Dict[str, Tensor]]:\n",
    "\n",
    "    if train:\n",
    "        optimizer.zero_grad()\n",
    "\n",
    "    #img = batch['image'].to(device)\n",
    "    img = batch.pop('image').to(device)\n",
    "\n",
    "    for k in list(batch.keys()):\n",
    "        batch[k] = batch[k].to(device)\n",
    "\n",
    "    preds = model(img.float())\n",
    "    losses = loss_fn(batch, preds)\n",
    "    final_loss = losses['loss']\n",
    "\n",
    "    if train:\n",
    "        final_loss.backward()\n",
    "        optimizer.step()\n",
    "\n",
    "    return losses, preds\n",
    "\n",
    "\n",
    "def train(\n",
    "    model: Model,\n",
    "    optimizer: Optimizer,\n",
    "    dataset: DataLoader,\n",
    "    eval_datasets: ty.List[ty.Tuple[str, DataLoader]],\n",
    "    loss_fn: ty.Callable[[ty.Dict[str, torch.Tensor]], torch.Tensor],\n",
    "    metrics: ty.Dict[str, ty.Callable[[Tensor, Tensor], Tensor]],\n",
    "    callbacks: ty.List[ty.Callable[[ty.Dict[ty.Any, ty.Any]], None]],\n",
    "    device: str,\n",
    "    train_steps: 100,\n",
    "    eval_steps: 10,\n",
    ") -> Model:\n",
    "    # Send model to device (GPU or CPU)\n",
    "    model = model.to(device)\n",
    "    iters = 0\n",
    "    iterator = iter(dataset)\n",
    "    assert train_steps > eval_steps, 'Train steps should be greater than the eval steps'\n",
    "\n",
    "    while iters <= train_steps:\n",
    "        logs = dict()\n",
    "        logs['iters'] = iters\n",
    "        try:\n",
    "            batch = next(iterator)\n",
    "        except StopIteration:\n",
    "            iterator = iter(dataset)\n",
    "            batch = next(iterator)\n",
    "        # Send batch to device\n",
    "        losses, preds = step(model, optimizer, batch, loss_fn, device, train=True)\n",
    "        logs = evaluate(logs, batch, preds, 'train', metrics, losses)\n",
    "\n",
    "        # Eval every eval_steps iterations\n",
    "        if iters % eval_steps == 0:\n",
    "            # Evaluate\n",
    "            # Deactives layers that only needed to train\n",
    "            # https://discuss.pytorch.org/t/model-eval-vs-with-torch-no-grad/19615\n",
    "            model.eval()\n",
    "\n",
    "            # Avoids calculating gradients in evaluation dataset.\n",
    "            with torch.no_grad():\n",
    "\n",
    "                for name, dataset in eval_datasets:\n",
    "\n",
    "                    for batch in dataset:\n",
    "                        losses, preds = step(model, optimizer, batch, loss_fn, device, train=False)\n",
    "                        logs = evaluate(logs, batch, preds, name, metrics, losses)\n",
    "\n",
    "        for callback in callbacks:\n",
    "            callback(logs)\n",
    "\n",
    "        iters += 1\n",
    "\n",
    "    return model"
   ]
  },
  {
   "cell_type": "markdown",
   "metadata": {
    "id": "elEKuW0NNqPU",
    "papermill": {
     "duration": 0.043818,
     "end_time": "2024-11-13T17:32:42.53931",
     "exception": false,
     "start_time": "2024-11-13T17:32:42.495492",
     "status": "completed"
    },
    "tags": []
   },
   "source": [
    "# Run"
   ]
  },
  {
   "cell_type": "code",
   "execution_count": null,
   "metadata": {
    "execution": {
     "iopub.execute_input": "2025-02-10T22:56:56.418021Z",
     "iopub.status.busy": "2025-02-10T22:56:56.417677Z",
     "iopub.status.idle": "2025-02-10T22:56:56.821909Z",
     "shell.execute_reply": "2025-02-10T22:56:56.821122Z",
     "shell.execute_reply.started": "2025-02-10T22:56:56.417987Z"
    },
    "id": "7Tt8tQlTNqPV",
    "papermill": {
     "duration": 0.436747,
     "end_time": "2024-11-13T17:32:43.0184",
     "exception": false,
     "start_time": "2024-11-13T17:32:42.581653",
     "status": "completed"
    },
    "tags": []
   },
   "outputs": [],
   "source": [
    "# Hparams\n",
    "batch_size = 16\n",
    "lr = 0.001\n",
    "\n",
    "# Data\n",
    "train_ds = militarDataset(dataframe_with_dataaugmentation, root_dir='data_final', transform=train_transforms,output_size=(w,h))#,output_size=(255,255)\n",
    "val_ds = militarDataset(val_df, root_dir=train_root_dir, transform=eval_transforms,output_size=(w,h)) #,output_size=(255,255)\n",
    "\n",
    "train_data = DataLoader(train_ds, batch_size=batch_size, shuffle=True, num_workers=cpu_count())\n",
    "val_data = DataLoader(val_ds, batch_size=batch_size, num_workers=cpu_count())\n",
    "\n",
    "# Model\n",
    "model = Model().to(device)\n",
    "summary(model, model.input_shape)"
   ]
  },
  {
   "cell_type": "code",
   "execution_count": null,
   "metadata": {
    "execution": {
     "iopub.execute_input": "2025-02-10T22:56:58.407092Z",
     "iopub.status.busy": "2025-02-10T22:56:58.406795Z",
     "iopub.status.idle": "2025-02-10T22:57:35.049658Z",
     "shell.execute_reply": "2025-02-10T22:57:35.048347Z",
     "shell.execute_reply.started": "2025-02-10T22:56:58.407068Z"
    },
    "id": "9qVSXYdnNqPV",
    "papermill": {
     "duration": 26.288253,
     "end_time": "2024-11-13T17:33:09.351217",
     "exception": false,
     "start_time": "2024-11-13T17:32:43.062964",
     "status": "completed"
    },
    "tags": []
   },
   "outputs": [],
   "source": [
    "# Optimizer\n",
    "optimizer = torch.optim.Adam(lr=lr, params=model.parameters())\n",
    "\n",
    "model = train(\n",
    "    model,\n",
    "    optimizer,\n",
    "    train_data,\n",
    "    eval_datasets=[('val', val_data)],\n",
    "    loss_fn=loss_fn,\n",
    "    metrics={\n",
    "        'bbox': [('iou', iou)],\n",
    "        'class_id': [('accuracy', accuracy)]\n",
    "    },\n",
    "    callbacks=[printer],\n",
    "    device=device,\n",
    "    train_steps=100,\n",
    "    eval_steps=10\n",
    ")"
   ]
  },
  {
   "cell_type": "code",
   "execution_count": null,
   "metadata": {
    "execution": {
     "iopub.execute_input": "2025-02-10T22:58:06.130566Z",
     "iopub.status.busy": "2025-02-10T22:58:06.130151Z",
     "iopub.status.idle": "2025-02-10T22:58:06.136047Z",
     "shell.execute_reply": "2025-02-10T22:58:06.135377Z",
     "shell.execute_reply.started": "2025-02-10T22:58:06.130523Z"
    },
    "id": "70EQ9f7UNqPV",
    "papermill": {
     "duration": 0.05378,
     "end_time": "2024-11-13T17:33:09.45006",
     "exception": false,
     "start_time": "2024-11-13T17:33:09.39628",
     "status": "completed"
    },
    "tags": []
   },
   "outputs": [],
   "source": [
    "model.parameters()"
   ]
  },
  {
   "cell_type": "code",
   "execution_count": null,
   "metadata": {
    "execution": {
     "iopub.execute_input": "2025-02-10T22:58:06.570632Z",
     "iopub.status.busy": "2025-02-10T22:58:06.570328Z",
     "iopub.status.idle": "2025-02-10T22:58:06.791929Z",
     "shell.execute_reply": "2025-02-10T22:58:06.790842Z",
     "shell.execute_reply.started": "2025-02-10T22:58:06.570607Z"
    },
    "id": "5i5IX0YoNqPW",
    "papermill": {
     "duration": 0.205809,
     "end_time": "2024-11-13T17:33:09.699643",
     "exception": false,
     "start_time": "2024-11-13T17:33:09.493834",
     "status": "completed"
    },
    "tags": []
   },
   "outputs": [],
   "source": [
    "num_imgs = 5\n",
    "ncols = 5\n",
    "nrows = math.ceil(num_imgs / ncols)\n",
    "\n",
    "start_idx = 0\n",
    "\n",
    "inference_ds = militarDataset(val_df.iloc[start_idx:start_idx+num_imgs], root_dir=train_root_dir,output_size=(w,h))#,output_size=(255,255)\n",
    "inference_data = DataLoader(inference_ds, batch_size=num_imgs, num_workers=1, shuffle=False)\n",
    "inference_batch = next(iter(inference_data))\n",
    "inference_imgs = np.empty((num_imgs, 3, h, w))\n",
    "\n",
    "transform = eval_transforms\n",
    "\n",
    "for i, img in enumerate(inference_batch['image']):\n",
    "    inference_imgs[i] = transform(dict(image=img.numpy()))['image'].numpy()\n",
    "\n",
    "preds = model(torch.tensor(inference_imgs).float().to(device))\n",
    "\n",
    "samples = [inference_ds[i] for i in range(start_idx, num_imgs)]\n",
    "\n",
    "imgs = [s['image'] for s in samples]\n",
    "bboxes = [normalize_bbox(s['bbox'].squeeze(), h, w) for s in samples]\n",
    "classes = [s['class_id'] for s in samples]\n",
    "\n",
    "pred_bboxes = preds['bbox'].detach().cpu().numpy()\n",
    "pred_bboxes = [normalize_bbox(bbox, h, w) for bbox in pred_bboxes]\n",
    "pred_classes = preds['class_id'].argmax(-1).detach().cpu().numpy()"
   ]
  },
  {
   "cell_type": "code",
   "execution_count": null,
   "metadata": {
    "execution": {
     "iopub.execute_input": "2025-02-10T22:58:08.54704Z",
     "iopub.status.busy": "2025-02-10T22:58:08.546726Z",
     "iopub.status.idle": "2025-02-10T22:58:09.101447Z",
     "shell.execute_reply": "2025-02-10T22:58:09.100493Z",
     "shell.execute_reply.started": "2025-02-10T22:58:08.547012Z"
    },
    "id": "yJeLZzqNNqPW",
    "papermill": {
     "duration": 1.150701,
     "end_time": "2024-11-13T17:33:10.898132",
     "exception": false,
     "start_time": "2024-11-13T17:33:09.747431",
     "status": "completed"
    },
    "tags": []
   },
   "outputs": [],
   "source": [
    "# Green: ground truth\n",
    "\n",
    "imgs = draw_predictions(imgs, classes, bboxes, [(0, 150, 0)], (int(w*0.1), int(h*0.1)),thickness = 1,fontScale=1)\n",
    "# Red: predicted\n",
    "pred_classes_ = []\n",
    "for i in range(num_imgs):\n",
    "    temp = np.array([pred_classes[i]])\n",
    "    pred_classes_.append(temp)\n",
    "imgs = draw_predictions(imgs, pred_classes_, pred_bboxes, [(200, 0, 0)], (int(w*0.8), int(h*0.8)),thickness = 1,fontScale=1)\n",
    "\n",
    "fig, axes = plt.subplots(nrows=nrows, ncols=num_imgs // nrows, figsize=(30, 30))\n",
    "\n",
    "for i, ax in enumerate(axes.flat):\n",
    "    ax.imshow(imgs[i])\n",
    "    ax.axis('off')\n",
    "\n",
    "plt.tight_layout()\n",
    "plt.show()"
   ]
  },
  {
   "cell_type": "code",
   "execution_count": null,
   "metadata": {
    "execution": {
     "iopub.execute_input": "2025-02-10T22:58:26.009683Z",
     "iopub.status.busy": "2025-02-10T22:58:26.009351Z",
     "iopub.status.idle": "2025-02-10T22:58:26.617535Z",
     "shell.execute_reply": "2025-02-10T22:58:26.616576Z",
     "shell.execute_reply.started": "2025-02-10T22:58:26.009654Z"
    },
    "id": "8SYEevsmNqPX",
    "papermill": {
     "duration": 0.487078,
     "end_time": "2024-11-13T17:33:15.02297",
     "exception": false,
     "start_time": "2024-11-13T17:33:14.535892",
     "status": "completed"
    },
    "tags": []
   },
   "outputs": [],
   "source": [
    "# Save the model to disk\n",
    "torch.save(model, 'pretrained_model.pth')"
   ]
  },
  {
   "cell_type": "markdown",
   "metadata": {
    "id": "Q7zA0PaTNqPX",
    "papermill": {
     "duration": 0.067774,
     "end_time": "2024-11-13T17:33:15.1594",
     "exception": false,
     "start_time": "2024-11-13T17:33:15.091626",
     "status": "completed"
    },
    "tags": []
   },
   "source": [
    "# Submission"
   ]
  },
  {
   "cell_type": "code",
   "execution_count": null,
   "metadata": {
    "execution": {
     "iopub.execute_input": "2025-02-10T22:58:27.703014Z",
     "iopub.status.busy": "2025-02-10T22:58:27.702726Z",
     "iopub.status.idle": "2025-02-10T22:58:28.538573Z",
     "shell.execute_reply": "2025-02-10T22:58:28.537621Z",
     "shell.execute_reply.started": "2025-02-10T22:58:27.70299Z"
    },
    "id": "vGFvLrlzNqPX",
    "papermill": {
     "duration": 0.900442,
     "end_time": "2024-11-13T17:33:16.127944",
     "exception": false,
     "start_time": "2024-11-13T17:33:15.227502",
     "status": "completed"
    },
    "tags": []
   },
   "outputs": [],
   "source": [
    "# Perform inference on cpu in order to avoid memory problems\n",
    "device = 'cuda'\n",
    "model = model.to(device)\n",
    "\n",
    "test_root_dir = osp.join(DATA_DIR, \"images/images\")\n",
    "test_df = pd.read_csv(osp.join(DATA_DIR, \"test.csv\"))\n",
    "\n",
    "test_ds = militarDataset(test_df, root_dir=test_root_dir, labeled=False, transform=eval_transforms,output_size=(w,h))#\n",
    "test_data = DataLoader(test_ds, batch_size=1, num_workers=cpu_count(), shuffle=False)\n",
    "\n",
    "class_preds = []\n",
    "bbox_preds = []\n",
    "\n",
    "for batch in test_data:\n",
    "    batch_preds = model(batch['image'].float().to(device))\n",
    "\n",
    "    class_pred = batch_preds['class_id'].argmax(-1).detach().cpu().numpy()\n",
    "    bbox_pred = batch_preds['bbox'].detach().cpu().numpy()\n",
    "\n",
    "    class_preds.append(class_pred.squeeze())\n",
    "    bbox_preds.append(bbox_pred.squeeze())"
   ]
  },
  {
   "cell_type": "code",
   "execution_count": null,
   "metadata": {
    "execution": {
     "iopub.execute_input": "2025-02-10T22:58:30.478462Z",
     "iopub.status.busy": "2025-02-10T22:58:30.478085Z",
     "iopub.status.idle": "2025-02-10T22:58:30.483268Z",
     "shell.execute_reply": "2025-02-10T22:58:30.482604Z",
     "shell.execute_reply.started": "2025-02-10T22:58:30.478426Z"
    },
    "id": "kQrjYox0NqPY",
    "papermill": {
     "duration": 0.077976,
     "end_time": "2024-11-13T17:33:16.274899",
     "exception": false,
     "start_time": "2024-11-13T17:33:16.196923",
     "status": "completed"
    },
    "tags": []
   },
   "outputs": [],
   "source": [
    "class_preds = np.array(class_preds)\n",
    "bbox_preds = np.array(bbox_preds)"
   ]
  },
  {
   "cell_type": "code",
   "execution_count": null,
   "metadata": {
    "execution": {
     "iopub.execute_input": "2025-02-10T22:58:31.486155Z",
     "iopub.status.busy": "2025-02-10T22:58:31.485823Z",
     "iopub.status.idle": "2025-02-10T22:58:31.497983Z",
     "shell.execute_reply": "2025-02-10T22:58:31.497145Z",
     "shell.execute_reply.started": "2025-02-10T22:58:31.486125Z"
    },
    "id": "iOZj1S-LNqPY",
    "papermill": {
     "duration": 0.089679,
     "end_time": "2024-11-13T17:33:16.432577",
     "exception": false,
     "start_time": "2024-11-13T17:33:16.342898",
     "status": "completed"
    },
    "tags": []
   },
   "outputs": [],
   "source": [
    "submission = pd.DataFrame(\n",
    "    index=test_df.filename,\n",
    "    data={\n",
    "        'class_id': class_preds,\n",
    "        }\n",
    ")\n",
    "submission"
   ]
  },
  {
   "cell_type": "code",
   "execution_count": null,
   "metadata": {
    "execution": {
     "iopub.execute_input": "2025-02-10T22:58:33.830828Z",
     "iopub.status.busy": "2025-02-10T22:58:33.830519Z",
     "iopub.status.idle": "2025-02-10T22:58:33.836988Z",
     "shell.execute_reply": "2025-02-10T22:58:33.835997Z",
     "shell.execute_reply.started": "2025-02-10T22:58:33.830802Z"
    },
    "id": "Au3hus3XNqPZ"
   },
   "outputs": [],
   "source": [
    "submission[\"xmin\"] = bbox_preds[:, 0]*w_real\n",
    "submission[\"ymin\"] = bbox_preds[:, 1]*h_real\n",
    "submission[\"xmax\"] = bbox_preds[:, 2]*w_real\n",
    "submission[\"ymax\"] = bbox_preds[:, 3]*h_real"
   ]
  },
  {
   "cell_type": "code",
   "execution_count": null,
   "metadata": {
    "execution": {
     "iopub.execute_input": "2025-02-10T22:58:35.734867Z",
     "iopub.status.busy": "2025-02-10T22:58:35.734559Z",
     "iopub.status.idle": "2025-02-10T22:58:35.740191Z",
     "shell.execute_reply": "2025-02-10T22:58:35.739246Z",
     "shell.execute_reply.started": "2025-02-10T22:58:35.734841Z"
    },
    "id": "agJrPdEZNqPa",
    "papermill": {
     "duration": 0.075377,
     "end_time": "2024-11-13T17:33:16.730726",
     "exception": false,
     "start_time": "2024-11-13T17:33:16.655349",
     "status": "completed"
    },
    "tags": []
   },
   "outputs": [],
   "source": [
    "submission['class_id']=submission['class_id'].replace(id2obj)"
   ]
  },
  {
   "cell_type": "code",
   "execution_count": null,
   "metadata": {
    "execution": {
     "iopub.execute_input": "2025-02-10T22:58:36.582568Z",
     "iopub.status.busy": "2025-02-10T22:58:36.582266Z",
     "iopub.status.idle": "2025-02-10T22:58:36.58991Z",
     "shell.execute_reply": "2025-02-10T22:58:36.589162Z",
     "shell.execute_reply.started": "2025-02-10T22:58:36.582544Z"
    },
    "id": "coNzYyKINqPa",
    "papermill": {
     "duration": 0.08054,
     "end_time": "2024-11-13T17:33:16.880551",
     "exception": false,
     "start_time": "2024-11-13T17:33:16.800011",
     "status": "completed"
    },
    "tags": []
   },
   "outputs": [],
   "source": [
    "submission['class_id'].value_counts()"
   ]
  },
  {
   "cell_type": "code",
   "execution_count": null,
   "metadata": {
    "execution": {
     "iopub.execute_input": "2025-02-10T22:58:39.710779Z",
     "iopub.status.busy": "2025-02-10T22:58:39.710424Z",
     "iopub.status.idle": "2025-02-10T22:58:39.722618Z",
     "shell.execute_reply": "2025-02-10T22:58:39.721773Z",
     "shell.execute_reply.started": "2025-02-10T22:58:39.710746Z"
    },
    "id": "k-HJ1NG1NqPg"
   },
   "outputs": [],
   "source": [
    "submission"
   ]
  },
  {
   "cell_type": "code",
   "execution_count": null,
   "metadata": {
    "execution": {
     "iopub.execute_input": "2025-02-10T22:58:43.615007Z",
     "iopub.status.busy": "2025-02-10T22:58:43.61467Z",
     "iopub.status.idle": "2025-02-10T22:58:43.624692Z",
     "shell.execute_reply": "2025-02-10T22:58:43.623873Z",
     "shell.execute_reply.started": "2025-02-10T22:58:43.614974Z"
    },
    "id": "IGx74mnPNqPg",
    "papermill": {
     "duration": 0.080309,
     "end_time": "2024-11-13T17:33:17.029378",
     "exception": false,
     "start_time": "2024-11-13T17:33:16.949069",
     "status": "completed"
    },
    "tags": []
   },
   "outputs": [],
   "source": [
    "submission.to_csv('submission_vgg16.csv')"
   ]
  },
  {
   "cell_type": "code",
   "execution_count": null,
   "metadata": {
    "id": "CTQtUhtONqPh"
   },
   "outputs": [],
   "source": []
  }
 ],
 "metadata": {
  "colab": {
   "name": "aa-iv-2025-i-object-localization c8c51e",
   "provenance": []
  },
  "kaggle": {
   "accelerator": "gpu",
   "dataSources": [
    {
     "databundleVersionId": 10829413,
     "sourceId": 91296,
     "sourceType": "competition"
    }
   ],
   "dockerImageVersionId": 30839,
   "isGpuEnabled": true,
   "isInternetEnabled": false,
   "language": "python",
   "sourceType": "notebook"
  },
  "kernelspec": {
   "display_name": "Python [conda env:base] *",
   "language": "python",
   "name": "conda-base-py"
  },
  "language_info": {
   "codemirror_mode": {
    "name": "ipython",
    "version": 3
   },
   "file_extension": ".py",
   "mimetype": "text/x-python",
   "name": "python",
   "nbconvert_exporter": "python",
   "pygments_lexer": "ipython3",
   "version": "3.12.3"
  },
  "papermill": {
   "default_parameters": {},
   "duration": 78.817453,
   "end_time": "2024-11-13T17:33:19.861943",
   "environment_variables": {},
   "exception": null,
   "input_path": "__notebook__.ipynb",
   "output_path": "__notebook__.ipynb",
   "parameters": {},
   "start_time": "2024-11-13T17:32:01.04449",
   "version": "2.4.0"
  },
  "widgets": {
   "application/vnd.jupyter.widget-state+json": {
    "120f43a763954401ad60c7a62f656893": {
     "model_module": "@jupyter-widgets/controls",
     "model_module_version": "1.5.0",
     "model_name": "ButtonStyleModel",
     "state": {
      "_model_module": "@jupyter-widgets/controls",
      "_model_module_version": "1.5.0",
      "_model_name": "ButtonStyleModel",
      "_view_count": null,
      "_view_module": "@jupyter-widgets/base",
      "_view_module_version": "1.2.0",
      "_view_name": "StyleView",
      "button_color": null,
      "font_weight": ""
     }
    },
    "1245f78689ba429b94405ff219a7b143": {
     "model_module": "@jupyter-widgets/controls",
     "model_module_version": "1.5.0",
     "model_name": "DescriptionStyleModel",
     "state": {
      "_model_module": "@jupyter-widgets/controls",
      "_model_module_version": "1.5.0",
      "_model_name": "DescriptionStyleModel",
      "_view_count": null,
      "_view_module": "@jupyter-widgets/base",
      "_view_module_version": "1.2.0",
      "_view_name": "StyleView",
      "description_width": ""
     }
    },
    "268453fdd7384ba8bd93fcd0ee844da0": {
     "model_module": "@jupyter-widgets/base",
     "model_module_version": "1.2.0",
     "model_name": "LayoutModel",
     "state": {
      "_model_module": "@jupyter-widgets/base",
      "_model_module_version": "1.2.0",
      "_model_name": "LayoutModel",
      "_view_count": null,
      "_view_module": "@jupyter-widgets/base",
      "_view_module_version": "1.2.0",
      "_view_name": "LayoutView",
      "align_content": null,
      "align_items": null,
      "align_self": null,
      "border": null,
      "bottom": null,
      "display": null,
      "flex": null,
      "flex_flow": null,
      "grid_area": null,
      "grid_auto_columns": null,
      "grid_auto_flow": null,
      "grid_auto_rows": null,
      "grid_column": null,
      "grid_gap": null,
      "grid_row": null,
      "grid_template_areas": null,
      "grid_template_columns": null,
      "grid_template_rows": null,
      "height": null,
      "justify_content": null,
      "justify_items": null,
      "left": null,
      "margin": null,
      "max_height": null,
      "max_width": null,
      "min_height": null,
      "min_width": null,
      "object_fit": null,
      "object_position": null,
      "order": null,
      "overflow": null,
      "overflow_x": null,
      "overflow_y": null,
      "padding": null,
      "right": null,
      "top": null,
      "visibility": null,
      "width": null
     }
    },
    "48589bd8307a4a40b0c39ad67775c0e5": {
     "model_module": "@jupyter-widgets/controls",
     "model_module_version": "1.5.0",
     "model_name": "TextModel",
     "state": {
      "_dom_classes": [],
      "_model_module": "@jupyter-widgets/controls",
      "_model_module_version": "1.5.0",
      "_model_name": "TextModel",
      "_view_count": null,
      "_view_module": "@jupyter-widgets/controls",
      "_view_module_version": "1.5.0",
      "_view_name": "TextView",
      "continuous_update": true,
      "description": "Username:",
      "description_tooltip": null,
      "disabled": false,
      "layout": "IPY_MODEL_f6b2ab04217a4735b077878d69b51e15",
      "placeholder": "​",
      "style": "IPY_MODEL_ec68f88e313b428c9feb32b867cb5c88",
      "value": "enriquemanzano217"
     }
    },
    "52de3c10459a444eae0d8fa5d2872695": {
     "model_module": "@jupyter-widgets/controls",
     "model_module_version": "1.5.0",
     "model_name": "ProgressStyleModel",
     "state": {
      "_model_module": "@jupyter-widgets/controls",
      "_model_module_version": "1.5.0",
      "_model_name": "ProgressStyleModel",
      "_view_count": null,
      "_view_module": "@jupyter-widgets/base",
      "_view_module_version": "1.2.0",
      "_view_name": "StyleView",
      "bar_color": null,
      "description_width": ""
     }
    },
    "53645b6f4c994dbf8446b9302914308f": {
     "model_module": "@jupyter-widgets/controls",
     "model_module_version": "1.5.0",
     "model_name": "ButtonModel",
     "state": {
      "_dom_classes": [],
      "_model_module": "@jupyter-widgets/controls",
      "_model_module_version": "1.5.0",
      "_model_name": "ButtonModel",
      "_view_count": null,
      "_view_module": "@jupyter-widgets/controls",
      "_view_module_version": "1.5.0",
      "_view_name": "ButtonView",
      "button_style": "",
      "description": "Login",
      "disabled": false,
      "icon": "",
      "layout": "IPY_MODEL_cc1246a7b38d46148068aa63af9bedc8",
      "style": "IPY_MODEL_120f43a763954401ad60c7a62f656893",
      "tooltip": ""
     }
    },
    "6441fc4e270c488db57de94ea731c968": {
     "model_module": "@jupyter-widgets/base",
     "model_module_version": "1.2.0",
     "model_name": "LayoutModel",
     "state": {
      "_model_module": "@jupyter-widgets/base",
      "_model_module_version": "1.2.0",
      "_model_name": "LayoutModel",
      "_view_count": null,
      "_view_module": "@jupyter-widgets/base",
      "_view_module_version": "1.2.0",
      "_view_name": "LayoutView",
      "align_content": null,
      "align_items": null,
      "align_self": null,
      "border": null,
      "bottom": null,
      "display": null,
      "flex": null,
      "flex_flow": null,
      "grid_area": null,
      "grid_auto_columns": null,
      "grid_auto_flow": null,
      "grid_auto_rows": null,
      "grid_column": null,
      "grid_gap": null,
      "grid_row": null,
      "grid_template_areas": null,
      "grid_template_columns": null,
      "grid_template_rows": null,
      "height": null,
      "justify_content": null,
      "justify_items": null,
      "left": null,
      "margin": null,
      "max_height": null,
      "max_width": null,
      "min_height": null,
      "min_width": null,
      "object_fit": null,
      "object_position": null,
      "order": null,
      "overflow": null,
      "overflow_x": null,
      "overflow_y": null,
      "padding": null,
      "right": null,
      "top": null,
      "visibility": null,
      "width": null
     }
    },
    "660571d13bef46889080f8e84c223e75": {
     "model_module": "@jupyter-widgets/base",
     "model_module_version": "1.2.0",
     "model_name": "LayoutModel",
     "state": {
      "_model_module": "@jupyter-widgets/base",
      "_model_module_version": "1.2.0",
      "_model_name": "LayoutModel",
      "_view_count": null,
      "_view_module": "@jupyter-widgets/base",
      "_view_module_version": "1.2.0",
      "_view_name": "LayoutView",
      "align_content": null,
      "align_items": null,
      "align_self": null,
      "border": null,
      "bottom": null,
      "display": null,
      "flex": null,
      "flex_flow": null,
      "grid_area": null,
      "grid_auto_columns": null,
      "grid_auto_flow": null,
      "grid_auto_rows": null,
      "grid_column": null,
      "grid_gap": null,
      "grid_row": null,
      "grid_template_areas": null,
      "grid_template_columns": null,
      "grid_template_rows": null,
      "height": null,
      "justify_content": null,
      "justify_items": null,
      "left": null,
      "margin": null,
      "max_height": null,
      "max_width": null,
      "min_height": null,
      "min_width": null,
      "object_fit": null,
      "object_position": null,
      "order": null,
      "overflow": null,
      "overflow_x": null,
      "overflow_y": null,
      "padding": null,
      "right": null,
      "top": null,
      "visibility": null,
      "width": "20px"
     }
    },
    "67c03d4caf414b1ca30e36742826ca8a": {
     "model_module": "@jupyter-widgets/controls",
     "model_module_version": "1.5.0",
     "model_name": "DescriptionStyleModel",
     "state": {
      "_model_module": "@jupyter-widgets/controls",
      "_model_module_version": "1.5.0",
      "_model_name": "DescriptionStyleModel",
      "_view_count": null,
      "_view_module": "@jupyter-widgets/base",
      "_view_module_version": "1.2.0",
      "_view_name": "StyleView",
      "description_width": ""
     }
    },
    "6fc9ad7d422043fa96ce50d8cc708924": {
     "model_module": "@jupyter-widgets/controls",
     "model_module_version": "1.5.0",
     "model_name": "VBoxModel",
     "state": {
      "_dom_classes": [],
      "_model_module": "@jupyter-widgets/controls",
      "_model_module_version": "1.5.0",
      "_model_name": "VBoxModel",
      "_view_count": null,
      "_view_module": "@jupyter-widgets/controls",
      "_view_module_version": "1.5.0",
      "_view_name": "VBoxView",
      "box_style": "",
      "children": [
       "IPY_MODEL_cd0da2b617c64a2588612fa63cd6992d"
      ],
      "layout": "IPY_MODEL_87b2b34cff994fae81b2c5f88d5c2468"
     }
    },
    "7318400e0bc24be5a60c8319b9d65ea9": {
     "model_module": "@jupyter-widgets/controls",
     "model_module_version": "1.5.0",
     "model_name": "HBoxModel",
     "state": {
      "_dom_classes": [],
      "_model_module": "@jupyter-widgets/controls",
      "_model_module_version": "1.5.0",
      "_model_name": "HBoxModel",
      "_view_count": null,
      "_view_module": "@jupyter-widgets/controls",
      "_view_module_version": "1.5.0",
      "_view_name": "HBoxView",
      "box_style": "",
      "children": [
       "IPY_MODEL_e383bff44ad1440a81b4b0f44dcd8efc",
       "IPY_MODEL_b2108d4860eb4e58bf2f9f0b4c7e9b82",
       "IPY_MODEL_9442b7efa75348a48aa7ca8c87ccf80b"
      ],
      "layout": "IPY_MODEL_96d8d91b8cf3400caaa88a6a0ac88ccb"
     }
    },
    "756d1f5f7c2b4fa09ba54f651d06d116": {
     "model_module": "@jupyter-widgets/controls",
     "model_module_version": "1.5.0",
     "model_name": "DescriptionStyleModel",
     "state": {
      "_model_module": "@jupyter-widgets/controls",
      "_model_module_version": "1.5.0",
      "_model_name": "DescriptionStyleModel",
      "_view_count": null,
      "_view_module": "@jupyter-widgets/base",
      "_view_module_version": "1.2.0",
      "_view_name": "StyleView",
      "description_width": ""
     }
    },
    "79b1417bc6ca44838e4e010a07a41259": {
     "model_module": "@jupyter-widgets/controls",
     "model_module_version": "1.5.0",
     "model_name": "DescriptionStyleModel",
     "state": {
      "_model_module": "@jupyter-widgets/controls",
      "_model_module_version": "1.5.0",
      "_model_name": "DescriptionStyleModel",
      "_view_count": null,
      "_view_module": "@jupyter-widgets/base",
      "_view_module_version": "1.2.0",
      "_view_name": "StyleView",
      "description_width": ""
     }
    },
    "7df373052c9d4e3ebe73ff109739afd6": {
     "model_module": "@jupyter-widgets/controls",
     "model_module_version": "1.5.0",
     "model_name": "DescriptionStyleModel",
     "state": {
      "_model_module": "@jupyter-widgets/controls",
      "_model_module_version": "1.5.0",
      "_model_name": "DescriptionStyleModel",
      "_view_count": null,
      "_view_module": "@jupyter-widgets/base",
      "_view_module_version": "1.2.0",
      "_view_name": "StyleView",
      "description_width": ""
     }
    },
    "83652fd3bfb14bbe91089aea8846f8d5": {
     "model_module": "@jupyter-widgets/controls",
     "model_module_version": "1.5.0",
     "model_name": "HTMLModel",
     "state": {
      "_dom_classes": [],
      "_model_module": "@jupyter-widgets/controls",
      "_model_module_version": "1.5.0",
      "_model_name": "HTMLModel",
      "_view_count": null,
      "_view_module": "@jupyter-widgets/controls",
      "_view_module_version": "1.5.0",
      "_view_name": "HTMLView",
      "description": "",
      "description_tooltip": null,
      "layout": "IPY_MODEL_9b50dd0a8b6b456b87b93e071d8cfb92",
      "placeholder": "​",
      "style": "IPY_MODEL_1245f78689ba429b94405ff219a7b143",
      "value": "<center> <img\nsrc=https://www.kaggle.com/static/images/site-logo.png\nalt='Kaggle'> <br> Create an API token from <a\nhref=\"https://www.kaggle.com/settings/account\" target=\"_blank\">your Kaggle\nsettings page</a> and paste it below along with your Kaggle username. <br> </center>"
     }
    },
    "87b2b34cff994fae81b2c5f88d5c2468": {
     "model_module": "@jupyter-widgets/base",
     "model_module_version": "1.2.0",
     "model_name": "LayoutModel",
     "state": {
      "_model_module": "@jupyter-widgets/base",
      "_model_module_version": "1.2.0",
      "_model_name": "LayoutModel",
      "_view_count": null,
      "_view_module": "@jupyter-widgets/base",
      "_view_module_version": "1.2.0",
      "_view_name": "LayoutView",
      "align_content": null,
      "align_items": "center",
      "align_self": null,
      "border": null,
      "bottom": null,
      "display": "flex",
      "flex": null,
      "flex_flow": "column",
      "grid_area": null,
      "grid_auto_columns": null,
      "grid_auto_flow": null,
      "grid_auto_rows": null,
      "grid_column": null,
      "grid_gap": null,
      "grid_row": null,
      "grid_template_areas": null,
      "grid_template_columns": null,
      "grid_template_rows": null,
      "height": null,
      "justify_content": null,
      "justify_items": null,
      "left": null,
      "margin": null,
      "max_height": null,
      "max_width": null,
      "min_height": null,
      "min_width": null,
      "object_fit": null,
      "object_position": null,
      "order": null,
      "overflow": null,
      "overflow_x": null,
      "overflow_y": null,
      "padding": null,
      "right": null,
      "top": null,
      "visibility": null,
      "width": "50%"
     }
    },
    "897c6a9e8a6540cd96d72bddee35cb58": {
     "model_module": "@jupyter-widgets/controls",
     "model_module_version": "1.5.0",
     "model_name": "LabelModel",
     "state": {
      "_dom_classes": [],
      "_model_module": "@jupyter-widgets/controls",
      "_model_module_version": "1.5.0",
      "_model_name": "LabelModel",
      "_view_count": null,
      "_view_module": "@jupyter-widgets/controls",
      "_view_module_version": "1.5.0",
      "_view_name": "LabelView",
      "description": "",
      "description_tooltip": null,
      "layout": "IPY_MODEL_f09e45a403ba41b1b9a1d9c478c29486",
      "placeholder": "​",
      "style": "IPY_MODEL_9399936b1f444017b15ed10e54bb52e0",
      "value": "Connecting..."
     }
    },
    "8f3d358bb9a948ba980989ff7e8a81b0": {
     "model_module": "@jupyter-widgets/controls",
     "model_module_version": "1.5.0",
     "model_name": "PasswordModel",
     "state": {
      "_dom_classes": [],
      "_model_module": "@jupyter-widgets/controls",
      "_model_module_version": "1.5.0",
      "_model_name": "PasswordModel",
      "_view_count": null,
      "_view_module": "@jupyter-widgets/controls",
      "_view_module_version": "1.5.0",
      "_view_name": "PasswordView",
      "continuous_update": true,
      "description": "Token:",
      "description_tooltip": null,
      "disabled": false,
      "layout": "IPY_MODEL_268453fdd7384ba8bd93fcd0ee844da0",
      "placeholder": "​",
      "style": "IPY_MODEL_67c03d4caf414b1ca30e36742826ca8a",
      "value": ""
     }
    },
    "928ae5239baa40d782bd20bef2a97ead": {
     "model_module": "@jupyter-widgets/base",
     "model_module_version": "1.2.0",
     "model_name": "LayoutModel",
     "state": {
      "_model_module": "@jupyter-widgets/base",
      "_model_module_version": "1.2.0",
      "_model_name": "LayoutModel",
      "_view_count": null,
      "_view_module": "@jupyter-widgets/base",
      "_view_module_version": "1.2.0",
      "_view_name": "LayoutView",
      "align_content": null,
      "align_items": null,
      "align_self": null,
      "border": null,
      "bottom": null,
      "display": null,
      "flex": null,
      "flex_flow": null,
      "grid_area": null,
      "grid_auto_columns": null,
      "grid_auto_flow": null,
      "grid_auto_rows": null,
      "grid_column": null,
      "grid_gap": null,
      "grid_row": null,
      "grid_template_areas": null,
      "grid_template_columns": null,
      "grid_template_rows": null,
      "height": null,
      "justify_content": null,
      "justify_items": null,
      "left": null,
      "margin": null,
      "max_height": null,
      "max_width": null,
      "min_height": null,
      "min_width": null,
      "object_fit": null,
      "object_position": null,
      "order": null,
      "overflow": null,
      "overflow_x": null,
      "overflow_y": null,
      "padding": null,
      "right": null,
      "top": null,
      "visibility": null,
      "width": null
     }
    },
    "9399936b1f444017b15ed10e54bb52e0": {
     "model_module": "@jupyter-widgets/controls",
     "model_module_version": "1.5.0",
     "model_name": "DescriptionStyleModel",
     "state": {
      "_model_module": "@jupyter-widgets/controls",
      "_model_module_version": "1.5.0",
      "_model_name": "DescriptionStyleModel",
      "_view_count": null,
      "_view_module": "@jupyter-widgets/base",
      "_view_module_version": "1.2.0",
      "_view_name": "StyleView",
      "description_width": ""
     }
    },
    "9442b7efa75348a48aa7ca8c87ccf80b": {
     "model_module": "@jupyter-widgets/controls",
     "model_module_version": "1.5.0",
     "model_name": "HTMLModel",
     "state": {
      "_dom_classes": [],
      "_model_module": "@jupyter-widgets/controls",
      "_model_module_version": "1.5.0",
      "_model_name": "HTMLModel",
      "_view_count": null,
      "_view_module": "@jupyter-widgets/controls",
      "_view_module_version": "1.5.0",
      "_view_name": "HTMLView",
      "description": "",
      "description_tooltip": null,
      "layout": "IPY_MODEL_d4952f7351514946951a1e32e8cd1666",
      "placeholder": "​",
      "style": "IPY_MODEL_fae5d014f72c448eb9c8d4a753f5e450",
      "value": " 0/? [00:00&lt;?, ?it/s]"
     }
    },
    "96d8d91b8cf3400caaa88a6a0ac88ccb": {
     "model_module": "@jupyter-widgets/base",
     "model_module_version": "1.2.0",
     "model_name": "LayoutModel",
     "state": {
      "_model_module": "@jupyter-widgets/base",
      "_model_module_version": "1.2.0",
      "_model_name": "LayoutModel",
      "_view_count": null,
      "_view_module": "@jupyter-widgets/base",
      "_view_module_version": "1.2.0",
      "_view_name": "LayoutView",
      "align_content": null,
      "align_items": null,
      "align_self": null,
      "border": null,
      "bottom": null,
      "display": null,
      "flex": null,
      "flex_flow": null,
      "grid_area": null,
      "grid_auto_columns": null,
      "grid_auto_flow": null,
      "grid_auto_rows": null,
      "grid_column": null,
      "grid_gap": null,
      "grid_row": null,
      "grid_template_areas": null,
      "grid_template_columns": null,
      "grid_template_rows": null,
      "height": null,
      "justify_content": null,
      "justify_items": null,
      "left": null,
      "margin": null,
      "max_height": null,
      "max_width": null,
      "min_height": null,
      "min_width": null,
      "object_fit": null,
      "object_position": null,
      "order": null,
      "overflow": null,
      "overflow_x": null,
      "overflow_y": null,
      "padding": null,
      "right": null,
      "top": null,
      "visibility": null,
      "width": null
     }
    },
    "9b50dd0a8b6b456b87b93e071d8cfb92": {
     "model_module": "@jupyter-widgets/base",
     "model_module_version": "1.2.0",
     "model_name": "LayoutModel",
     "state": {
      "_model_module": "@jupyter-widgets/base",
      "_model_module_version": "1.2.0",
      "_model_name": "LayoutModel",
      "_view_count": null,
      "_view_module": "@jupyter-widgets/base",
      "_view_module_version": "1.2.0",
      "_view_name": "LayoutView",
      "align_content": null,
      "align_items": null,
      "align_self": null,
      "border": null,
      "bottom": null,
      "display": null,
      "flex": null,
      "flex_flow": null,
      "grid_area": null,
      "grid_auto_columns": null,
      "grid_auto_flow": null,
      "grid_auto_rows": null,
      "grid_column": null,
      "grid_gap": null,
      "grid_row": null,
      "grid_template_areas": null,
      "grid_template_columns": null,
      "grid_template_rows": null,
      "height": null,
      "justify_content": null,
      "justify_items": null,
      "left": null,
      "margin": null,
      "max_height": null,
      "max_width": null,
      "min_height": null,
      "min_width": null,
      "object_fit": null,
      "object_position": null,
      "order": null,
      "overflow": null,
      "overflow_x": null,
      "overflow_y": null,
      "padding": null,
      "right": null,
      "top": null,
      "visibility": null,
      "width": null
     }
    },
    "b1ea84e8038f47158c770e914d759c7a": {
     "model_module": "@jupyter-widgets/controls",
     "model_module_version": "1.5.0",
     "model_name": "HTMLModel",
     "state": {
      "_dom_classes": [],
      "_model_module": "@jupyter-widgets/controls",
      "_model_module_version": "1.5.0",
      "_model_name": "HTMLModel",
      "_view_count": null,
      "_view_module": "@jupyter-widgets/controls",
      "_view_module_version": "1.5.0",
      "_view_name": "HTMLView",
      "description": "",
      "description_tooltip": null,
      "layout": "IPY_MODEL_df19421bb0114de7ae6328aaa00a4fec",
      "placeholder": "​",
      "style": "IPY_MODEL_756d1f5f7c2b4fa09ba54f651d06d116",
      "value": "\n<b>Thank You</b></center>"
     }
    },
    "b2108d4860eb4e58bf2f9f0b4c7e9b82": {
     "model_module": "@jupyter-widgets/controls",
     "model_module_version": "1.5.0",
     "model_name": "FloatProgressModel",
     "state": {
      "_dom_classes": [],
      "_model_module": "@jupyter-widgets/controls",
      "_model_module_version": "1.5.0",
      "_model_name": "FloatProgressModel",
      "_view_count": null,
      "_view_module": "@jupyter-widgets/controls",
      "_view_module_version": "1.5.0",
      "_view_name": "ProgressView",
      "bar_style": "success",
      "description": "",
      "description_tooltip": null,
      "layout": "IPY_MODEL_660571d13bef46889080f8e84c223e75",
      "max": 1,
      "min": 0,
      "orientation": "horizontal",
      "style": "IPY_MODEL_52de3c10459a444eae0d8fa5d2872695",
      "value": 0
     }
    },
    "cc1246a7b38d46148068aa63af9bedc8": {
     "model_module": "@jupyter-widgets/base",
     "model_module_version": "1.2.0",
     "model_name": "LayoutModel",
     "state": {
      "_model_module": "@jupyter-widgets/base",
      "_model_module_version": "1.2.0",
      "_model_name": "LayoutModel",
      "_view_count": null,
      "_view_module": "@jupyter-widgets/base",
      "_view_module_version": "1.2.0",
      "_view_name": "LayoutView",
      "align_content": null,
      "align_items": null,
      "align_self": null,
      "border": null,
      "bottom": null,
      "display": null,
      "flex": null,
      "flex_flow": null,
      "grid_area": null,
      "grid_auto_columns": null,
      "grid_auto_flow": null,
      "grid_auto_rows": null,
      "grid_column": null,
      "grid_gap": null,
      "grid_row": null,
      "grid_template_areas": null,
      "grid_template_columns": null,
      "grid_template_rows": null,
      "height": null,
      "justify_content": null,
      "justify_items": null,
      "left": null,
      "margin": null,
      "max_height": null,
      "max_width": null,
      "min_height": null,
      "min_width": null,
      "object_fit": null,
      "object_position": null,
      "order": null,
      "overflow": null,
      "overflow_x": null,
      "overflow_y": null,
      "padding": null,
      "right": null,
      "top": null,
      "visibility": null,
      "width": null
     }
    },
    "cd0da2b617c64a2588612fa63cd6992d": {
     "model_module": "@jupyter-widgets/controls",
     "model_module_version": "1.5.0",
     "model_name": "LabelModel",
     "state": {
      "_dom_classes": [],
      "_model_module": "@jupyter-widgets/controls",
      "_model_module_version": "1.5.0",
      "_model_name": "LabelModel",
      "_view_count": null,
      "_view_module": "@jupyter-widgets/controls",
      "_view_module_version": "1.5.0",
      "_view_name": "LabelView",
      "description": "",
      "description_tooltip": null,
      "layout": "IPY_MODEL_6441fc4e270c488db57de94ea731c968",
      "placeholder": "​",
      "style": "IPY_MODEL_79b1417bc6ca44838e4e010a07a41259",
      "value": "Kaggle credentials successfully validated."
     }
    },
    "d4952f7351514946951a1e32e8cd1666": {
     "model_module": "@jupyter-widgets/base",
     "model_module_version": "1.2.0",
     "model_name": "LayoutModel",
     "state": {
      "_model_module": "@jupyter-widgets/base",
      "_model_module_version": "1.2.0",
      "_model_name": "LayoutModel",
      "_view_count": null,
      "_view_module": "@jupyter-widgets/base",
      "_view_module_version": "1.2.0",
      "_view_name": "LayoutView",
      "align_content": null,
      "align_items": null,
      "align_self": null,
      "border": null,
      "bottom": null,
      "display": null,
      "flex": null,
      "flex_flow": null,
      "grid_area": null,
      "grid_auto_columns": null,
      "grid_auto_flow": null,
      "grid_auto_rows": null,
      "grid_column": null,
      "grid_gap": null,
      "grid_row": null,
      "grid_template_areas": null,
      "grid_template_columns": null,
      "grid_template_rows": null,
      "height": null,
      "justify_content": null,
      "justify_items": null,
      "left": null,
      "margin": null,
      "max_height": null,
      "max_width": null,
      "min_height": null,
      "min_width": null,
      "object_fit": null,
      "object_position": null,
      "order": null,
      "overflow": null,
      "overflow_x": null,
      "overflow_y": null,
      "padding": null,
      "right": null,
      "top": null,
      "visibility": null,
      "width": null
     }
    },
    "df19421bb0114de7ae6328aaa00a4fec": {
     "model_module": "@jupyter-widgets/base",
     "model_module_version": "1.2.0",
     "model_name": "LayoutModel",
     "state": {
      "_model_module": "@jupyter-widgets/base",
      "_model_module_version": "1.2.0",
      "_model_name": "LayoutModel",
      "_view_count": null,
      "_view_module": "@jupyter-widgets/base",
      "_view_module_version": "1.2.0",
      "_view_name": "LayoutView",
      "align_content": null,
      "align_items": null,
      "align_self": null,
      "border": null,
      "bottom": null,
      "display": null,
      "flex": null,
      "flex_flow": null,
      "grid_area": null,
      "grid_auto_columns": null,
      "grid_auto_flow": null,
      "grid_auto_rows": null,
      "grid_column": null,
      "grid_gap": null,
      "grid_row": null,
      "grid_template_areas": null,
      "grid_template_columns": null,
      "grid_template_rows": null,
      "height": null,
      "justify_content": null,
      "justify_items": null,
      "left": null,
      "margin": null,
      "max_height": null,
      "max_width": null,
      "min_height": null,
      "min_width": null,
      "object_fit": null,
      "object_position": null,
      "order": null,
      "overflow": null,
      "overflow_x": null,
      "overflow_y": null,
      "padding": null,
      "right": null,
      "top": null,
      "visibility": null,
      "width": null
     }
    },
    "e383bff44ad1440a81b4b0f44dcd8efc": {
     "model_module": "@jupyter-widgets/controls",
     "model_module_version": "1.5.0",
     "model_name": "HTMLModel",
     "state": {
      "_dom_classes": [],
      "_model_module": "@jupyter-widgets/controls",
      "_model_module_version": "1.5.0",
      "_model_name": "HTMLModel",
      "_view_count": null,
      "_view_module": "@jupyter-widgets/controls",
      "_view_module_version": "1.5.0",
      "_view_name": "HTMLView",
      "description": "",
      "description_tooltip": null,
      "layout": "IPY_MODEL_928ae5239baa40d782bd20bef2a97ead",
      "placeholder": "​",
      "style": "IPY_MODEL_7df373052c9d4e3ebe73ff109739afd6",
      "value": ""
     }
    },
    "ec68f88e313b428c9feb32b867cb5c88": {
     "model_module": "@jupyter-widgets/controls",
     "model_module_version": "1.5.0",
     "model_name": "DescriptionStyleModel",
     "state": {
      "_model_module": "@jupyter-widgets/controls",
      "_model_module_version": "1.5.0",
      "_model_name": "DescriptionStyleModel",
      "_view_count": null,
      "_view_module": "@jupyter-widgets/base",
      "_view_module_version": "1.2.0",
      "_view_name": "StyleView",
      "description_width": ""
     }
    },
    "f09e45a403ba41b1b9a1d9c478c29486": {
     "model_module": "@jupyter-widgets/base",
     "model_module_version": "1.2.0",
     "model_name": "LayoutModel",
     "state": {
      "_model_module": "@jupyter-widgets/base",
      "_model_module_version": "1.2.0",
      "_model_name": "LayoutModel",
      "_view_count": null,
      "_view_module": "@jupyter-widgets/base",
      "_view_module_version": "1.2.0",
      "_view_name": "LayoutView",
      "align_content": null,
      "align_items": null,
      "align_self": null,
      "border": null,
      "bottom": null,
      "display": null,
      "flex": null,
      "flex_flow": null,
      "grid_area": null,
      "grid_auto_columns": null,
      "grid_auto_flow": null,
      "grid_auto_rows": null,
      "grid_column": null,
      "grid_gap": null,
      "grid_row": null,
      "grid_template_areas": null,
      "grid_template_columns": null,
      "grid_template_rows": null,
      "height": null,
      "justify_content": null,
      "justify_items": null,
      "left": null,
      "margin": null,
      "max_height": null,
      "max_width": null,
      "min_height": null,
      "min_width": null,
      "object_fit": null,
      "object_position": null,
      "order": null,
      "overflow": null,
      "overflow_x": null,
      "overflow_y": null,
      "padding": null,
      "right": null,
      "top": null,
      "visibility": null,
      "width": null
     }
    },
    "f6b2ab04217a4735b077878d69b51e15": {
     "model_module": "@jupyter-widgets/base",
     "model_module_version": "1.2.0",
     "model_name": "LayoutModel",
     "state": {
      "_model_module": "@jupyter-widgets/base",
      "_model_module_version": "1.2.0",
      "_model_name": "LayoutModel",
      "_view_count": null,
      "_view_module": "@jupyter-widgets/base",
      "_view_module_version": "1.2.0",
      "_view_name": "LayoutView",
      "align_content": null,
      "align_items": null,
      "align_self": null,
      "border": null,
      "bottom": null,
      "display": null,
      "flex": null,
      "flex_flow": null,
      "grid_area": null,
      "grid_auto_columns": null,
      "grid_auto_flow": null,
      "grid_auto_rows": null,
      "grid_column": null,
      "grid_gap": null,
      "grid_row": null,
      "grid_template_areas": null,
      "grid_template_columns": null,
      "grid_template_rows": null,
      "height": null,
      "justify_content": null,
      "justify_items": null,
      "left": null,
      "margin": null,
      "max_height": null,
      "max_width": null,
      "min_height": null,
      "min_width": null,
      "object_fit": null,
      "object_position": null,
      "order": null,
      "overflow": null,
      "overflow_x": null,
      "overflow_y": null,
      "padding": null,
      "right": null,
      "top": null,
      "visibility": null,
      "width": null
     }
    },
    "fae5d014f72c448eb9c8d4a753f5e450": {
     "model_module": "@jupyter-widgets/controls",
     "model_module_version": "1.5.0",
     "model_name": "DescriptionStyleModel",
     "state": {
      "_model_module": "@jupyter-widgets/controls",
      "_model_module_version": "1.5.0",
      "_model_name": "DescriptionStyleModel",
      "_view_count": null,
      "_view_module": "@jupyter-widgets/base",
      "_view_module_version": "1.2.0",
      "_view_name": "StyleView",
      "description_width": ""
     }
    }
   }
  }
 },
 "nbformat": 4,
 "nbformat_minor": 4
}

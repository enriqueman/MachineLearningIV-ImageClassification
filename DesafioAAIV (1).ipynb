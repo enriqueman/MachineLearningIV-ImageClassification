{
  "nbformat": 4,
  "nbformat_minor": 0,
  "metadata": {
    "colab": {
      "provenance": []
    },
    "kernelspec": {
      "name": "python3",
      "display_name": "Python 3"
    },
    "language_info": {
      "name": "python"
    },
    "widgets": {
      "application/vnd.jupyter.widget-state+json": {
        "00ed15ba463c4535a37e12879fb2b7f8": {
          "model_module": "@jupyter-widgets/controls",
          "model_name": "VBoxModel",
          "model_module_version": "2.0.0",
          "state": {
            "_dom_classes": [],
            "_model_module": "@jupyter-widgets/controls",
            "_model_module_version": "2.0.0",
            "_model_name": "VBoxModel",
            "_view_count": null,
            "_view_module": "@jupyter-widgets/controls",
            "_view_module_version": "2.0.0",
            "_view_name": "VBoxView",
            "box_style": "",
            "children": [
              "IPY_MODEL_94cca114afdc450d9cbe65a108893400",
              "IPY_MODEL_600a2c22fe5341da9fd474fb48519182",
              "IPY_MODEL_5d6f2b24a3ab4a3a953b4487d24b75db",
              "IPY_MODEL_f485970d39cf46c582aef93be382cbaa",
              "IPY_MODEL_d3f4efdcea16461ab93aff9711b1762a"
            ],
            "layout": "IPY_MODEL_0a784ff7fc9e4fb795d5d87759cb4bad",
            "tabbable": null,
            "tooltip": null
          }
        },
        "94cca114afdc450d9cbe65a108893400": {
          "model_module": "@jupyter-widgets/controls",
          "model_name": "HTMLModel",
          "model_module_version": "2.0.0",
          "state": {
            "_dom_classes": [],
            "_model_module": "@jupyter-widgets/controls",
            "_model_module_version": "2.0.0",
            "_model_name": "HTMLModel",
            "_view_count": null,
            "_view_module": "@jupyter-widgets/controls",
            "_view_module_version": "2.0.0",
            "_view_name": "HTMLView",
            "description": "",
            "description_allow_html": false,
            "layout": "IPY_MODEL_76e5171c7ab74a159831603593dba34a",
            "placeholder": "​",
            "style": "IPY_MODEL_933cbdf283e94c08ad13e66156c2a703",
            "tabbable": null,
            "tooltip": null,
            "value": "<center> <img\nsrc=https://www.kaggle.com/static/images/site-logo.png\nalt='Kaggle'> <br> Create an API token from <a\nhref=\"https://www.kaggle.com/settings/account\" target=\"_blank\">your Kaggle\nsettings page</a> and paste it below along with your Kaggle username. <br> </center>"
          }
        },
        "600a2c22fe5341da9fd474fb48519182": {
          "model_module": "@jupyter-widgets/controls",
          "model_name": "TextModel",
          "model_module_version": "2.0.0",
          "state": {
            "_dom_classes": [],
            "_model_module": "@jupyter-widgets/controls",
            "_model_module_version": "2.0.0",
            "_model_name": "TextModel",
            "_view_count": null,
            "_view_module": "@jupyter-widgets/controls",
            "_view_module_version": "2.0.0",
            "_view_name": "TextView",
            "continuous_update": true,
            "description": "Username:",
            "description_allow_html": false,
            "disabled": false,
            "layout": "IPY_MODEL_57252c51b15a42788e9ac0bd565b3e23",
            "placeholder": "​",
            "style": "IPY_MODEL_0fe4715014cb4a448797bafce177c536",
            "tabbable": null,
            "tooltip": null,
            "value": ""
          }
        },
        "5d6f2b24a3ab4a3a953b4487d24b75db": {
          "model_module": "@jupyter-widgets/controls",
          "model_name": "PasswordModel",
          "model_module_version": "2.0.0",
          "state": {
            "_dom_classes": [],
            "_model_module": "@jupyter-widgets/controls",
            "_model_module_version": "2.0.0",
            "_model_name": "PasswordModel",
            "_view_count": null,
            "_view_module": "@jupyter-widgets/controls",
            "_view_module_version": "2.0.0",
            "_view_name": "PasswordView",
            "continuous_update": true,
            "description": "Token:",
            "description_allow_html": false,
            "disabled": false,
            "layout": "IPY_MODEL_ca0a8b5bb84f427eba2b0a75e946fdc0",
            "placeholder": "​",
            "style": "IPY_MODEL_a15ef295fe164306a0c58ea4b293c607",
            "tabbable": null,
            "tooltip": null,
            "value": ""
          }
        },
        "f485970d39cf46c582aef93be382cbaa": {
          "model_module": "@jupyter-widgets/controls",
          "model_name": "ButtonModel",
          "model_module_version": "2.0.0",
          "state": {
            "_dom_classes": [],
            "_model_module": "@jupyter-widgets/controls",
            "_model_module_version": "2.0.0",
            "_model_name": "ButtonModel",
            "_view_count": null,
            "_view_module": "@jupyter-widgets/controls",
            "_view_module_version": "2.0.0",
            "_view_name": "ButtonView",
            "button_style": "",
            "description": "Login",
            "disabled": false,
            "icon": "",
            "layout": "IPY_MODEL_30bdd89600e842fc8dcf830037d2e7f8",
            "style": "IPY_MODEL_89fe523bd3444a7e843881dd9cf1640d",
            "tabbable": null,
            "tooltip": null
          }
        },
        "d3f4efdcea16461ab93aff9711b1762a": {
          "model_module": "@jupyter-widgets/controls",
          "model_name": "HTMLModel",
          "model_module_version": "2.0.0",
          "state": {
            "_dom_classes": [],
            "_model_module": "@jupyter-widgets/controls",
            "_model_module_version": "2.0.0",
            "_model_name": "HTMLModel",
            "_view_count": null,
            "_view_module": "@jupyter-widgets/controls",
            "_view_module_version": "2.0.0",
            "_view_name": "HTMLView",
            "description": "",
            "description_allow_html": false,
            "layout": "IPY_MODEL_4b35e6afeb964918be84a0f5036823b7",
            "placeholder": "​",
            "style": "IPY_MODEL_02d25b1d21a642a688e6123450686dcc",
            "tabbable": null,
            "tooltip": null,
            "value": "\n<b>Thank You</b></center>"
          }
        },
        "0a784ff7fc9e4fb795d5d87759cb4bad": {
          "model_module": "@jupyter-widgets/base",
          "model_name": "LayoutModel",
          "model_module_version": "2.0.0",
          "state": {
            "_model_module": "@jupyter-widgets/base",
            "_model_module_version": "2.0.0",
            "_model_name": "LayoutModel",
            "_view_count": null,
            "_view_module": "@jupyter-widgets/base",
            "_view_module_version": "2.0.0",
            "_view_name": "LayoutView",
            "align_content": null,
            "align_items": "center",
            "align_self": null,
            "border_bottom": null,
            "border_left": null,
            "border_right": null,
            "border_top": null,
            "bottom": null,
            "display": "flex",
            "flex": null,
            "flex_flow": "column",
            "grid_area": null,
            "grid_auto_columns": null,
            "grid_auto_flow": null,
            "grid_auto_rows": null,
            "grid_column": null,
            "grid_gap": null,
            "grid_row": null,
            "grid_template_areas": null,
            "grid_template_columns": null,
            "grid_template_rows": null,
            "height": null,
            "justify_content": null,
            "justify_items": null,
            "left": null,
            "margin": null,
            "max_height": null,
            "max_width": null,
            "min_height": null,
            "min_width": null,
            "object_fit": null,
            "object_position": null,
            "order": null,
            "overflow": null,
            "padding": null,
            "right": null,
            "top": null,
            "visibility": null,
            "width": "50%"
          }
        },
        "76e5171c7ab74a159831603593dba34a": {
          "model_module": "@jupyter-widgets/base",
          "model_name": "LayoutModel",
          "model_module_version": "2.0.0",
          "state": {
            "_model_module": "@jupyter-widgets/base",
            "_model_module_version": "2.0.0",
            "_model_name": "LayoutModel",
            "_view_count": null,
            "_view_module": "@jupyter-widgets/base",
            "_view_module_version": "2.0.0",
            "_view_name": "LayoutView",
            "align_content": null,
            "align_items": null,
            "align_self": null,
            "border_bottom": null,
            "border_left": null,
            "border_right": null,
            "border_top": null,
            "bottom": null,
            "display": null,
            "flex": null,
            "flex_flow": null,
            "grid_area": null,
            "grid_auto_columns": null,
            "grid_auto_flow": null,
            "grid_auto_rows": null,
            "grid_column": null,
            "grid_gap": null,
            "grid_row": null,
            "grid_template_areas": null,
            "grid_template_columns": null,
            "grid_template_rows": null,
            "height": null,
            "justify_content": null,
            "justify_items": null,
            "left": null,
            "margin": null,
            "max_height": null,
            "max_width": null,
            "min_height": null,
            "min_width": null,
            "object_fit": null,
            "object_position": null,
            "order": null,
            "overflow": null,
            "padding": null,
            "right": null,
            "top": null,
            "visibility": null,
            "width": null
          }
        },
        "933cbdf283e94c08ad13e66156c2a703": {
          "model_module": "@jupyter-widgets/controls",
          "model_name": "HTMLStyleModel",
          "model_module_version": "2.0.0",
          "state": {
            "_model_module": "@jupyter-widgets/controls",
            "_model_module_version": "2.0.0",
            "_model_name": "HTMLStyleModel",
            "_view_count": null,
            "_view_module": "@jupyter-widgets/base",
            "_view_module_version": "2.0.0",
            "_view_name": "StyleView",
            "background": null,
            "description_width": "",
            "font_size": null,
            "text_color": null
          }
        },
        "57252c51b15a42788e9ac0bd565b3e23": {
          "model_module": "@jupyter-widgets/base",
          "model_name": "LayoutModel",
          "model_module_version": "2.0.0",
          "state": {
            "_model_module": "@jupyter-widgets/base",
            "_model_module_version": "2.0.0",
            "_model_name": "LayoutModel",
            "_view_count": null,
            "_view_module": "@jupyter-widgets/base",
            "_view_module_version": "2.0.0",
            "_view_name": "LayoutView",
            "align_content": null,
            "align_items": null,
            "align_self": null,
            "border_bottom": null,
            "border_left": null,
            "border_right": null,
            "border_top": null,
            "bottom": null,
            "display": null,
            "flex": null,
            "flex_flow": null,
            "grid_area": null,
            "grid_auto_columns": null,
            "grid_auto_flow": null,
            "grid_auto_rows": null,
            "grid_column": null,
            "grid_gap": null,
            "grid_row": null,
            "grid_template_areas": null,
            "grid_template_columns": null,
            "grid_template_rows": null,
            "height": null,
            "justify_content": null,
            "justify_items": null,
            "left": null,
            "margin": null,
            "max_height": null,
            "max_width": null,
            "min_height": null,
            "min_width": null,
            "object_fit": null,
            "object_position": null,
            "order": null,
            "overflow": null,
            "padding": null,
            "right": null,
            "top": null,
            "visibility": null,
            "width": null
          }
        },
        "0fe4715014cb4a448797bafce177c536": {
          "model_module": "@jupyter-widgets/controls",
          "model_name": "TextStyleModel",
          "model_module_version": "2.0.0",
          "state": {
            "_model_module": "@jupyter-widgets/controls",
            "_model_module_version": "2.0.0",
            "_model_name": "TextStyleModel",
            "_view_count": null,
            "_view_module": "@jupyter-widgets/base",
            "_view_module_version": "2.0.0",
            "_view_name": "StyleView",
            "background": null,
            "description_width": "",
            "font_size": null,
            "text_color": null
          }
        },
        "ca0a8b5bb84f427eba2b0a75e946fdc0": {
          "model_module": "@jupyter-widgets/base",
          "model_name": "LayoutModel",
          "model_module_version": "2.0.0",
          "state": {
            "_model_module": "@jupyter-widgets/base",
            "_model_module_version": "2.0.0",
            "_model_name": "LayoutModel",
            "_view_count": null,
            "_view_module": "@jupyter-widgets/base",
            "_view_module_version": "2.0.0",
            "_view_name": "LayoutView",
            "align_content": null,
            "align_items": null,
            "align_self": null,
            "border_bottom": null,
            "border_left": null,
            "border_right": null,
            "border_top": null,
            "bottom": null,
            "display": null,
            "flex": null,
            "flex_flow": null,
            "grid_area": null,
            "grid_auto_columns": null,
            "grid_auto_flow": null,
            "grid_auto_rows": null,
            "grid_column": null,
            "grid_gap": null,
            "grid_row": null,
            "grid_template_areas": null,
            "grid_template_columns": null,
            "grid_template_rows": null,
            "height": null,
            "justify_content": null,
            "justify_items": null,
            "left": null,
            "margin": null,
            "max_height": null,
            "max_width": null,
            "min_height": null,
            "min_width": null,
            "object_fit": null,
            "object_position": null,
            "order": null,
            "overflow": null,
            "padding": null,
            "right": null,
            "top": null,
            "visibility": null,
            "width": null
          }
        },
        "a15ef295fe164306a0c58ea4b293c607": {
          "model_module": "@jupyter-widgets/controls",
          "model_name": "TextStyleModel",
          "model_module_version": "2.0.0",
          "state": {
            "_model_module": "@jupyter-widgets/controls",
            "_model_module_version": "2.0.0",
            "_model_name": "TextStyleModel",
            "_view_count": null,
            "_view_module": "@jupyter-widgets/base",
            "_view_module_version": "2.0.0",
            "_view_name": "StyleView",
            "background": null,
            "description_width": "",
            "font_size": null,
            "text_color": null
          }
        },
        "30bdd89600e842fc8dcf830037d2e7f8": {
          "model_module": "@jupyter-widgets/base",
          "model_name": "LayoutModel",
          "model_module_version": "2.0.0",
          "state": {
            "_model_module": "@jupyter-widgets/base",
            "_model_module_version": "2.0.0",
            "_model_name": "LayoutModel",
            "_view_count": null,
            "_view_module": "@jupyter-widgets/base",
            "_view_module_version": "2.0.0",
            "_view_name": "LayoutView",
            "align_content": null,
            "align_items": null,
            "align_self": null,
            "border_bottom": null,
            "border_left": null,
            "border_right": null,
            "border_top": null,
            "bottom": null,
            "display": null,
            "flex": null,
            "flex_flow": null,
            "grid_area": null,
            "grid_auto_columns": null,
            "grid_auto_flow": null,
            "grid_auto_rows": null,
            "grid_column": null,
            "grid_gap": null,
            "grid_row": null,
            "grid_template_areas": null,
            "grid_template_columns": null,
            "grid_template_rows": null,
            "height": null,
            "justify_content": null,
            "justify_items": null,
            "left": null,
            "margin": null,
            "max_height": null,
            "max_width": null,
            "min_height": null,
            "min_width": null,
            "object_fit": null,
            "object_position": null,
            "order": null,
            "overflow": null,
            "padding": null,
            "right": null,
            "top": null,
            "visibility": null,
            "width": null
          }
        },
        "89fe523bd3444a7e843881dd9cf1640d": {
          "model_module": "@jupyter-widgets/controls",
          "model_name": "ButtonStyleModel",
          "model_module_version": "2.0.0",
          "state": {
            "_model_module": "@jupyter-widgets/controls",
            "_model_module_version": "2.0.0",
            "_model_name": "ButtonStyleModel",
            "_view_count": null,
            "_view_module": "@jupyter-widgets/base",
            "_view_module_version": "2.0.0",
            "_view_name": "StyleView",
            "button_color": null,
            "font_family": null,
            "font_size": null,
            "font_style": null,
            "font_variant": null,
            "font_weight": null,
            "text_color": null,
            "text_decoration": null
          }
        },
        "4b35e6afeb964918be84a0f5036823b7": {
          "model_module": "@jupyter-widgets/base",
          "model_name": "LayoutModel",
          "model_module_version": "2.0.0",
          "state": {
            "_model_module": "@jupyter-widgets/base",
            "_model_module_version": "2.0.0",
            "_model_name": "LayoutModel",
            "_view_count": null,
            "_view_module": "@jupyter-widgets/base",
            "_view_module_version": "2.0.0",
            "_view_name": "LayoutView",
            "align_content": null,
            "align_items": null,
            "align_self": null,
            "border_bottom": null,
            "border_left": null,
            "border_right": null,
            "border_top": null,
            "bottom": null,
            "display": null,
            "flex": null,
            "flex_flow": null,
            "grid_area": null,
            "grid_auto_columns": null,
            "grid_auto_flow": null,
            "grid_auto_rows": null,
            "grid_column": null,
            "grid_gap": null,
            "grid_row": null,
            "grid_template_areas": null,
            "grid_template_columns": null,
            "grid_template_rows": null,
            "height": null,
            "justify_content": null,
            "justify_items": null,
            "left": null,
            "margin": null,
            "max_height": null,
            "max_width": null,
            "min_height": null,
            "min_width": null,
            "object_fit": null,
            "object_position": null,
            "order": null,
            "overflow": null,
            "padding": null,
            "right": null,
            "top": null,
            "visibility": null,
            "width": null
          }
        },
        "02d25b1d21a642a688e6123450686dcc": {
          "model_module": "@jupyter-widgets/controls",
          "model_name": "HTMLStyleModel",
          "model_module_version": "2.0.0",
          "state": {
            "_model_module": "@jupyter-widgets/controls",
            "_model_module_version": "2.0.0",
            "_model_name": "HTMLStyleModel",
            "_view_count": null,
            "_view_module": "@jupyter-widgets/base",
            "_view_module_version": "2.0.0",
            "_view_name": "StyleView",
            "background": null,
            "description_width": "",
            "font_size": null,
            "text_color": null
          }
        }
      }
    }
  },
  "cells": [
    {
      "cell_type": "code",
      "source": [
        "import kagglehub\n",
        "kagglehub.login()"
      ],
      "metadata": {
        "colab": {
          "base_uri": "https://localhost:8080/",
          "height": 17,
          "referenced_widgets": [
            "00ed15ba463c4535a37e12879fb2b7f8",
            "94cca114afdc450d9cbe65a108893400",
            "600a2c22fe5341da9fd474fb48519182",
            "5d6f2b24a3ab4a3a953b4487d24b75db",
            "f485970d39cf46c582aef93be382cbaa",
            "d3f4efdcea16461ab93aff9711b1762a",
            "0a784ff7fc9e4fb795d5d87759cb4bad",
            "76e5171c7ab74a159831603593dba34a",
            "933cbdf283e94c08ad13e66156c2a703",
            "57252c51b15a42788e9ac0bd565b3e23",
            "0fe4715014cb4a448797bafce177c536",
            "ca0a8b5bb84f427eba2b0a75e946fdc0",
            "a15ef295fe164306a0c58ea4b293c607",
            "30bdd89600e842fc8dcf830037d2e7f8",
            "89fe523bd3444a7e843881dd9cf1640d",
            "4b35e6afeb964918be84a0f5036823b7",
            "02d25b1d21a642a688e6123450686dcc"
          ]
        },
        "id": "0hJb4dOgvUKW",
        "outputId": "153ff4d6-e5fa-4e9f-960e-d0598fc612f3"
      },
      "execution_count": 2,
      "outputs": [
        {
          "output_type": "display_data",
          "data": {
            "text/plain": [
              "VBox(children=(HTML(value='<center> <img\\nsrc=https://www.kaggle.com/static/images/site-logo.png\\nalt=\\'Kaggle…"
            ],
            "application/vnd.jupyter.widget-view+json": {
              "version_major": 2,
              "version_minor": 0,
              "model_id": "00ed15ba463c4535a37e12879fb2b7f8"
            }
          },
          "metadata": {}
        }
      ]
    },
    {
      "cell_type": "code",
      "source": [
        "aa_iv_2025_i_object_localization_path = kagglehub.competition_download('aa-iv-2025-i-object-localization')\n",
        "print('Data source import complete.')"
      ],
      "metadata": {
        "colab": {
          "base_uri": "https://localhost:8080/"
        },
        "id": "9PwAM6r3wEGo",
        "outputId": "d8874a70-b9ca-4053-9af1-e6288ba7a6ca"
      },
      "execution_count": 3,
      "outputs": [
        {
          "output_type": "stream",
          "name": "stdout",
          "text": [
            "Data source import complete.\n"
          ]
        }
      ]
    },
    {
      "cell_type": "code",
      "execution_count": 4,
      "metadata": {
        "colab": {
          "base_uri": "https://localhost:8080/"
        },
        "id": "GPLGgqnes8MN",
        "outputId": "9a17219c-dd83-4845-dc12-d0bc5be3fa0d"
      },
      "outputs": [
        {
          "output_type": "stream",
          "name": "stdout",
          "text": [
            "Requirement already satisfied: typing in c:\\users\\manza\\anaconda3\\lib\\site-packages (3.7.4.3)\n"
          ]
        }
      ],
      "source": [
        "!pip install typing"
      ]
    },
    {
      "cell_type": "code",
      "source": [
        "import numpy as np\n",
        "import pandas as pd\n",
        "import os\n",
        "import torch\n",
        "import torch.nn as nn\n",
        "import torch.nn.functional as F\n",
        "import torchvision\n",
        "from torch.utils.data import Dataset, DataLoader\n",
        "from torchvision import transforms\n",
        "from torchsummary import summary\n",
        "import albumentations as A\n",
        "from sklearn.model_selection import train_test_split\n",
        "from efficientnet_pytorch import EfficientNet\n",
        "from torchvision.models import resnet50\n",
        "from tqdm import tqdm\n",
        "import cv2\n",
        "from PIL import Image\n",
        "import matplotlib.pyplot as plt\n",
        "import os.path as osp\n",
        "import typing as ty"
      ],
      "metadata": {
        "id": "xAitOjxdtAb3"
      },
      "execution_count": 5,
      "outputs": []
    },
    {
      "cell_type": "code",
      "source": [
        "# Set device\n",
        "torch.manual_seed(32)\n",
        "device = 'cuda' if torch.cuda.is_available() else 'cpu'\n",
        "print(f'Using {device}')\n",
        "test = torch.ones((100, 100)).to(device)\n",
        "del test\n",
        "torch.cuda.empty_cache()"
      ],
      "metadata": {
        "colab": {
          "base_uri": "https://localhost:8080/"
        },
        "id": "Ns3cuCritDxU",
        "outputId": "93980d15-dafc-493a-ab85-fb1c505fb678"
      },
      "execution_count": 6,
      "outputs": [
        {
          "output_type": "stream",
          "name": "stdout",
          "text": [
            "Using cuda\n"
          ]
        }
      ]
    },
    {
      "cell_type": "markdown",
      "source": [
        "\n",
        "## Dataset and preprocessing"
      ],
      "metadata": {
        "id": "5p3MpJ19tKfm"
      }
    },
    {
      "cell_type": "code",
      "source": [
        "# Configuración de rutas y parámetros\n",
        "DATA_DIR = aa_iv_2025_i_object_localization_path\n",
        "WORK_DIR = '/kaggle/working'\n",
        "BATCH_SIZE = 16\n",
        "IMG_SIZE = (128, 200)  # (height, width)\n",
        "h_real, w_real = 720, 1280"
      ],
      "metadata": {
        "id": "oLtrPHDrtOQD"
      },
      "execution_count": 7,
      "outputs": []
    },
    {
      "cell_type": "code",
      "source": [
        "# Cargar datos\n",
        "df = pd.read_csv(osp.join(DATA_DIR, \"train.csv\"))\n",
        "obj2id = {'f16':0, 'cougar':1, 'chinook':2, 'ah64':3, 'f15':4, 'seahawk':5}\n",
        "id2obj = {v:k for k,v in obj2id.items()}\n",
        "df[\"class_id\"] = df[\"class\"].map(obj2id)\n"
      ],
      "metadata": {
        "id": "DqFpFr90tLeu"
      },
      "execution_count": 8,
      "outputs": []
    },
    {
      "cell_type": "code",
      "source": [
        "df"
      ],
      "metadata": {
        "colab": {
          "base_uri": "https://localhost:8080/",
          "height": 424
        },
        "id": "taOQf2xwfIez",
        "outputId": "1e79fa71-0dc8-457f-aaac-85af7cc81a34"
      },
      "execution_count": 9,
      "outputs": [
        {
          "output_type": "execute_result",
          "data": {
            "text/plain": [
              "             filename    class  xmin  ymin  xmax  ymax  object_count  class_id\n",
              "0    image_00373.jpeg   cougar   506   303   628   414             1         1\n",
              "1    image_00065.jpeg  seahawk   381    35   856   273             1         5\n",
              "2    image_00111.jpeg   cougar   467   136   830   302             1         1\n",
              "3    image_00112.jpeg   cougar   447   122   799   287             1         1\n",
              "4    image_00113.jpeg   cougar   418   141   631   291             1         1\n",
              "..                ...      ...   ...   ...   ...   ...           ...       ...\n",
              "184  image_00107.jpeg   cougar   439   181   837   319             1         1\n",
              "185  image_00210.jpeg  chinook   631   208  1064   402             1         2\n",
              "186  image_00002.jpeg      f16   140   268   912   518             1         0\n",
              "187  image_00044.jpeg      f16   764   311  1042   437             1         0\n",
              "188  image_00350.jpeg  seahawk   462   392   806   523             1         5\n",
              "\n",
              "[189 rows x 8 columns]"
            ],
            "text/html": [
              "<div>\n",
              "<style scoped>\n",
              "    .dataframe tbody tr th:only-of-type {\n",
              "        vertical-align: middle;\n",
              "    }\n",
              "\n",
              "    .dataframe tbody tr th {\n",
              "        vertical-align: top;\n",
              "    }\n",
              "\n",
              "    .dataframe thead th {\n",
              "        text-align: right;\n",
              "    }\n",
              "</style>\n",
              "<table border=\"1\" class=\"dataframe\">\n",
              "  <thead>\n",
              "    <tr style=\"text-align: right;\">\n",
              "      <th></th>\n",
              "      <th>filename</th>\n",
              "      <th>class</th>\n",
              "      <th>xmin</th>\n",
              "      <th>ymin</th>\n",
              "      <th>xmax</th>\n",
              "      <th>ymax</th>\n",
              "      <th>object_count</th>\n",
              "      <th>class_id</th>\n",
              "    </tr>\n",
              "  </thead>\n",
              "  <tbody>\n",
              "    <tr>\n",
              "      <th>0</th>\n",
              "      <td>image_00373.jpeg</td>\n",
              "      <td>cougar</td>\n",
              "      <td>506</td>\n",
              "      <td>303</td>\n",
              "      <td>628</td>\n",
              "      <td>414</td>\n",
              "      <td>1</td>\n",
              "      <td>1</td>\n",
              "    </tr>\n",
              "    <tr>\n",
              "      <th>1</th>\n",
              "      <td>image_00065.jpeg</td>\n",
              "      <td>seahawk</td>\n",
              "      <td>381</td>\n",
              "      <td>35</td>\n",
              "      <td>856</td>\n",
              "      <td>273</td>\n",
              "      <td>1</td>\n",
              "      <td>5</td>\n",
              "    </tr>\n",
              "    <tr>\n",
              "      <th>2</th>\n",
              "      <td>image_00111.jpeg</td>\n",
              "      <td>cougar</td>\n",
              "      <td>467</td>\n",
              "      <td>136</td>\n",
              "      <td>830</td>\n",
              "      <td>302</td>\n",
              "      <td>1</td>\n",
              "      <td>1</td>\n",
              "    </tr>\n",
              "    <tr>\n",
              "      <th>3</th>\n",
              "      <td>image_00112.jpeg</td>\n",
              "      <td>cougar</td>\n",
              "      <td>447</td>\n",
              "      <td>122</td>\n",
              "      <td>799</td>\n",
              "      <td>287</td>\n",
              "      <td>1</td>\n",
              "      <td>1</td>\n",
              "    </tr>\n",
              "    <tr>\n",
              "      <th>4</th>\n",
              "      <td>image_00113.jpeg</td>\n",
              "      <td>cougar</td>\n",
              "      <td>418</td>\n",
              "      <td>141</td>\n",
              "      <td>631</td>\n",
              "      <td>291</td>\n",
              "      <td>1</td>\n",
              "      <td>1</td>\n",
              "    </tr>\n",
              "    <tr>\n",
              "      <th>...</th>\n",
              "      <td>...</td>\n",
              "      <td>...</td>\n",
              "      <td>...</td>\n",
              "      <td>...</td>\n",
              "      <td>...</td>\n",
              "      <td>...</td>\n",
              "      <td>...</td>\n",
              "      <td>...</td>\n",
              "    </tr>\n",
              "    <tr>\n",
              "      <th>184</th>\n",
              "      <td>image_00107.jpeg</td>\n",
              "      <td>cougar</td>\n",
              "      <td>439</td>\n",
              "      <td>181</td>\n",
              "      <td>837</td>\n",
              "      <td>319</td>\n",
              "      <td>1</td>\n",
              "      <td>1</td>\n",
              "    </tr>\n",
              "    <tr>\n",
              "      <th>185</th>\n",
              "      <td>image_00210.jpeg</td>\n",
              "      <td>chinook</td>\n",
              "      <td>631</td>\n",
              "      <td>208</td>\n",
              "      <td>1064</td>\n",
              "      <td>402</td>\n",
              "      <td>1</td>\n",
              "      <td>2</td>\n",
              "    </tr>\n",
              "    <tr>\n",
              "      <th>186</th>\n",
              "      <td>image_00002.jpeg</td>\n",
              "      <td>f16</td>\n",
              "      <td>140</td>\n",
              "      <td>268</td>\n",
              "      <td>912</td>\n",
              "      <td>518</td>\n",
              "      <td>1</td>\n",
              "      <td>0</td>\n",
              "    </tr>\n",
              "    <tr>\n",
              "      <th>187</th>\n",
              "      <td>image_00044.jpeg</td>\n",
              "      <td>f16</td>\n",
              "      <td>764</td>\n",
              "      <td>311</td>\n",
              "      <td>1042</td>\n",
              "      <td>437</td>\n",
              "      <td>1</td>\n",
              "      <td>0</td>\n",
              "    </tr>\n",
              "    <tr>\n",
              "      <th>188</th>\n",
              "      <td>image_00350.jpeg</td>\n",
              "      <td>seahawk</td>\n",
              "      <td>462</td>\n",
              "      <td>392</td>\n",
              "      <td>806</td>\n",
              "      <td>523</td>\n",
              "      <td>1</td>\n",
              "      <td>5</td>\n",
              "    </tr>\n",
              "  </tbody>\n",
              "</table>\n",
              "<p>189 rows × 8 columns</p>\n",
              "</div>"
            ]
          },
          "metadata": {},
          "execution_count": 9
        }
      ]
    },
    {
      "cell_type": "code",
      "source": [
        "# Normalizar bboxes\n",
        "df[[\"ymin\", \"ymax\"]] = df[[\"ymin\", \"ymax\"]].div(h_real, axis=0)\n",
        "df[[\"xmin\", \"xmax\"]] = df[[\"xmin\", \"xmax\"]].div(w_real, axis=0)\n",
        "\n",
        "# Split dataset\n",
        "train_df, val_df = train_test_split(df, stratify=df['class_id'], test_size=0.25, random_state=42)\n"
      ],
      "metadata": {
        "id": "5ipbItKEtXYl"
      },
      "execution_count": 10,
      "outputs": []
    },
    {
      "cell_type": "code",
      "source": [
        "def collate_fn(batch):\n",
        "    batch = [item for item in batch if item is not None]  # Filtrar None\n",
        "    return torch.utils.data.dataloader.default_collate(batch)"
      ],
      "metadata": {
        "id": "QQkskSLpvNkL"
      },
      "execution_count": 11,
      "outputs": []
    },
    {
      "cell_type": "markdown",
      "source": [
        "## Custom CNN Backbone"
      ],
      "metadata": {
        "id": "zPv5R80xtZLo"
      }
    },
    {
      "cell_type": "code",
      "source": [
        "class CustomBackbone(nn.Module):\n",
        "    def __init__(self):\n",
        "        super().__init__()\n",
        "        self.features = nn.Sequential(\n",
        "            nn.Conv2d(3, 64, kernel_size=3, padding=1),\n",
        "            nn.ReLU(inplace=True),\n",
        "            nn.MaxPool2d(kernel_size=2, stride=2),\n",
        "\n",
        "            nn.Conv2d(64, 128, kernel_size=3, padding=1),\n",
        "            nn.ReLU(inplace=True),\n",
        "            nn.MaxPool2d(kernel_size=2, stride=2),\n",
        "\n",
        "            nn.Conv2d(128, 256, kernel_size=3, padding=1),\n",
        "            nn.ReLU(inplace=True),\n",
        "            nn.Conv2d(256, 256, kernel_size=3, padding=1),\n",
        "            nn.ReLU(inplace=True),\n",
        "            nn.AdaptiveAvgPool2d((7, 7)),\n",
        "            nn.Flatten()\n",
        "        )\n",
        "\n",
        "    def forward(self, x):\n",
        "        return self.features(x)"
      ],
      "metadata": {
        "id": "tXGW-opQtaZj"
      },
      "execution_count": 12,
      "outputs": []
    },
    {
      "cell_type": "markdown",
      "source": [
        "## Model with multiple backbone options"
      ],
      "metadata": {
        "id": "HZ90L-q9tfm0"
      }
    },
    {
      "cell_type": "code",
      "source": [
        "class MultiTaskModel(nn.Module):\n",
        "    def __init__(self, backbone_type='custom', n_classes=6):\n",
        "        super().__init__()\n",
        "\n",
        "        # Selección de backbone\n",
        "        if backbone_type == 'resnet':\n",
        "            self.backbone = resnet50(pretrained=True)\n",
        "            self.backbone = nn.Sequential(*list(self.backbone.children())[:-2])\n",
        "            self.pool = nn.AdaptiveAvgPool2d((1,1))\n",
        "            out_features = 2048\n",
        "        elif backbone_type == 'efficientnet':\n",
        "            # Cargar modelo preentrenado y eliminar la capa FC\n",
        "            self.backbone = EfficientNet.from_pretrained('efficientnet-b0')\n",
        "            # Extraer características hasta antes de la capa FC\n",
        "            self.backbone._avg_pooling = nn.Identity()  # Deshabilitar avg pooling original\n",
        "            self.backbone._fc = nn.Identity()  # Deshabilitar FC original\n",
        "            self.pool = nn.AdaptiveAvgPool2d((1,1))  # Nuevo pooling\n",
        "            out_features = 1280\n",
        "        else:  # Custom\n",
        "            self.backbone = CustomBackbone()\n",
        "            out_features = 256 * 7 * 7\n",
        "\n",
        "        # Cabezas\n",
        "        self.cls_head = nn.Sequential(\n",
        "            nn.Linear(out_features, 1024),\n",
        "            nn.ReLU(),\n",
        "            nn.Dropout(0.3),\n",
        "            nn.Linear(1024, 512),\n",
        "            nn.ReLU(),\n",
        "            nn.Linear(512, n_classes)\n",
        "        )\n",
        "\n",
        "        self.reg_head = nn.Sequential(\n",
        "            nn.Linear(out_features, 1024),\n",
        "            nn.ReLU(),\n",
        "            nn.Dropout(0.3),\n",
        "            nn.Linear(1024, 512),\n",
        "            nn.ReLU(),\n",
        "            nn.Linear(512, 4),\n",
        "            nn.Sigmoid()\n",
        "        )\n",
        "\n",
        "    def forward(self, x):\n",
        "\n",
        "        # features = self.backbone(x)\n",
        "        # # Check if the features have less than 4 dimensions (batch, channel, height, width)\n",
        "        # if features.dim() < 4:\n",
        "        #     # Add a dimension for height and width\n",
        "        #     features = features.unsqueeze(-1).unsqueeze(-1)\n",
        "\n",
        "        # # Apply AdaptiveAvgPool2d before flattening for all backbone types if self.pool exists\n",
        "        # if hasattr(self, 'pool'):\n",
        "        #     features = self.pool(features)\n",
        "\n",
        "        # features = features.view(features.size(0), -1)\n",
        "        if isinstance(self.backbone, EfficientNet):\n",
        "            # Extraer características y aplicar pooling\n",
        "            features = self.backbone.extract_features(x)\n",
        "            features = self.pool(features)\n",
        "            features = features.view(features.size(0), -1)\n",
        "        else:\n",
        "            features = self.backbone(x)\n",
        "            if hasattr(self, 'pool'):\n",
        "                features = self.pool(features)\n",
        "            # if features.dim() < 4:\n",
        "            #   # Add a dimension for height and width\n",
        "            #   features = features.unsqueeze(-1).unsqueeze(-1)\n",
        "            features = features.view(features.size(0), -1)\n",
        "\n",
        "\n",
        "        return {\n",
        "            'class_id': self.cls_head(features),\n",
        "            'bbox': self.reg_head(features)\n",
        "        }"
      ],
      "metadata": {
        "id": "I58F0RKytdDw"
      },
      "execution_count": 13,
      "outputs": []
    },
    {
      "cell_type": "markdown",
      "source": [
        "## Data Augmentation Strategies"
      ],
      "metadata": {
        "id": "6FY_3M5VvJzv"
      }
    },
    {
      "cell_type": "code",
      "source": [
        "\n",
        "# Estrategia 1 - Transformaciones básicas\n",
        "aug_strategy1 = A.Compose([\n",
        "    A.HorizontalFlip(p=0.5),\n",
        "    A.Rotate(limit=30, p=0.5),\n",
        "    A.RandomBrightnessContrast(p=0.2),\n",
        "], bbox_params=A.BboxParams(format='albumentations',label_fields=['class_labels'],  min_area=0.01))\n",
        "\n"
      ],
      "metadata": {
        "id": "TbGZA1H1tsDN"
      },
      "execution_count": 14,
      "outputs": []
    },
    {
      "cell_type": "code",
      "source": [
        "# Estrategia 2 - Transformaciones más agresivas\n",
        "aug_strategy2 = A.Compose([\n",
        "    A.CoarseDropout(max_holes=8, max_height=32, max_width=32, p=0.5), # Use CoarseDropout instead of Cutout\n",
        "    A.GaussNoise(var_limit=(10.0, 50.0), p=0.3),\n",
        "    A.HueSaturationValue(hue_shift_limit=20, sat_shift_limit=30, val_shift_limit=20, p=0.3),\n",
        "    A.RandomShadow(p=0.2),\n",
        "], bbox_params=A.BboxParams(format='albumentations',label_fields=['class_labels'],  min_area=0.01))"
      ],
      "metadata": {
        "colab": {
          "base_uri": "https://localhost:8080/"
        },
        "id": "fNI4-W4RUeIM",
        "outputId": "6eb4b5ca-d3b3-445e-aad9-ceba21f53951"
      },
      "execution_count": 15,
      "outputs": [
        {
          "output_type": "stream",
          "name": "stderr",
          "text": [
            "C:\\Users\\manza\\AppData\\Local\\Temp\\ipykernel_8568\\302224986.py:3: UserWarning: Argument(s) 'max_holes, max_height, max_width' are not valid for transform CoarseDropout\n",
            "  A.CoarseDropout(max_holes=8, max_height=32, max_width=32, p=0.5), # Use CoarseDropout instead of Cutout\n",
            "C:\\Users\\manza\\AppData\\Local\\Temp\\ipykernel_8568\\302224986.py:4: UserWarning: Argument(s) 'var_limit' are not valid for transform GaussNoise\n",
            "  A.GaussNoise(var_limit=(10.0, 50.0), p=0.3),\n"
          ]
        }
      ]
    },
    {
      "cell_type": "markdown",
      "source": [
        "## Dataset and Transforms"
      ],
      "metadata": {
        "id": "Zs7krCaWvIQh"
      }
    },
    {
      "cell_type": "code",
      "source": [
        "class MilitaryDataset(Dataset):\n",
        "    def __init__(self, df, root_dir, transform=None, output_size=IMG_SIZE):\n",
        "        self.df = df\n",
        "        self.root_dir = root_dir\n",
        "        self.transform = transform\n",
        "        self.output_size = output_size\n",
        "        self.has_annotations = 'xmin' in df.columns\n",
        "\n",
        "    def __len__(self):\n",
        "        return len(self.df)\n",
        "\n",
        "    def __getitem__(self, idx):\n",
        "        row = self.df.iloc[idx]\n",
        "        img_path = os.path.join(self.root_dir, row['filename'])\n",
        "        image = cv2.imread(img_path)\n",
        "        image = cv2.cvtColor(image, cv2.COLOR_BGR2RGB)\n",
        "\n",
        "        if self.output_size:\n",
        "            image = cv2.resize(image, (self.output_size[1], self.output_size[0]))\n",
        "\n",
        "        bbox = np.zeros(4, dtype=np.float32)\n",
        "        class_id = -1\n",
        "        if self.has_annotations:  # Solo si existen anotaciones\n",
        "            bbox = row[['xmin', 'ymin', 'xmax', 'ymax']].values.astype(np.float32)\n",
        "            class_id = row['class_id']\n",
        "\n",
        "\n",
        "        # bbox = row[['xmin', 'ymin', 'xmax', 'ymax']].values.astype(np.float32)\n",
        "        # class_id = row['class_id']\n",
        "\n",
        "        if self.transform:\n",
        "            transformed = self.transform(image=image, bboxes=[bbox], class_labels=[class_id])\n",
        "            image = transformed['image']\n",
        "\n",
        "            if len(transformed['bboxes']) == 0:\n",
        "                return None  # Omitir este ejemplo\n",
        "            # bbox = transformed['bboxes'][0]\n",
        "            if transformed['bboxes']:\n",
        "                bbox = transformed['bboxes'][0]\n",
        "                # if transformed['class_labels']:\n",
        "                #   class_id = transformed['class_labels'][0]\n",
        "            else:\n",
        "                # Handle empty 'bboxes' - you might want to skip this sample or assign a default bbox\n",
        "                print(f\"Warning: Empty bboxes for image {img_path}. Skipping this sample.\")\n",
        "                if self.output_size:\n",
        "                    bbox = bbox * [self.output_size[1] / w_real, self.output_size[0] / h_real,\n",
        "                                   self.output_size[1] / w_real, self.output_size[0] / h_real]\n",
        "\n",
        "                # New Check if 'class_labels' is empty and use default class_id if necessary\n",
        "                if transformed['class_labels']:\n",
        "                    class_id = transformed['class_labels'][0]\n",
        "                else:\n",
        "                    print(f\"Warning: Empty class_labels for image {img_path}. Using default class_id: {class_id}\")\n",
        "                # end\n",
        "\n",
        "            class_id = transformed['class_labels'][0]\n",
        "\n",
        "        image = image.transpose(2, 0, 1).astype(np.float32) / 255.0\n",
        "        return {\n",
        "            'image': torch.tensor(image, dtype=torch.float),\n",
        "            'bbox': torch.tensor(bbox, dtype=torch.float),\n",
        "            'class_id': torch.tensor(class_id, dtype=torch.long)\n",
        "        }\n"
      ],
      "metadata": {
        "id": "OZ9RzkDytvgv"
      },
      "execution_count": 16,
      "outputs": []
    },
    {
      "cell_type": "markdown",
      "source": [
        "## Training Loop\n"
      ],
      "metadata": {
        "id": "lWWpDuYWu9Yq"
      }
    },
    {
      "cell_type": "code",
      "source": [
        "def train_model(backbone_type, aug_strategy, num_epochs=10):\n",
        "    # Datasets\n",
        "    train_dataset = MilitaryDataset(\n",
        "        train_df,\n",
        "        osp.join(DATA_DIR, \"images/images\"),\n",
        "        transform=aug_strategy,\n",
        "        output_size=IMG_SIZE\n",
        "    )\n",
        "\n",
        "    val_dataset = MilitaryDataset(\n",
        "        val_df,\n",
        "        osp.join(DATA_DIR, \"images/images\"),\n",
        "        output_size=IMG_SIZE\n",
        "    )\n",
        "\n",
        "    # DataLoaders\n",
        "    train_loader = DataLoader(train_dataset, batch_size=BATCH_SIZE, shuffle=True, num_workers=0, collate_fn=collate_fn)\n",
        "    val_loader = DataLoader(val_dataset, batch_size=BATCH_SIZE, num_workers=0)\n",
        "\n",
        "    # Model\n",
        "    model = MultiTaskModel(backbone_type=backbone_type).to(device)\n",
        "    optimizer = torch.optim.Adam(model.parameters(), lr=1e-4)\n",
        "    cls_criterion = nn.CrossEntropyLoss()\n",
        "    reg_criterion = nn.SmoothL1Loss()\n",
        "\n",
        "    best_iou = 0.0\n",
        "    for epoch in range(num_epochs):\n",
        "        model.train()\n",
        "        total_loss = 0.0\n",
        "\n",
        "        for batch in tqdm(train_loader):\n",
        "            images = batch['image'].to(device)\n",
        "            bboxes = batch['bbox'].to(device)\n",
        "            classes = batch['class_id'].to(device)\n",
        "\n",
        "            optimizer.zero_grad()\n",
        "            outputs = model(images)\n",
        "\n",
        "            cls_loss = cls_criterion(outputs['class_id'], classes)\n",
        "            reg_loss = reg_criterion(outputs['bbox'], bboxes)\n",
        "            loss = cls_loss + reg_loss\n",
        "\n",
        "            loss.backward()\n",
        "            optimizer.step()\n",
        "            total_loss += loss.item()\n",
        "\n",
        "        # Validation\n",
        "        model.eval()\n",
        "        val_cls_correct = 0\n",
        "        val_iou = 0.0\n",
        "        with torch.no_grad():\n",
        "            for batch in val_loader:\n",
        "                images = batch['image'].to(device)\n",
        "                bboxes = batch['bbox'].to(device)\n",
        "                classes = batch['class_id'].to(device)\n",
        "\n",
        "                outputs = model(images)\n",
        "\n",
        "                # Classification\n",
        "                pred_classes = outputs['class_id'].argmax(dim=1)\n",
        "                val_cls_correct += (pred_classes == classes).sum().item()\n",
        "\n",
        "                # Regression (IoU)\n",
        "                pred_boxes = outputs['bbox'].cpu().numpy()\n",
        "                true_boxes = bboxes.cpu().numpy()\n",
        "                iou = calculate_batch_iou(pred_boxes, true_boxes)\n",
        "                val_iou += iou * images.size(0)\n",
        "\n",
        "        avg_loss = total_loss / len(train_loader)\n",
        "        val_acc = val_cls_correct / len(val_dataset)\n",
        "        val_iou = val_iou / len(val_dataset)\n",
        "\n",
        "        print(f\"Epoch {epoch+1}/{num_epochs}\")\n",
        "        print(f\"Train Loss: {avg_loss:.4f} | Val Acc: {val_acc:.4f} | Val IoU: {val_iou:.4f}\")\n",
        "\n",
        "        if val_iou > best_iou:\n",
        "            best_iou = val_iou\n",
        "            torch.save(model.state_dict(), f\"best_model_{backbone_type}.pth\")\n",
        "\n",
        "    return model"
      ],
      "metadata": {
        "id": "N_EpI7PTt5nF"
      },
      "execution_count": 17,
      "outputs": []
    },
    {
      "cell_type": "markdown",
      "source": [
        "## Evaluation Metrics"
      ],
      "metadata": {
        "id": "ThCUqg2mvFb8"
      }
    },
    {
      "cell_type": "code",
      "source": [
        "def calculate_iou(box1, box2):\n",
        "    x1 = max(box1[0], box2[0])\n",
        "    y1 = max(box1[1], box2[1])\n",
        "    x2 = min(box1[2], box2[2])\n",
        "    y2 = min(box1[3], box2[3])\n",
        "\n",
        "    inter_area = max(0, x2 - x1) * max(0, y2 - y1)\n",
        "    area1 = (box1[2] - box1[0]) * (box1[3] - box1[1])\n",
        "    area2 = (box2[2] - box2[0]) * (box2[3] - box2[1])\n",
        "\n",
        "    return inter_area / (area1 + area2 - inter_area + 1e-6)\n",
        "\n",
        "def calculate_batch_iou(pred_boxes, true_boxes):\n",
        "    ious = []\n",
        "    for pred, true in zip(pred_boxes, true_boxes):\n",
        "        pred = pred * [w_real, h_real, w_real, h_real]\n",
        "        true = true * [w_real, h_real, w_real, h_real]\n",
        "        ious.append(calculate_iou(pred, true))\n",
        "    return np.mean(ious)"
      ],
      "metadata": {
        "id": "uoLx0zaGt97x"
      },
      "execution_count": 18,
      "outputs": []
    },
    {
      "cell_type": "code",
      "source": [
        "## Entrenamiento Comparativo\n",
        "backbones = ['custom', 'resnet', 'efficientnet']\n",
        "# backbones = ['efficientnet']\n",
        "aug_strategies = [aug_strategy1, aug_strategy2]\n",
        "#aug_strategies = [aug_strategy2]\n",
        "\n",
        "for backbone in backbones:\n",
        "    for strategy in aug_strategies:\n",
        "        print(f\"\\nTraining with {backbone} and augmentation strategy:{strategy} \")\n",
        "        model = train_model(backbone_type=backbone, aug_strategy=strategy, num_epochs=10)"
      ],
      "metadata": {
        "colab": {
          "base_uri": "https://localhost:8080/"
        },
        "id": "LRWm9IkEuA8r",
        "outputId": "4bcc1a4a-bf5e-432a-a38f-ab972314b177"
      },
      "execution_count": 19,
      "outputs": [
        {
          "output_type": "stream",
          "name": "stdout",
          "text": [
            "\n",
            "Training with custom and augmentation strategy:Compose([\n",
            "  HorizontalFlip(p=0.5),\n",
            "  Rotate(p=0.5, limit=(-30, 30), interpolation=1, border_mode=0, fill=0.0, fill_mask=0.0, rotate_method='largest_box', crop_border=False, mask_interpolation=0),\n",
            "  RandomBrightnessContrast(p=0.2, brightness_limit=(-0.2, 0.2), contrast_limit=(-0.2, 0.2), brightness_by_max=True, ensure_safe_range=False),\n",
            "], p=1.0, bbox_params={'format': 'albumentations', 'label_fields': ['class_labels'], 'min_area': 0.01, 'min_visibility': 0.0, 'min_width': 0.0, 'min_height': 0.0, 'check_each_transform': True, 'clip': False, 'max_accept_ratio': None}, keypoint_params=None, additional_targets={}, is_check_shapes=True) \n"
          ]
        },
        {
          "output_type": "stream",
          "name": "stderr",
          "text": [
            "100%|████████████████████████████████████████████████████████████████████████████████████| 9/9 [00:08<00:00,  1.03it/s]\n"
          ]
        },
        {
          "output_type": "stream",
          "name": "stdout",
          "text": [
            "Epoch 1/10\n",
            "Train Loss: 1.8197 | Val Acc: 0.2083 | Val IoU: 0.1697\n"
          ]
        },
        {
          "output_type": "stream",
          "name": "stderr",
          "text": [
            "100%|████████████████████████████████████████████████████████████████████████████████████| 9/9 [00:07<00:00,  1.20it/s]\n"
          ]
        },
        {
          "output_type": "stream",
          "name": "stdout",
          "text": [
            "Epoch 2/10\n",
            "Train Loss: 1.7849 | Val Acc: 0.2083 | Val IoU: 0.2744\n"
          ]
        },
        {
          "output_type": "stream",
          "name": "stderr",
          "text": [
            "100%|████████████████████████████████████████████████████████████████████████████████████| 9/9 [00:07<00:00,  1.20it/s]\n"
          ]
        },
        {
          "output_type": "stream",
          "name": "stdout",
          "text": [
            "Epoch 3/10\n",
            "Train Loss: 1.7779 | Val Acc: 0.2083 | Val IoU: 0.2122\n"
          ]
        },
        {
          "output_type": "stream",
          "name": "stderr",
          "text": [
            "100%|████████████████████████████████████████████████████████████████████████████████████| 9/9 [00:07<00:00,  1.23it/s]\n"
          ]
        },
        {
          "output_type": "stream",
          "name": "stdout",
          "text": [
            "Epoch 4/10\n",
            "Train Loss: 1.7654 | Val Acc: 0.2083 | Val IoU: 0.2645\n"
          ]
        },
        {
          "output_type": "stream",
          "name": "stderr",
          "text": [
            "100%|████████████████████████████████████████████████████████████████████████████████████| 9/9 [00:07<00:00,  1.21it/s]\n"
          ]
        },
        {
          "output_type": "stream",
          "name": "stdout",
          "text": [
            "Epoch 5/10\n",
            "Train Loss: 1.7572 | Val Acc: 0.3542 | Val IoU: 0.2715\n"
          ]
        },
        {
          "output_type": "stream",
          "name": "stderr",
          "text": [
            "100%|████████████████████████████████████████████████████████████████████████████████████| 9/9 [00:07<00:00,  1.21it/s]\n"
          ]
        },
        {
          "output_type": "stream",
          "name": "stdout",
          "text": [
            "Epoch 6/10\n",
            "Train Loss: 1.7415 | Val Acc: 0.2292 | Val IoU: 0.2773\n"
          ]
        },
        {
          "output_type": "stream",
          "name": "stderr",
          "text": [
            "100%|████████████████████████████████████████████████████████████████████████████████████| 9/9 [00:07<00:00,  1.17it/s]\n"
          ]
        },
        {
          "output_type": "stream",
          "name": "stdout",
          "text": [
            "Epoch 7/10\n",
            "Train Loss: 1.7509 | Val Acc: 0.2292 | Val IoU: 0.1459\n"
          ]
        },
        {
          "output_type": "stream",
          "name": "stderr",
          "text": [
            "100%|████████████████████████████████████████████████████████████████████████████████████| 9/9 [00:07<00:00,  1.18it/s]\n"
          ]
        },
        {
          "output_type": "stream",
          "name": "stdout",
          "text": [
            "Epoch 8/10\n",
            "Train Loss: 1.7291 | Val Acc: 0.3542 | Val IoU: 0.2771\n"
          ]
        },
        {
          "output_type": "stream",
          "name": "stderr",
          "text": [
            "100%|████████████████████████████████████████████████████████████████████████████████████| 9/9 [00:07<00:00,  1.21it/s]\n"
          ]
        },
        {
          "output_type": "stream",
          "name": "stdout",
          "text": [
            "Epoch 9/10\n",
            "Train Loss: 1.6939 | Val Acc: 0.3125 | Val IoU: 0.2645\n"
          ]
        },
        {
          "output_type": "stream",
          "name": "stderr",
          "text": [
            "100%|████████████████████████████████████████████████████████████████████████████████████| 9/9 [00:07<00:00,  1.23it/s]\n"
          ]
        },
        {
          "output_type": "stream",
          "name": "stdout",
          "text": [
            "Epoch 10/10\n",
            "Train Loss: 1.6668 | Val Acc: 0.3750 | Val IoU: 0.2109\n",
            "\n",
            "Training with custom and augmentation strategy:Compose([\n",
            "  CoarseDropout(p=0.5, fill=0.0, fill_mask=None, num_holes_range=(1, 2), hole_height_range=(0.1, 0.2), hole_width_range=(0.1, 0.2)),\n",
            "  GaussNoise(p=0.3, std_range=(0.2, 0.44), mean_range=(0.0, 0.0), per_channel=True, noise_scale_factor=1.0),\n",
            "  HueSaturationValue(p=0.3, hue_shift_limit=(-20, 20), sat_shift_limit=(-30, 30), val_shift_limit=(-20, 20)),\n",
            "  RandomShadow(p=0.2, shadow_roi=(0.0, 0.5, 1.0, 1.0), num_shadows_limit=(1, 2), shadow_dimension=5),\n",
            "], p=1.0, bbox_params={'format': 'albumentations', 'label_fields': ['class_labels'], 'min_area': 0.01, 'min_visibility': 0.0, 'min_width': 0.0, 'min_height': 0.0, 'check_each_transform': True, 'clip': False, 'max_accept_ratio': None}, keypoint_params=None, additional_targets={}, is_check_shapes=True) \n"
          ]
        },
        {
          "output_type": "stream",
          "name": "stderr",
          "text": [
            "100%|████████████████████████████████████████████████████████████████████████████████████| 9/9 [00:08<00:00,  1.09it/s]\n"
          ]
        },
        {
          "output_type": "stream",
          "name": "stdout",
          "text": [
            "Epoch 1/10\n",
            "Train Loss: 1.8163 | Val Acc: 0.2083 | Val IoU: 0.1894\n"
          ]
        },
        {
          "output_type": "stream",
          "name": "stderr",
          "text": [
            "100%|████████████████████████████████████████████████████████████████████████████████████| 9/9 [00:08<00:00,  1.06it/s]\n"
          ]
        },
        {
          "output_type": "stream",
          "name": "stdout",
          "text": [
            "Epoch 2/10\n",
            "Train Loss: 1.7906 | Val Acc: 0.2083 | Val IoU: 0.2418\n"
          ]
        },
        {
          "output_type": "stream",
          "name": "stderr",
          "text": [
            "100%|████████████████████████████████████████████████████████████████████████████████████| 9/9 [00:07<00:00,  1.15it/s]\n"
          ]
        },
        {
          "output_type": "stream",
          "name": "stdout",
          "text": [
            "Epoch 3/10\n",
            "Train Loss: 1.7826 | Val Acc: 0.2292 | Val IoU: 0.2148\n"
          ]
        },
        {
          "output_type": "stream",
          "name": "stderr",
          "text": [
            "100%|████████████████████████████████████████████████████████████████████████████████████| 9/9 [00:08<00:00,  1.08it/s]\n"
          ]
        },
        {
          "output_type": "stream",
          "name": "stdout",
          "text": [
            "Epoch 4/10\n",
            "Train Loss: 1.7580 | Val Acc: 0.2083 | Val IoU: 0.2617\n"
          ]
        },
        {
          "output_type": "stream",
          "name": "stderr",
          "text": [
            "100%|████████████████████████████████████████████████████████████████████████████████████| 9/9 [00:07<00:00,  1.13it/s]\n"
          ]
        },
        {
          "output_type": "stream",
          "name": "stdout",
          "text": [
            "Epoch 5/10\n",
            "Train Loss: 1.7633 | Val Acc: 0.2083 | Val IoU: 0.2380\n"
          ]
        },
        {
          "output_type": "stream",
          "name": "stderr",
          "text": [
            "100%|████████████████████████████████████████████████████████████████████████████████████| 9/9 [00:07<00:00,  1.20it/s]\n"
          ]
        },
        {
          "output_type": "stream",
          "name": "stdout",
          "text": [
            "Epoch 6/10\n",
            "Train Loss: 1.7333 | Val Acc: 0.3542 | Val IoU: 0.2621\n"
          ]
        },
        {
          "output_type": "stream",
          "name": "stderr",
          "text": [
            "100%|████████████████████████████████████████████████████████████████████████████████████| 9/9 [00:07<00:00,  1.19it/s]\n"
          ]
        },
        {
          "output_type": "stream",
          "name": "stdout",
          "text": [
            "Epoch 7/10\n",
            "Train Loss: 1.7422 | Val Acc: 0.2917 | Val IoU: 0.1932\n"
          ]
        },
        {
          "output_type": "stream",
          "name": "stderr",
          "text": [
            "100%|████████████████████████████████████████████████████████████████████████████████████| 9/9 [00:07<00:00,  1.13it/s]\n"
          ]
        },
        {
          "output_type": "stream",
          "name": "stdout",
          "text": [
            "Epoch 8/10\n",
            "Train Loss: 1.7095 | Val Acc: 0.3542 | Val IoU: 0.2814\n"
          ]
        },
        {
          "output_type": "stream",
          "name": "stderr",
          "text": [
            "100%|████████████████████████████████████████████████████████████████████████████████████| 9/9 [00:07<00:00,  1.20it/s]\n"
          ]
        },
        {
          "output_type": "stream",
          "name": "stdout",
          "text": [
            "Epoch 9/10\n",
            "Train Loss: 1.6545 | Val Acc: 0.3333 | Val IoU: 0.2367\n"
          ]
        },
        {
          "output_type": "stream",
          "name": "stderr",
          "text": [
            "100%|████████████████████████████████████████████████████████████████████████████████████| 9/9 [00:07<00:00,  1.18it/s]\n"
          ]
        },
        {
          "output_type": "stream",
          "name": "stdout",
          "text": [
            "Epoch 10/10\n",
            "Train Loss: 1.6055 | Val Acc: 0.2917 | Val IoU: 0.2463\n",
            "\n",
            "Training with resnet and augmentation strategy:Compose([\n",
            "  HorizontalFlip(p=0.5),\n",
            "  Rotate(p=0.5, limit=(-30, 30), interpolation=1, border_mode=0, fill=0.0, fill_mask=0.0, rotate_method='largest_box', crop_border=False, mask_interpolation=0),\n",
            "  RandomBrightnessContrast(p=0.2, brightness_limit=(-0.2, 0.2), contrast_limit=(-0.2, 0.2), brightness_by_max=True, ensure_safe_range=False),\n",
            "], p=1.0, bbox_params={'format': 'albumentations', 'label_fields': ['class_labels'], 'min_area': 0.01, 'min_visibility': 0.0, 'min_width': 0.0, 'min_height': 0.0, 'check_each_transform': True, 'clip': False, 'max_accept_ratio': None}, keypoint_params=None, additional_targets={}, is_check_shapes=True) \n"
          ]
        },
        {
          "output_type": "stream",
          "name": "stderr",
          "text": [
            "C:\\Users\\manza\\anaconda3\\Lib\\site-packages\\torchvision\\models\\_utils.py:208: UserWarning: The parameter 'pretrained' is deprecated since 0.13 and may be removed in the future, please use 'weights' instead.\n",
            "  warnings.warn(\n",
            "C:\\Users\\manza\\anaconda3\\Lib\\site-packages\\torchvision\\models\\_utils.py:223: UserWarning: Arguments other than a weight enum or `None` for 'weights' are deprecated since 0.13 and may be removed in the future. The current behavior is equivalent to passing `weights=ResNet50_Weights.IMAGENET1K_V1`. You can also use `weights=ResNet50_Weights.DEFAULT` to get the most up-to-date weights.\n",
            "  warnings.warn(msg)\n",
            "100%|████████████████████████████████████████████████████████████████████████████████████| 9/9 [00:13<00:00,  1.51s/it]\n"
          ]
        },
        {
          "output_type": "stream",
          "name": "stdout",
          "text": [
            "Epoch 1/10\n",
            "Train Loss: 1.7800 | Val Acc: 0.3542 | Val IoU: 0.2702\n"
          ]
        },
        {
          "output_type": "stream",
          "name": "stderr",
          "text": [
            "100%|████████████████████████████████████████████████████████████████████████████████████| 9/9 [00:13<00:00,  1.49s/it]\n"
          ]
        },
        {
          "output_type": "stream",
          "name": "stdout",
          "text": [
            "Epoch 2/10\n",
            "Train Loss: 1.5414 | Val Acc: 0.4375 | Val IoU: 0.2989\n"
          ]
        },
        {
          "output_type": "stream",
          "name": "stderr",
          "text": [
            "100%|████████████████████████████████████████████████████████████████████████████████████| 9/9 [00:13<00:00,  1.49s/it]\n"
          ]
        },
        {
          "output_type": "stream",
          "name": "stdout",
          "text": [
            "Epoch 3/10\n",
            "Train Loss: 1.1673 | Val Acc: 0.5833 | Val IoU: 0.2870\n"
          ]
        },
        {
          "output_type": "stream",
          "name": "stderr",
          "text": [
            "100%|████████████████████████████████████████████████████████████████████████████████████| 9/9 [00:13<00:00,  1.47s/it]\n"
          ]
        },
        {
          "output_type": "stream",
          "name": "stdout",
          "text": [
            "Epoch 4/10\n",
            "Train Loss: 0.8345 | Val Acc: 0.6875 | Val IoU: 0.2485\n"
          ]
        },
        {
          "output_type": "stream",
          "name": "stderr",
          "text": [
            "100%|████████████████████████████████████████████████████████████████████████████████████| 9/9 [00:13<00:00,  1.47s/it]\n"
          ]
        },
        {
          "output_type": "stream",
          "name": "stdout",
          "text": [
            "Epoch 5/10\n",
            "Train Loss: 0.4666 | Val Acc: 0.8125 | Val IoU: 0.2786\n"
          ]
        },
        {
          "output_type": "stream",
          "name": "stderr",
          "text": [
            "100%|████████████████████████████████████████████████████████████████████████████████████| 9/9 [00:13<00:00,  1.48s/it]\n"
          ]
        },
        {
          "output_type": "stream",
          "name": "stdout",
          "text": [
            "Epoch 6/10\n",
            "Train Loss: 0.3160 | Val Acc: 0.8333 | Val IoU: 0.3137\n"
          ]
        },
        {
          "output_type": "stream",
          "name": "stderr",
          "text": [
            "100%|████████████████████████████████████████████████████████████████████████████████████| 9/9 [00:13<00:00,  1.51s/it]\n"
          ]
        },
        {
          "output_type": "stream",
          "name": "stdout",
          "text": [
            "Epoch 7/10\n",
            "Train Loss: 0.2867 | Val Acc: 0.8750 | Val IoU: 0.3093\n"
          ]
        },
        {
          "output_type": "stream",
          "name": "stderr",
          "text": [
            "100%|████████████████████████████████████████████████████████████████████████████████████| 9/9 [00:13<00:00,  1.49s/it]\n"
          ]
        },
        {
          "output_type": "stream",
          "name": "stdout",
          "text": [
            "Epoch 8/10\n",
            "Train Loss: 0.2778 | Val Acc: 0.8333 | Val IoU: 0.3152\n"
          ]
        },
        {
          "output_type": "stream",
          "name": "stderr",
          "text": [
            "100%|████████████████████████████████████████████████████████████████████████████████████| 9/9 [00:13<00:00,  1.50s/it]\n"
          ]
        },
        {
          "output_type": "stream",
          "name": "stdout",
          "text": [
            "Epoch 9/10\n",
            "Train Loss: 0.1930 | Val Acc: 0.8750 | Val IoU: 0.3222\n"
          ]
        },
        {
          "output_type": "stream",
          "name": "stderr",
          "text": [
            "100%|████████████████████████████████████████████████████████████████████████████████████| 9/9 [00:13<00:00,  1.49s/it]\n"
          ]
        },
        {
          "output_type": "stream",
          "name": "stdout",
          "text": [
            "Epoch 10/10\n",
            "Train Loss: 0.2304 | Val Acc: 0.8542 | Val IoU: 0.3200\n",
            "\n",
            "Training with resnet and augmentation strategy:Compose([\n",
            "  CoarseDropout(p=0.5, fill=0.0, fill_mask=None, num_holes_range=(1, 2), hole_height_range=(0.1, 0.2), hole_width_range=(0.1, 0.2)),\n",
            "  GaussNoise(p=0.3, std_range=(0.2, 0.44), mean_range=(0.0, 0.0), per_channel=True, noise_scale_factor=1.0),\n",
            "  HueSaturationValue(p=0.3, hue_shift_limit=(-20, 20), sat_shift_limit=(-30, 30), val_shift_limit=(-20, 20)),\n",
            "  RandomShadow(p=0.2, shadow_roi=(0.0, 0.5, 1.0, 1.0), num_shadows_limit=(1, 2), shadow_dimension=5),\n",
            "], p=1.0, bbox_params={'format': 'albumentations', 'label_fields': ['class_labels'], 'min_area': 0.01, 'min_visibility': 0.0, 'min_width': 0.0, 'min_height': 0.0, 'check_each_transform': True, 'clip': False, 'max_accept_ratio': None}, keypoint_params=None, additional_targets={}, is_check_shapes=True) \n"
          ]
        },
        {
          "output_type": "stream",
          "name": "stderr",
          "text": [
            "C:\\Users\\manza\\anaconda3\\Lib\\site-packages\\torchvision\\models\\_utils.py:208: UserWarning: The parameter 'pretrained' is deprecated since 0.13 and may be removed in the future, please use 'weights' instead.\n",
            "  warnings.warn(\n",
            "C:\\Users\\manza\\anaconda3\\Lib\\site-packages\\torchvision\\models\\_utils.py:223: UserWarning: Arguments other than a weight enum or `None` for 'weights' are deprecated since 0.13 and may be removed in the future. The current behavior is equivalent to passing `weights=ResNet50_Weights.IMAGENET1K_V1`. You can also use `weights=ResNet50_Weights.DEFAULT` to get the most up-to-date weights.\n",
            "  warnings.warn(msg)\n",
            "100%|████████████████████████████████████████████████████████████████████████████████████| 9/9 [00:14<00:00,  1.56s/it]\n"
          ]
        },
        {
          "output_type": "stream",
          "name": "stdout",
          "text": [
            "Epoch 1/10\n",
            "Train Loss: 1.7715 | Val Acc: 0.4167 | Val IoU: 0.2987\n"
          ]
        },
        {
          "output_type": "stream",
          "name": "stderr",
          "text": [
            "100%|████████████████████████████████████████████████████████████████████████████████████| 9/9 [00:13<00:00,  1.49s/it]\n"
          ]
        },
        {
          "output_type": "stream",
          "name": "stdout",
          "text": [
            "Epoch 2/10\n",
            "Train Loss: 1.6072 | Val Acc: 0.5417 | Val IoU: 0.2765\n"
          ]
        },
        {
          "output_type": "stream",
          "name": "stderr",
          "text": [
            "100%|████████████████████████████████████████████████████████████████████████████████████| 9/9 [00:13<00:00,  1.50s/it]\n"
          ]
        },
        {
          "output_type": "stream",
          "name": "stdout",
          "text": [
            "Epoch 3/10\n",
            "Train Loss: 1.3857 | Val Acc: 0.5625 | Val IoU: 0.2702\n"
          ]
        },
        {
          "output_type": "stream",
          "name": "stderr",
          "text": [
            "100%|████████████████████████████████████████████████████████████████████████████████████| 9/9 [00:13<00:00,  1.52s/it]\n"
          ]
        },
        {
          "output_type": "stream",
          "name": "stdout",
          "text": [
            "Epoch 4/10\n",
            "Train Loss: 1.0368 | Val Acc: 0.7083 | Val IoU: 0.2659\n"
          ]
        },
        {
          "output_type": "stream",
          "name": "stderr",
          "text": [
            "100%|████████████████████████████████████████████████████████████████████████████████████| 9/9 [00:13<00:00,  1.52s/it]\n"
          ]
        },
        {
          "output_type": "stream",
          "name": "stdout",
          "text": [
            "Epoch 5/10\n",
            "Train Loss: 0.7450 | Val Acc: 0.8125 | Val IoU: 0.2637\n"
          ]
        },
        {
          "output_type": "stream",
          "name": "stderr",
          "text": [
            "100%|████████████████████████████████████████████████████████████████████████████████████| 9/9 [00:13<00:00,  1.49s/it]\n"
          ]
        },
        {
          "output_type": "stream",
          "name": "stdout",
          "text": [
            "Epoch 6/10\n",
            "Train Loss: 0.5274 | Val Acc: 0.8125 | Val IoU: 0.2627\n"
          ]
        },
        {
          "output_type": "stream",
          "name": "stderr",
          "text": [
            "100%|████████████████████████████████████████████████████████████████████████████████████| 9/9 [00:13<00:00,  1.49s/it]\n"
          ]
        },
        {
          "output_type": "stream",
          "name": "stdout",
          "text": [
            "Epoch 7/10\n",
            "Train Loss: 0.5071 | Val Acc: 0.8125 | Val IoU: 0.2665\n"
          ]
        },
        {
          "output_type": "stream",
          "name": "stderr",
          "text": [
            "100%|████████████████████████████████████████████████████████████████████████████████████| 9/9 [00:13<00:00,  1.50s/it]\n"
          ]
        },
        {
          "output_type": "stream",
          "name": "stdout",
          "text": [
            "Epoch 8/10\n",
            "Train Loss: 0.4300 | Val Acc: 0.8542 | Val IoU: 0.2843\n"
          ]
        },
        {
          "output_type": "stream",
          "name": "stderr",
          "text": [
            "100%|████████████████████████████████████████████████████████████████████████████████████| 9/9 [00:13<00:00,  1.48s/it]\n"
          ]
        },
        {
          "output_type": "stream",
          "name": "stdout",
          "text": [
            "Epoch 9/10\n",
            "Train Loss: 0.3379 | Val Acc: 0.8125 | Val IoU: 0.2523\n"
          ]
        },
        {
          "output_type": "stream",
          "name": "stderr",
          "text": [
            "100%|████████████████████████████████████████████████████████████████████████████████████| 9/9 [00:13<00:00,  1.52s/it]\n"
          ]
        },
        {
          "output_type": "stream",
          "name": "stdout",
          "text": [
            "Epoch 10/10\n",
            "Train Loss: 0.3740 | Val Acc: 0.8125 | Val IoU: 0.2924\n",
            "\n",
            "Training with efficientnet and augmentation strategy:Compose([\n",
            "  HorizontalFlip(p=0.5),\n",
            "  Rotate(p=0.5, limit=(-30, 30), interpolation=1, border_mode=0, fill=0.0, fill_mask=0.0, rotate_method='largest_box', crop_border=False, mask_interpolation=0),\n",
            "  RandomBrightnessContrast(p=0.2, brightness_limit=(-0.2, 0.2), contrast_limit=(-0.2, 0.2), brightness_by_max=True, ensure_safe_range=False),\n",
            "], p=1.0, bbox_params={'format': 'albumentations', 'label_fields': ['class_labels'], 'min_area': 0.01, 'min_visibility': 0.0, 'min_width': 0.0, 'min_height': 0.0, 'check_each_transform': True, 'clip': False, 'max_accept_ratio': None}, keypoint_params=None, additional_targets={}, is_check_shapes=True) \n",
            "Loaded pretrained weights for efficientnet-b0\n"
          ]
        },
        {
          "output_type": "stream",
          "name": "stderr",
          "text": [
            "100%|████████████████████████████████████████████████████████████████████████████████████| 9/9 [00:10<00:00,  1.14s/it]\n"
          ]
        },
        {
          "output_type": "stream",
          "name": "stdout",
          "text": [
            "Epoch 1/10\n",
            "Train Loss: 1.8153 | Val Acc: 0.2292 | Val IoU: 0.1136\n"
          ]
        },
        {
          "output_type": "stream",
          "name": "stderr",
          "text": [
            "100%|████████████████████████████████████████████████████████████████████████████████████| 9/9 [00:10<00:00,  1.15s/it]\n"
          ]
        },
        {
          "output_type": "stream",
          "name": "stdout",
          "text": [
            "Epoch 2/10\n",
            "Train Loss: 1.7533 | Val Acc: 0.2292 | Val IoU: 0.2581\n"
          ]
        },
        {
          "output_type": "stream",
          "name": "stderr",
          "text": [
            "100%|████████████████████████████████████████████████████████████████████████████████████| 9/9 [00:10<00:00,  1.15s/it]\n"
          ]
        },
        {
          "output_type": "stream",
          "name": "stdout",
          "text": [
            "Epoch 3/10\n",
            "Train Loss: 1.7000 | Val Acc: 0.2500 | Val IoU: 0.3064\n"
          ]
        },
        {
          "output_type": "stream",
          "name": "stderr",
          "text": [
            "100%|████████████████████████████████████████████████████████████████████████████████████| 9/9 [00:10<00:00,  1.15s/it]\n"
          ]
        },
        {
          "output_type": "stream",
          "name": "stdout",
          "text": [
            "Epoch 4/10\n",
            "Train Loss: 1.6035 | Val Acc: 0.4167 | Val IoU: 0.3070\n"
          ]
        },
        {
          "output_type": "stream",
          "name": "stderr",
          "text": [
            "100%|████████████████████████████████████████████████████████████████████████████████████| 9/9 [00:10<00:00,  1.17s/it]\n"
          ]
        },
        {
          "output_type": "stream",
          "name": "stdout",
          "text": [
            "Epoch 5/10\n",
            "Train Loss: 1.4615 | Val Acc: 0.4375 | Val IoU: 0.2946\n"
          ]
        },
        {
          "output_type": "stream",
          "name": "stderr",
          "text": [
            "100%|████████████████████████████████████████████████████████████████████████████████████| 9/9 [00:10<00:00,  1.17s/it]\n"
          ]
        },
        {
          "output_type": "stream",
          "name": "stdout",
          "text": [
            "Epoch 6/10\n",
            "Train Loss: 1.2938 | Val Acc: 0.4792 | Val IoU: 0.2971\n"
          ]
        },
        {
          "output_type": "stream",
          "name": "stderr",
          "text": [
            "100%|████████████████████████████████████████████████████████████████████████████████████| 9/9 [00:10<00:00,  1.22s/it]\n"
          ]
        },
        {
          "output_type": "stream",
          "name": "stdout",
          "text": [
            "Epoch 7/10\n",
            "Train Loss: 1.0738 | Val Acc: 0.6042 | Val IoU: 0.3168\n"
          ]
        },
        {
          "output_type": "stream",
          "name": "stderr",
          "text": [
            "100%|████████████████████████████████████████████████████████████████████████████████████| 9/9 [00:10<00:00,  1.15s/it]\n"
          ]
        },
        {
          "output_type": "stream",
          "name": "stdout",
          "text": [
            "Epoch 8/10\n",
            "Train Loss: 0.9236 | Val Acc: 0.6875 | Val IoU: 0.3338\n"
          ]
        },
        {
          "output_type": "stream",
          "name": "stderr",
          "text": [
            "100%|████████████████████████████████████████████████████████████████████████████████████| 9/9 [00:10<00:00,  1.17s/it]\n"
          ]
        },
        {
          "output_type": "stream",
          "name": "stdout",
          "text": [
            "Epoch 9/10\n",
            "Train Loss: 0.7726 | Val Acc: 0.6875 | Val IoU: 0.3329\n"
          ]
        },
        {
          "output_type": "stream",
          "name": "stderr",
          "text": [
            "100%|████████████████████████████████████████████████████████████████████████████████████| 9/9 [00:10<00:00,  1.15s/it]\n"
          ]
        },
        {
          "output_type": "stream",
          "name": "stdout",
          "text": [
            "Epoch 10/10\n",
            "Train Loss: 0.6786 | Val Acc: 0.6875 | Val IoU: 0.3327\n",
            "\n",
            "Training with efficientnet and augmentation strategy:Compose([\n",
            "  CoarseDropout(p=0.5, fill=0.0, fill_mask=None, num_holes_range=(1, 2), hole_height_range=(0.1, 0.2), hole_width_range=(0.1, 0.2)),\n",
            "  GaussNoise(p=0.3, std_range=(0.2, 0.44), mean_range=(0.0, 0.0), per_channel=True, noise_scale_factor=1.0),\n",
            "  HueSaturationValue(p=0.3, hue_shift_limit=(-20, 20), sat_shift_limit=(-30, 30), val_shift_limit=(-20, 20)),\n",
            "  RandomShadow(p=0.2, shadow_roi=(0.0, 0.5, 1.0, 1.0), num_shadows_limit=(1, 2), shadow_dimension=5),\n",
            "], p=1.0, bbox_params={'format': 'albumentations', 'label_fields': ['class_labels'], 'min_area': 0.01, 'min_visibility': 0.0, 'min_width': 0.0, 'min_height': 0.0, 'check_each_transform': True, 'clip': False, 'max_accept_ratio': None}, keypoint_params=None, additional_targets={}, is_check_shapes=True) \n",
            "Loaded pretrained weights for efficientnet-b0\n"
          ]
        },
        {
          "output_type": "stream",
          "name": "stderr",
          "text": [
            "100%|████████████████████████████████████████████████████████████████████████████████████| 9/9 [00:10<00:00,  1.16s/it]\n"
          ]
        },
        {
          "output_type": "stream",
          "name": "stdout",
          "text": [
            "Epoch 1/10\n",
            "Train Loss: 1.8175 | Val Acc: 0.2083 | Val IoU: 0.0537\n"
          ]
        },
        {
          "output_type": "stream",
          "name": "stderr",
          "text": [
            "100%|████████████████████████████████████████████████████████████████████████████████████| 9/9 [00:10<00:00,  1.17s/it]\n"
          ]
        },
        {
          "output_type": "stream",
          "name": "stdout",
          "text": [
            "Epoch 2/10\n",
            "Train Loss: 1.7699 | Val Acc: 0.2500 | Val IoU: 0.1993\n"
          ]
        },
        {
          "output_type": "stream",
          "name": "stderr",
          "text": [
            "100%|████████████████████████████████████████████████████████████████████████████████████| 9/9 [00:10<00:00,  1.16s/it]\n"
          ]
        },
        {
          "output_type": "stream",
          "name": "stdout",
          "text": [
            "Epoch 3/10\n",
            "Train Loss: 1.7264 | Val Acc: 0.3125 | Val IoU: 0.2915\n"
          ]
        },
        {
          "output_type": "stream",
          "name": "stderr",
          "text": [
            "100%|████████████████████████████████████████████████████████████████████████████████████| 9/9 [00:10<00:00,  1.15s/it]\n"
          ]
        },
        {
          "output_type": "stream",
          "name": "stdout",
          "text": [
            "Epoch 4/10\n",
            "Train Loss: 1.6786 | Val Acc: 0.3542 | Val IoU: 0.2947\n"
          ]
        },
        {
          "output_type": "stream",
          "name": "stderr",
          "text": [
            "100%|████████████████████████████████████████████████████████████████████████████████████| 9/9 [00:10<00:00,  1.15s/it]\n"
          ]
        },
        {
          "output_type": "stream",
          "name": "stdout",
          "text": [
            "Epoch 5/10\n",
            "Train Loss: 1.6093 | Val Acc: 0.5000 | Val IoU: 0.2861\n"
          ]
        },
        {
          "output_type": "stream",
          "name": "stderr",
          "text": [
            "100%|████████████████████████████████████████████████████████████████████████████████████| 9/9 [00:11<00:00,  1.22s/it]\n"
          ]
        },
        {
          "output_type": "stream",
          "name": "stdout",
          "text": [
            "Epoch 6/10\n",
            "Train Loss: 1.4751 | Val Acc: 0.6042 | Val IoU: 0.2842\n"
          ]
        },
        {
          "output_type": "stream",
          "name": "stderr",
          "text": [
            "100%|████████████████████████████████████████████████████████████████████████████████████| 9/9 [00:10<00:00,  1.17s/it]\n"
          ]
        },
        {
          "output_type": "stream",
          "name": "stdout",
          "text": [
            "Epoch 7/10\n",
            "Train Loss: 1.3604 | Val Acc: 0.5833 | Val IoU: 0.3079\n"
          ]
        },
        {
          "output_type": "stream",
          "name": "stderr",
          "text": [
            "100%|████████████████████████████████████████████████████████████████████████████████████| 9/9 [00:10<00:00,  1.16s/it]\n"
          ]
        },
        {
          "output_type": "stream",
          "name": "stdout",
          "text": [
            "Epoch 8/10\n",
            "Train Loss: 1.2322 | Val Acc: 0.6250 | Val IoU: 0.3165\n"
          ]
        },
        {
          "output_type": "stream",
          "name": "stderr",
          "text": [
            "100%|████████████████████████████████████████████████████████████████████████████████████| 9/9 [00:10<00:00,  1.16s/it]\n"
          ]
        },
        {
          "output_type": "stream",
          "name": "stdout",
          "text": [
            "Epoch 9/10\n",
            "Train Loss: 1.1101 | Val Acc: 0.6250 | Val IoU: 0.3217\n"
          ]
        },
        {
          "output_type": "stream",
          "name": "stderr",
          "text": [
            "100%|████████████████████████████████████████████████████████████████████████████████████| 9/9 [00:10<00:00,  1.16s/it]\n"
          ]
        },
        {
          "output_type": "stream",
          "name": "stdout",
          "text": [
            "Epoch 10/10\n",
            "Train Loss: 0.9949 | Val Acc: 0.6042 | Val IoU: 0.3239\n"
          ]
        }
      ]
    },
    {
      "cell_type": "code",
      "source": [
        "import torch\n",
        "print(torch.__version__)  # Debe ser ≥2.0.0\n",
        "print(torch.cuda.is_available())  # Debe ser True\n",
        "print(torch.cuda.get_device_name(0))  # Debe mostrar \"NVIDIA GeForce MX110\""
      ],
      "metadata": {
        "colab": {
          "base_uri": "https://localhost:8080/"
        },
        "id": "hwHAQIYZxgPg",
        "outputId": "84c1d685-9f41-49ee-cda8-9e8efe2f6996"
      },
      "execution_count": null,
      "outputs": [
        {
          "output_type": "stream",
          "name": "stdout",
          "text": [
            "2.5.1+cu121\n",
            "True\n",
            "NVIDIA GeForce MX110\n"
          ]
        }
      ]
    },
    {
      "cell_type": "markdown",
      "source": [
        "\n",
        "## Generación de Submission"
      ],
      "metadata": {
        "id": "vRj0G8LEuIpb"
      }
    },
    {
      "cell_type": "code",
      "source": [
        "def create_submission(model_path, backbone_type):\n",
        "    # Verificar existencia del modelo\n",
        "    if not os.path.exists(model_path):\n",
        "        print(f\"Modelo {model_path} no encontrado. Entrenando primero...\")\n",
        "        model = train_model(backbone_type, aug_strategy1)  # Usar estrategia default\n",
        "        torch.save(model.state_dict(), model_path)\n",
        "\n",
        "    # Cargar modelo\n",
        "    model = MultiTaskModel(backbone_type=backbone_type)\n",
        "\n",
        "    try:\n",
        "        model.load_state_dict(torch.load(model_path, map_location=device))\n",
        "    except Exception as e:\n",
        "        print(f\"Error cargando {model_path}: {str(e)}\")\n",
        "        return None\n",
        "\n",
        "    model.to(device).eval()\n",
        "\n",
        "    # Resto del código original...\n",
        "    test_df = pd.read_csv(osp.join(DATA_DIR, \"test.csv\"))\n",
        "    test_dataset = MilitaryDataset(\n",
        "        test_df,\n",
        "        osp.join(DATA_DIR, \"images/images\"),\n",
        "        output_size=IMG_SIZE\n",
        "    )\n",
        "    test_loader = DataLoader(test_dataset, batch_size=BATCH_SIZE, shuffle=False)\n",
        "\n",
        "    all_preds = []\n",
        "    global_idx = 0  # Contador de índices globales\n",
        "    with torch.no_grad():\n",
        "        for batch in test_loader:\n",
        "            images = batch['image'].to(device)\n",
        "            outputs = model(images)\n",
        "\n",
        "            pred_classes = outputs['class_id'].argmax(dim=1).cpu().numpy()\n",
        "            pred_boxes = outputs['bbox'].cpu().numpy()\n",
        "\n",
        "            # Obtener nombres de archivo usando el contador global\n",
        "            for cls, box in zip(pred_classes, pred_boxes):\n",
        "                filename = test_df.iloc[global_idx]['filename']\n",
        "                all_preds.append({\n",
        "                    'filename': filename,\n",
        "                    'class': id2obj[cls],\n",
        "                    'xmin': max(0, int(box[0] * w_real)),\n",
        "                    'ymin': max(0, int(box[1] * h_real)),\n",
        "                    'xmax': min(w_real, int(box[2] * w_real)),\n",
        "                    'ymax': min(h_real, int(box[3] * h_real))\n",
        "                })\n",
        "                global_idx += 1  # Incrementar índice global\n",
        "\n",
        "    submission_df = pd.DataFrame(all_preds)\n",
        "    submission_df = submission_df[['filename', 'class', 'xmin', 'ymin', 'xmax', 'ymax']]\n",
        "\n",
        "    # Validar formato final\n",
        "    assert set(submission_df.columns) == {'filename', 'class', 'xmin', 'ymin', 'xmax', 'ymax'}, \\\n",
        "        \"Columnas incorrectas en el submission\"\n",
        "\n",
        "    submission_df.to_csv(f'submission_{backbone_type}_v3.csv', index=False)\n",
        "    print(f\"Submission generado para {backbone_type} en submission_{backbone_type}_v3.csv\")\n",
        "    return submission_df\n",
        "\n",
        "# Asegurar que los modelos existen antes de generar submissions\n",
        "backbones = ['custom', 'resnet', 'efficientnet']\n",
        "for backbone in backbones:\n",
        "    model_path = f\"best_model_{backbone}.pth\"\n",
        "    if not os.path.exists(model_path):\n",
        "        print(f\"Entrenando modelo {backbone}...\")\n",
        "        model = train_model(backbone, aug_strategy1, num_epochs=15)\n",
        "        torch.save(model.state_dict(), model_path)\n",
        "\n",
        "    create_submission(model_path, backbone)"
      ],
      "metadata": {
        "colab": {
          "base_uri": "https://localhost:8080/"
        },
        "id": "MEoBlFjLuHJh",
        "outputId": "6a90c74e-9612-460f-b6d1-e59fbf12d00f"
      },
      "execution_count": null,
      "outputs": [
        {
          "output_type": "stream",
          "name": "stderr",
          "text": [
            "C:\\Users\\manza\\AppData\\Local\\Temp\\ipykernel_7004\\2239986760.py:12: FutureWarning: You are using `torch.load` with `weights_only=False` (the current default value), which uses the default pickle module implicitly. It is possible to construct malicious pickle data which will execute arbitrary code during unpickling (See https://github.com/pytorch/pytorch/blob/main/SECURITY.md#untrusted-models for more details). In a future release, the default value for `weights_only` will be flipped to `True`. This limits the functions that could be executed during unpickling. Arbitrary objects will no longer be allowed to be loaded via this mode unless they are explicitly allowlisted by the user via `torch.serialization.add_safe_globals`. We recommend you start setting `weights_only=True` for any use case where you don't have full control of the loaded file. Please open an issue on GitHub for any issues related to this experimental feature.\n",
            "  model.load_state_dict(torch.load(model_path, map_location=device))\n"
          ]
        },
        {
          "output_type": "stream",
          "name": "stdout",
          "text": [
            "Submission generado para custom en submission_custom_v3.csv\n"
          ]
        },
        {
          "output_type": "stream",
          "name": "stderr",
          "text": [
            "C:\\Users\\manza\\anaconda3\\Lib\\site-packages\\torchvision\\models\\_utils.py:208: UserWarning: The parameter 'pretrained' is deprecated since 0.13 and may be removed in the future, please use 'weights' instead.\n",
            "  warnings.warn(\n",
            "C:\\Users\\manza\\anaconda3\\Lib\\site-packages\\torchvision\\models\\_utils.py:223: UserWarning: Arguments other than a weight enum or `None` for 'weights' are deprecated since 0.13 and may be removed in the future. The current behavior is equivalent to passing `weights=ResNet50_Weights.IMAGENET1K_V1`. You can also use `weights=ResNet50_Weights.DEFAULT` to get the most up-to-date weights.\n",
            "  warnings.warn(msg)\n",
            "C:\\Users\\manza\\AppData\\Local\\Temp\\ipykernel_7004\\2239986760.py:12: FutureWarning: You are using `torch.load` with `weights_only=False` (the current default value), which uses the default pickle module implicitly. It is possible to construct malicious pickle data which will execute arbitrary code during unpickling (See https://github.com/pytorch/pytorch/blob/main/SECURITY.md#untrusted-models for more details). In a future release, the default value for `weights_only` will be flipped to `True`. This limits the functions that could be executed during unpickling. Arbitrary objects will no longer be allowed to be loaded via this mode unless they are explicitly allowlisted by the user via `torch.serialization.add_safe_globals`. We recommend you start setting `weights_only=True` for any use case where you don't have full control of the loaded file. Please open an issue on GitHub for any issues related to this experimental feature.\n",
            "  model.load_state_dict(torch.load(model_path, map_location=device))\n"
          ]
        },
        {
          "output_type": "stream",
          "name": "stdout",
          "text": [
            "Submission generado para resnet en submission_resnet_v3.csv\n",
            "Loaded pretrained weights for efficientnet-b0\n"
          ]
        },
        {
          "output_type": "stream",
          "name": "stderr",
          "text": [
            "C:\\Users\\manza\\AppData\\Local\\Temp\\ipykernel_7004\\2239986760.py:12: FutureWarning: You are using `torch.load` with `weights_only=False` (the current default value), which uses the default pickle module implicitly. It is possible to construct malicious pickle data which will execute arbitrary code during unpickling (See https://github.com/pytorch/pytorch/blob/main/SECURITY.md#untrusted-models for more details). In a future release, the default value for `weights_only` will be flipped to `True`. This limits the functions that could be executed during unpickling. Arbitrary objects will no longer be allowed to be loaded via this mode unless they are explicitly allowlisted by the user via `torch.serialization.add_safe_globals`. We recommend you start setting `weights_only=True` for any use case where you don't have full control of the loaded file. Please open an issue on GitHub for any issues related to this experimental feature.\n",
            "  model.load_state_dict(torch.load(model_path, map_location=device))\n"
          ]
        },
        {
          "output_type": "stream",
          "name": "stdout",
          "text": [
            "Submission generado para efficientnet en submission_efficientnet_v3.csv\n"
          ]
        }
      ]
    },
    {
      "cell_type": "code",
      "source": [
        "test_df = pd.read_csv(osp.join(DATA_DIR, \"test.csv\"))\n"
      ],
      "metadata": {
        "id": "yMVBqPUaTxac"
      },
      "execution_count": null,
      "outputs": []
    },
    {
      "cell_type": "code",
      "source": [
        "test_df = pd.read_csv(osp.join(DATA_DIR, \"test.csv\"))\n",
        "test_dataset = MilitaryDataset(\n",
        "        test_df,\n",
        "        osp.join(DATA_DIR, \"images/images\"),\n",
        "        output_size=IMG_SIZE\n",
        "    )\n",
        "test_loader = DataLoader(test_dataset, batch_size=BATCH_SIZE, shuffle=False)\n",
        "test_loader"
      ],
      "metadata": {
        "colab": {
          "base_uri": "https://localhost:8080/"
        },
        "id": "yBK-wAczybJ9",
        "outputId": "4a8f2c17-455f-4e29-af8d-a5439e44836e"
      },
      "execution_count": null,
      "outputs": [
        {
          "output_type": "execute_result",
          "data": {
            "text/plain": [
              "<torch.utils.data.dataloader.DataLoader at 0x211eab82f00>"
            ]
          },
          "metadata": {},
          "execution_count": 10
        }
      ]
    },
    {
      "cell_type": "code",
      "source": [
        "test_loader"
      ],
      "metadata": {
        "colab": {
          "base_uri": "https://localhost:8080/"
        },
        "id": "dRO79inRzAPR",
        "outputId": "2f294da3-0002-4f56-db3c-a841b904ffd9"
      },
      "execution_count": null,
      "outputs": [
        {
          "output_type": "execute_result",
          "data": {
            "text/plain": [
              "<torch.utils.data.dataloader.DataLoader at 0x211eab82f00>"
            ]
          },
          "metadata": {},
          "execution_count": 11
        }
      ]
    },
    {
      "cell_type": "code",
      "source": [
        "# prompt: crea un codigo para descargar el csv test_df\n",
        "\n",
        "import pandas as pd\n",
        "import os\n",
        "\n",
        "DATA_DIR = aa_iv_2025_i_object_localization_path  # Assuming this variable is defined from previous code\n",
        "\n",
        "test_df = pd.read_csv(os.path.join(DATA_DIR, \"test.csv\"))\n",
        "test_df.to_csv('test_df.csv', index=False)\n"
      ],
      "metadata": {
        "id": "9BhpTMSBUTVv"
      },
      "execution_count": null,
      "outputs": []
    }
  ]
}
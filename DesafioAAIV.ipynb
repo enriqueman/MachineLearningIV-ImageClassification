{
  "nbformat": 4,
  "nbformat_minor": 0,
  "metadata": {
    "colab": {
      "provenance": []
    },
    "kernelspec": {
      "name": "python3",
      "display_name": "Python 3"
    },
    "language_info": {
      "name": "python"
    },
    "widgets": {
      "application/vnd.jupyter.widget-state+json": {
        "ab30d4c369764a1783f832bfb5b7339e": {
          "model_module": "@jupyter-widgets/controls",
          "model_name": "VBoxModel",
          "model_module_version": "2.0.0",
          "state": {
            "_dom_classes": [],
            "_model_module": "@jupyter-widgets/controls",
            "_model_module_version": "2.0.0",
            "_model_name": "VBoxModel",
            "_view_count": null,
            "_view_module": "@jupyter-widgets/controls",
            "_view_module_version": "2.0.0",
            "_view_name": "VBoxView",
            "box_style": "",
            "children": [
              "IPY_MODEL_3094b185687a487bb15bfe5a79dafca6",
              "IPY_MODEL_140601e801f84c4c83eb2fdb6e98be97",
              "IPY_MODEL_5fb022aba219486a9805cfcddd50e0a7",
              "IPY_MODEL_9645ce03e7034ad9af3d109e617fbfd4",
              "IPY_MODEL_820c4b25b2324030a3d97433b23ad9e1"
            ],
            "layout": "IPY_MODEL_8e3b90f01eea46cb8154462328f93130",
            "tabbable": null,
            "tooltip": null
          }
        },
        "3094b185687a487bb15bfe5a79dafca6": {
          "model_module": "@jupyter-widgets/controls",
          "model_name": "HTMLModel",
          "model_module_version": "2.0.0",
          "state": {
            "_dom_classes": [],
            "_model_module": "@jupyter-widgets/controls",
            "_model_module_version": "2.0.0",
            "_model_name": "HTMLModel",
            "_view_count": null,
            "_view_module": "@jupyter-widgets/controls",
            "_view_module_version": "2.0.0",
            "_view_name": "HTMLView",
            "description": "",
            "description_allow_html": false,
            "layout": "IPY_MODEL_7a3ac0cd1b0a4552803afafb02e5db7c",
            "placeholder": "​",
            "style": "IPY_MODEL_44c691fe965243068cf8c86f2a625b40",
            "tabbable": null,
            "tooltip": null,
            "value": "<center> <img\nsrc=https://www.kaggle.com/static/images/site-logo.png\nalt='Kaggle'> <br> Create an API token from <a\nhref=\"https://www.kaggle.com/settings/account\" target=\"_blank\">your Kaggle\nsettings page</a> and paste it below along with your Kaggle username. <br> </center>"
          }
        },
        "140601e801f84c4c83eb2fdb6e98be97": {
          "model_module": "@jupyter-widgets/controls",
          "model_name": "TextModel",
          "model_module_version": "2.0.0",
          "state": {
            "_dom_classes": [],
            "_model_module": "@jupyter-widgets/controls",
            "_model_module_version": "2.0.0",
            "_model_name": "TextModel",
            "_view_count": null,
            "_view_module": "@jupyter-widgets/controls",
            "_view_module_version": "2.0.0",
            "_view_name": "TextView",
            "continuous_update": true,
            "description": "Username:",
            "description_allow_html": false,
            "disabled": false,
            "layout": "IPY_MODEL_5da89c2f2dcc4a42915a95fa538f600b",
            "placeholder": "​",
            "style": "IPY_MODEL_95884d45068a4941b28ef25e0f474390",
            "tabbable": null,
            "tooltip": null,
            "value": ""
          }
        },
        "5fb022aba219486a9805cfcddd50e0a7": {
          "model_module": "@jupyter-widgets/controls",
          "model_name": "PasswordModel",
          "model_module_version": "2.0.0",
          "state": {
            "_dom_classes": [],
            "_model_module": "@jupyter-widgets/controls",
            "_model_module_version": "2.0.0",
            "_model_name": "PasswordModel",
            "_view_count": null,
            "_view_module": "@jupyter-widgets/controls",
            "_view_module_version": "2.0.0",
            "_view_name": "PasswordView",
            "continuous_update": true,
            "description": "Token:",
            "description_allow_html": false,
            "disabled": false,
            "layout": "IPY_MODEL_3b732fc525e14579a3013307d280d0f4",
            "placeholder": "​",
            "style": "IPY_MODEL_981344a2e0344b148e6aa0d86f1e4bc4",
            "tabbable": null,
            "tooltip": null,
            "value": ""
          }
        },
        "9645ce03e7034ad9af3d109e617fbfd4": {
          "model_module": "@jupyter-widgets/controls",
          "model_name": "ButtonModel",
          "model_module_version": "2.0.0",
          "state": {
            "_dom_classes": [],
            "_model_module": "@jupyter-widgets/controls",
            "_model_module_version": "2.0.0",
            "_model_name": "ButtonModel",
            "_view_count": null,
            "_view_module": "@jupyter-widgets/controls",
            "_view_module_version": "2.0.0",
            "_view_name": "ButtonView",
            "button_style": "",
            "description": "Login",
            "disabled": false,
            "icon": "",
            "layout": "IPY_MODEL_4a69c301466d47358b07daf3a2f7d23c",
            "style": "IPY_MODEL_f5c9bcd4cec240e49f341a789abe2cfb",
            "tabbable": null,
            "tooltip": null
          }
        },
        "820c4b25b2324030a3d97433b23ad9e1": {
          "model_module": "@jupyter-widgets/controls",
          "model_name": "HTMLModel",
          "model_module_version": "2.0.0",
          "state": {
            "_dom_classes": [],
            "_model_module": "@jupyter-widgets/controls",
            "_model_module_version": "2.0.0",
            "_model_name": "HTMLModel",
            "_view_count": null,
            "_view_module": "@jupyter-widgets/controls",
            "_view_module_version": "2.0.0",
            "_view_name": "HTMLView",
            "description": "",
            "description_allow_html": false,
            "layout": "IPY_MODEL_aadb036d7f8a4377b8ed4bc3ff1214cd",
            "placeholder": "​",
            "style": "IPY_MODEL_a01dc2c7265d4bcf979dac58afcf2b50",
            "tabbable": null,
            "tooltip": null,
            "value": "\n<b>Thank You</b></center>"
          }
        },
        "8e3b90f01eea46cb8154462328f93130": {
          "model_module": "@jupyter-widgets/base",
          "model_name": "LayoutModel",
          "model_module_version": "2.0.0",
          "state": {
            "_model_module": "@jupyter-widgets/base",
            "_model_module_version": "2.0.0",
            "_model_name": "LayoutModel",
            "_view_count": null,
            "_view_module": "@jupyter-widgets/base",
            "_view_module_version": "2.0.0",
            "_view_name": "LayoutView",
            "align_content": null,
            "align_items": "center",
            "align_self": null,
            "border_bottom": null,
            "border_left": null,
            "border_right": null,
            "border_top": null,
            "bottom": null,
            "display": "flex",
            "flex": null,
            "flex_flow": "column",
            "grid_area": null,
            "grid_auto_columns": null,
            "grid_auto_flow": null,
            "grid_auto_rows": null,
            "grid_column": null,
            "grid_gap": null,
            "grid_row": null,
            "grid_template_areas": null,
            "grid_template_columns": null,
            "grid_template_rows": null,
            "height": null,
            "justify_content": null,
            "justify_items": null,
            "left": null,
            "margin": null,
            "max_height": null,
            "max_width": null,
            "min_height": null,
            "min_width": null,
            "object_fit": null,
            "object_position": null,
            "order": null,
            "overflow": null,
            "padding": null,
            "right": null,
            "top": null,
            "visibility": null,
            "width": "50%"
          }
        },
        "7a3ac0cd1b0a4552803afafb02e5db7c": {
          "model_module": "@jupyter-widgets/base",
          "model_name": "LayoutModel",
          "model_module_version": "2.0.0",
          "state": {
            "_model_module": "@jupyter-widgets/base",
            "_model_module_version": "2.0.0",
            "_model_name": "LayoutModel",
            "_view_count": null,
            "_view_module": "@jupyter-widgets/base",
            "_view_module_version": "2.0.0",
            "_view_name": "LayoutView",
            "align_content": null,
            "align_items": null,
            "align_self": null,
            "border_bottom": null,
            "border_left": null,
            "border_right": null,
            "border_top": null,
            "bottom": null,
            "display": null,
            "flex": null,
            "flex_flow": null,
            "grid_area": null,
            "grid_auto_columns": null,
            "grid_auto_flow": null,
            "grid_auto_rows": null,
            "grid_column": null,
            "grid_gap": null,
            "grid_row": null,
            "grid_template_areas": null,
            "grid_template_columns": null,
            "grid_template_rows": null,
            "height": null,
            "justify_content": null,
            "justify_items": null,
            "left": null,
            "margin": null,
            "max_height": null,
            "max_width": null,
            "min_height": null,
            "min_width": null,
            "object_fit": null,
            "object_position": null,
            "order": null,
            "overflow": null,
            "padding": null,
            "right": null,
            "top": null,
            "visibility": null,
            "width": null
          }
        },
        "44c691fe965243068cf8c86f2a625b40": {
          "model_module": "@jupyter-widgets/controls",
          "model_name": "HTMLStyleModel",
          "model_module_version": "2.0.0",
          "state": {
            "_model_module": "@jupyter-widgets/controls",
            "_model_module_version": "2.0.0",
            "_model_name": "HTMLStyleModel",
            "_view_count": null,
            "_view_module": "@jupyter-widgets/base",
            "_view_module_version": "2.0.0",
            "_view_name": "StyleView",
            "background": null,
            "description_width": "",
            "font_size": null,
            "text_color": null
          }
        },
        "5da89c2f2dcc4a42915a95fa538f600b": {
          "model_module": "@jupyter-widgets/base",
          "model_name": "LayoutModel",
          "model_module_version": "2.0.0",
          "state": {
            "_model_module": "@jupyter-widgets/base",
            "_model_module_version": "2.0.0",
            "_model_name": "LayoutModel",
            "_view_count": null,
            "_view_module": "@jupyter-widgets/base",
            "_view_module_version": "2.0.0",
            "_view_name": "LayoutView",
            "align_content": null,
            "align_items": null,
            "align_self": null,
            "border_bottom": null,
            "border_left": null,
            "border_right": null,
            "border_top": null,
            "bottom": null,
            "display": null,
            "flex": null,
            "flex_flow": null,
            "grid_area": null,
            "grid_auto_columns": null,
            "grid_auto_flow": null,
            "grid_auto_rows": null,
            "grid_column": null,
            "grid_gap": null,
            "grid_row": null,
            "grid_template_areas": null,
            "grid_template_columns": null,
            "grid_template_rows": null,
            "height": null,
            "justify_content": null,
            "justify_items": null,
            "left": null,
            "margin": null,
            "max_height": null,
            "max_width": null,
            "min_height": null,
            "min_width": null,
            "object_fit": null,
            "object_position": null,
            "order": null,
            "overflow": null,
            "padding": null,
            "right": null,
            "top": null,
            "visibility": null,
            "width": null
          }
        },
        "95884d45068a4941b28ef25e0f474390": {
          "model_module": "@jupyter-widgets/controls",
          "model_name": "TextStyleModel",
          "model_module_version": "2.0.0",
          "state": {
            "_model_module": "@jupyter-widgets/controls",
            "_model_module_version": "2.0.0",
            "_model_name": "TextStyleModel",
            "_view_count": null,
            "_view_module": "@jupyter-widgets/base",
            "_view_module_version": "2.0.0",
            "_view_name": "StyleView",
            "background": null,
            "description_width": "",
            "font_size": null,
            "text_color": null
          }
        },
        "3b732fc525e14579a3013307d280d0f4": {
          "model_module": "@jupyter-widgets/base",
          "model_name": "LayoutModel",
          "model_module_version": "2.0.0",
          "state": {
            "_model_module": "@jupyter-widgets/base",
            "_model_module_version": "2.0.0",
            "_model_name": "LayoutModel",
            "_view_count": null,
            "_view_module": "@jupyter-widgets/base",
            "_view_module_version": "2.0.0",
            "_view_name": "LayoutView",
            "align_content": null,
            "align_items": null,
            "align_self": null,
            "border_bottom": null,
            "border_left": null,
            "border_right": null,
            "border_top": null,
            "bottom": null,
            "display": null,
            "flex": null,
            "flex_flow": null,
            "grid_area": null,
            "grid_auto_columns": null,
            "grid_auto_flow": null,
            "grid_auto_rows": null,
            "grid_column": null,
            "grid_gap": null,
            "grid_row": null,
            "grid_template_areas": null,
            "grid_template_columns": null,
            "grid_template_rows": null,
            "height": null,
            "justify_content": null,
            "justify_items": null,
            "left": null,
            "margin": null,
            "max_height": null,
            "max_width": null,
            "min_height": null,
            "min_width": null,
            "object_fit": null,
            "object_position": null,
            "order": null,
            "overflow": null,
            "padding": null,
            "right": null,
            "top": null,
            "visibility": null,
            "width": null
          }
        },
        "981344a2e0344b148e6aa0d86f1e4bc4": {
          "model_module": "@jupyter-widgets/controls",
          "model_name": "TextStyleModel",
          "model_module_version": "2.0.0",
          "state": {
            "_model_module": "@jupyter-widgets/controls",
            "_model_module_version": "2.0.0",
            "_model_name": "TextStyleModel",
            "_view_count": null,
            "_view_module": "@jupyter-widgets/base",
            "_view_module_version": "2.0.0",
            "_view_name": "StyleView",
            "background": null,
            "description_width": "",
            "font_size": null,
            "text_color": null
          }
        },
        "4a69c301466d47358b07daf3a2f7d23c": {
          "model_module": "@jupyter-widgets/base",
          "model_name": "LayoutModel",
          "model_module_version": "2.0.0",
          "state": {
            "_model_module": "@jupyter-widgets/base",
            "_model_module_version": "2.0.0",
            "_model_name": "LayoutModel",
            "_view_count": null,
            "_view_module": "@jupyter-widgets/base",
            "_view_module_version": "2.0.0",
            "_view_name": "LayoutView",
            "align_content": null,
            "align_items": null,
            "align_self": null,
            "border_bottom": null,
            "border_left": null,
            "border_right": null,
            "border_top": null,
            "bottom": null,
            "display": null,
            "flex": null,
            "flex_flow": null,
            "grid_area": null,
            "grid_auto_columns": null,
            "grid_auto_flow": null,
            "grid_auto_rows": null,
            "grid_column": null,
            "grid_gap": null,
            "grid_row": null,
            "grid_template_areas": null,
            "grid_template_columns": null,
            "grid_template_rows": null,
            "height": null,
            "justify_content": null,
            "justify_items": null,
            "left": null,
            "margin": null,
            "max_height": null,
            "max_width": null,
            "min_height": null,
            "min_width": null,
            "object_fit": null,
            "object_position": null,
            "order": null,
            "overflow": null,
            "padding": null,
            "right": null,
            "top": null,
            "visibility": null,
            "width": null
          }
        },
        "f5c9bcd4cec240e49f341a789abe2cfb": {
          "model_module": "@jupyter-widgets/controls",
          "model_name": "ButtonStyleModel",
          "model_module_version": "2.0.0",
          "state": {
            "_model_module": "@jupyter-widgets/controls",
            "_model_module_version": "2.0.0",
            "_model_name": "ButtonStyleModel",
            "_view_count": null,
            "_view_module": "@jupyter-widgets/base",
            "_view_module_version": "2.0.0",
            "_view_name": "StyleView",
            "button_color": null,
            "font_family": null,
            "font_size": null,
            "font_style": null,
            "font_variant": null,
            "font_weight": null,
            "text_color": null,
            "text_decoration": null
          }
        },
        "aadb036d7f8a4377b8ed4bc3ff1214cd": {
          "model_module": "@jupyter-widgets/base",
          "model_name": "LayoutModel",
          "model_module_version": "2.0.0",
          "state": {
            "_model_module": "@jupyter-widgets/base",
            "_model_module_version": "2.0.0",
            "_model_name": "LayoutModel",
            "_view_count": null,
            "_view_module": "@jupyter-widgets/base",
            "_view_module_version": "2.0.0",
            "_view_name": "LayoutView",
            "align_content": null,
            "align_items": null,
            "align_self": null,
            "border_bottom": null,
            "border_left": null,
            "border_right": null,
            "border_top": null,
            "bottom": null,
            "display": null,
            "flex": null,
            "flex_flow": null,
            "grid_area": null,
            "grid_auto_columns": null,
            "grid_auto_flow": null,
            "grid_auto_rows": null,
            "grid_column": null,
            "grid_gap": null,
            "grid_row": null,
            "grid_template_areas": null,
            "grid_template_columns": null,
            "grid_template_rows": null,
            "height": null,
            "justify_content": null,
            "justify_items": null,
            "left": null,
            "margin": null,
            "max_height": null,
            "max_width": null,
            "min_height": null,
            "min_width": null,
            "object_fit": null,
            "object_position": null,
            "order": null,
            "overflow": null,
            "padding": null,
            "right": null,
            "top": null,
            "visibility": null,
            "width": null
          }
        },
        "a01dc2c7265d4bcf979dac58afcf2b50": {
          "model_module": "@jupyter-widgets/controls",
          "model_name": "HTMLStyleModel",
          "model_module_version": "2.0.0",
          "state": {
            "_model_module": "@jupyter-widgets/controls",
            "_model_module_version": "2.0.0",
            "_model_name": "HTMLStyleModel",
            "_view_count": null,
            "_view_module": "@jupyter-widgets/base",
            "_view_module_version": "2.0.0",
            "_view_name": "StyleView",
            "background": null,
            "description_width": "",
            "font_size": null,
            "text_color": null
          }
        }
      }
    }
  },
  "cells": [
    {
      "cell_type": "code",
      "source": [
        "import kagglehub\n",
        "kagglehub.login()"
      ],
      "metadata": {
        "colab": {
          "base_uri": "https://localhost:8080/",
          "height": 17,
          "referenced_widgets": [
            "ab30d4c369764a1783f832bfb5b7339e",
            "3094b185687a487bb15bfe5a79dafca6",
            "140601e801f84c4c83eb2fdb6e98be97",
            "5fb022aba219486a9805cfcddd50e0a7",
            "9645ce03e7034ad9af3d109e617fbfd4",
            "820c4b25b2324030a3d97433b23ad9e1",
            "8e3b90f01eea46cb8154462328f93130",
            "7a3ac0cd1b0a4552803afafb02e5db7c",
            "44c691fe965243068cf8c86f2a625b40",
            "5da89c2f2dcc4a42915a95fa538f600b",
            "95884d45068a4941b28ef25e0f474390",
            "3b732fc525e14579a3013307d280d0f4",
            "981344a2e0344b148e6aa0d86f1e4bc4",
            "4a69c301466d47358b07daf3a2f7d23c",
            "f5c9bcd4cec240e49f341a789abe2cfb",
            "aadb036d7f8a4377b8ed4bc3ff1214cd",
            "a01dc2c7265d4bcf979dac58afcf2b50"
          ]
        },
        "id": "0hJb4dOgvUKW",
        "outputId": "daf25af8-fe8c-438a-d0ca-f06f8caf5a7f"
      },
      "execution_count": null,
      "outputs": [
        {
          "output_type": "display_data",
          "data": {
            "text/plain": [
              "VBox(children=(HTML(value='<center> <img\\nsrc=https://www.kaggle.com/static/images/site-logo.png\\nalt=\\'Kaggle…"
            ],
            "application/vnd.jupyter.widget-view+json": {
              "version_major": 2,
              "version_minor": 0,
              "model_id": "ab30d4c369764a1783f832bfb5b7339e"
            }
          },
          "metadata": {}
        }
      ]
    },
    {
      "cell_type": "code",
      "source": [
        "aa_iv_2025_i_object_localization_path = kagglehub.competition_download('aa-iv-2025-i-object-localization')\n",
        "print('Data source import complete.')"
      ],
      "metadata": {
        "colab": {
          "base_uri": "https://localhost:8080/"
        },
        "id": "9PwAM6r3wEGo",
        "outputId": "55ea3b9b-ec5d-4298-e36c-c9ec50cace13"
      },
      "execution_count": null,
      "outputs": [
        {
          "output_type": "stream",
          "name": "stdout",
          "text": [
            "Data source import complete.\n"
          ]
        }
      ]
    },
    {
      "cell_type": "code",
      "execution_count": null,
      "metadata": {
        "colab": {
          "base_uri": "https://localhost:8080/"
        },
        "id": "GPLGgqnes8MN",
        "outputId": "2e450c3e-4240-4c8b-9bec-cd55c3edd4d5"
      },
      "outputs": [
        {
          "output_type": "stream",
          "name": "stdout",
          "text": [
            "Requirement already satisfied: typing in c:\\users\\manza\\anaconda3\\lib\\site-packages (3.7.4.3)\n"
          ]
        }
      ],
      "source": [
        "!pip install typing"
      ]
    },
    {
      "cell_type": "code",
      "source": [
        "import numpy as np\n",
        "import pandas as pd\n",
        "import os\n",
        "import torch\n",
        "import torch.nn as nn\n",
        "import torch.nn.functional as F\n",
        "import torchvision\n",
        "from torch.utils.data import Dataset, DataLoader\n",
        "from torchvision import transforms\n",
        "from torchsummary import summary\n",
        "import albumentations as A\n",
        "from sklearn.model_selection import train_test_split\n",
        "from efficientnet_pytorch import EfficientNet\n",
        "from torchvision.models import resnet50\n",
        "from tqdm import tqdm\n",
        "import cv2\n",
        "from PIL import Image\n",
        "import matplotlib.pyplot as plt\n",
        "import os.path as osp\n",
        "import typing as ty"
      ],
      "metadata": {
        "id": "xAitOjxdtAb3"
      },
      "execution_count": null,
      "outputs": []
    },
    {
      "cell_type": "code",
      "source": [
        "# Set device\n",
        "torch.manual_seed(32)\n",
        "device = 'cuda' if torch.cuda.is_available() else 'cpu'\n",
        "print(f'Using {device}')\n",
        "test = torch.ones((100, 100)).to(device)\n",
        "del test\n",
        "torch.cuda.empty_cache()"
      ],
      "metadata": {
        "colab": {
          "base_uri": "https://localhost:8080/"
        },
        "id": "Ns3cuCritDxU",
        "outputId": "b9bcaed0-7463-48cf-c11a-9e62db691722"
      },
      "execution_count": null,
      "outputs": [
        {
          "output_type": "stream",
          "name": "stdout",
          "text": [
            "Using cuda\n"
          ]
        }
      ]
    },
    {
      "cell_type": "markdown",
      "source": [
        "\n",
        "## Dataset and preprocessing"
      ],
      "metadata": {
        "id": "5p3MpJ19tKfm"
      }
    },
    {
      "cell_type": "code",
      "source": [
        "# Configuración de rutas y parámetros\n",
        "DATA_DIR = aa_iv_2025_i_object_localization_path\n",
        "WORK_DIR = '/kaggle/working'\n",
        "BATCH_SIZE = 16\n",
        "IMG_SIZE = (128, 200)  # (height, width)\n",
        "h_real, w_real = 720, 1280"
      ],
      "metadata": {
        "id": "oLtrPHDrtOQD"
      },
      "execution_count": null,
      "outputs": []
    },
    {
      "cell_type": "code",
      "source": [
        "# Cargar datos\n",
        "df = pd.read_csv(osp.join(DATA_DIR, \"train.csv\"))\n",
        "obj2id = {'f16':0, 'cougar':1, 'chinook':2, 'ah64':3, 'f15':4, 'seahawk':5}\n",
        "id2obj = {v:k for k,v in obj2id.items()}\n",
        "df[\"class_id\"] = df[\"class\"].map(obj2id)\n"
      ],
      "metadata": {
        "id": "DqFpFr90tLeu"
      },
      "execution_count": null,
      "outputs": []
    },
    {
      "cell_type": "code",
      "source": [
        "df"
      ],
      "metadata": {
        "colab": {
          "base_uri": "https://localhost:8080/",
          "height": 424
        },
        "id": "taOQf2xwfIez",
        "outputId": "856d40ad-3875-4861-b5e3-9cbe1e9a6a04"
      },
      "execution_count": null,
      "outputs": [
        {
          "output_type": "execute_result",
          "data": {
            "text/plain": [
              "             filename    class  xmin  ymin  xmax  ymax  object_count  class_id\n",
              "0    image_00373.jpeg   cougar   506   303   628   414             1         1\n",
              "1    image_00065.jpeg  seahawk   381    35   856   273             1         5\n",
              "2    image_00111.jpeg   cougar   467   136   830   302             1         1\n",
              "3    image_00112.jpeg   cougar   447   122   799   287             1         1\n",
              "4    image_00113.jpeg   cougar   418   141   631   291             1         1\n",
              "..                ...      ...   ...   ...   ...   ...           ...       ...\n",
              "184  image_00107.jpeg   cougar   439   181   837   319             1         1\n",
              "185  image_00210.jpeg  chinook   631   208  1064   402             1         2\n",
              "186  image_00002.jpeg      f16   140   268   912   518             1         0\n",
              "187  image_00044.jpeg      f16   764   311  1042   437             1         0\n",
              "188  image_00350.jpeg  seahawk   462   392   806   523             1         5\n",
              "\n",
              "[189 rows x 8 columns]"
            ],
            "text/html": [
              "<div>\n",
              "<style scoped>\n",
              "    .dataframe tbody tr th:only-of-type {\n",
              "        vertical-align: middle;\n",
              "    }\n",
              "\n",
              "    .dataframe tbody tr th {\n",
              "        vertical-align: top;\n",
              "    }\n",
              "\n",
              "    .dataframe thead th {\n",
              "        text-align: right;\n",
              "    }\n",
              "</style>\n",
              "<table border=\"1\" class=\"dataframe\">\n",
              "  <thead>\n",
              "    <tr style=\"text-align: right;\">\n",
              "      <th></th>\n",
              "      <th>filename</th>\n",
              "      <th>class</th>\n",
              "      <th>xmin</th>\n",
              "      <th>ymin</th>\n",
              "      <th>xmax</th>\n",
              "      <th>ymax</th>\n",
              "      <th>object_count</th>\n",
              "      <th>class_id</th>\n",
              "    </tr>\n",
              "  </thead>\n",
              "  <tbody>\n",
              "    <tr>\n",
              "      <th>0</th>\n",
              "      <td>image_00373.jpeg</td>\n",
              "      <td>cougar</td>\n",
              "      <td>506</td>\n",
              "      <td>303</td>\n",
              "      <td>628</td>\n",
              "      <td>414</td>\n",
              "      <td>1</td>\n",
              "      <td>1</td>\n",
              "    </tr>\n",
              "    <tr>\n",
              "      <th>1</th>\n",
              "      <td>image_00065.jpeg</td>\n",
              "      <td>seahawk</td>\n",
              "      <td>381</td>\n",
              "      <td>35</td>\n",
              "      <td>856</td>\n",
              "      <td>273</td>\n",
              "      <td>1</td>\n",
              "      <td>5</td>\n",
              "    </tr>\n",
              "    <tr>\n",
              "      <th>2</th>\n",
              "      <td>image_00111.jpeg</td>\n",
              "      <td>cougar</td>\n",
              "      <td>467</td>\n",
              "      <td>136</td>\n",
              "      <td>830</td>\n",
              "      <td>302</td>\n",
              "      <td>1</td>\n",
              "      <td>1</td>\n",
              "    </tr>\n",
              "    <tr>\n",
              "      <th>3</th>\n",
              "      <td>image_00112.jpeg</td>\n",
              "      <td>cougar</td>\n",
              "      <td>447</td>\n",
              "      <td>122</td>\n",
              "      <td>799</td>\n",
              "      <td>287</td>\n",
              "      <td>1</td>\n",
              "      <td>1</td>\n",
              "    </tr>\n",
              "    <tr>\n",
              "      <th>4</th>\n",
              "      <td>image_00113.jpeg</td>\n",
              "      <td>cougar</td>\n",
              "      <td>418</td>\n",
              "      <td>141</td>\n",
              "      <td>631</td>\n",
              "      <td>291</td>\n",
              "      <td>1</td>\n",
              "      <td>1</td>\n",
              "    </tr>\n",
              "    <tr>\n",
              "      <th>...</th>\n",
              "      <td>...</td>\n",
              "      <td>...</td>\n",
              "      <td>...</td>\n",
              "      <td>...</td>\n",
              "      <td>...</td>\n",
              "      <td>...</td>\n",
              "      <td>...</td>\n",
              "      <td>...</td>\n",
              "    </tr>\n",
              "    <tr>\n",
              "      <th>184</th>\n",
              "      <td>image_00107.jpeg</td>\n",
              "      <td>cougar</td>\n",
              "      <td>439</td>\n",
              "      <td>181</td>\n",
              "      <td>837</td>\n",
              "      <td>319</td>\n",
              "      <td>1</td>\n",
              "      <td>1</td>\n",
              "    </tr>\n",
              "    <tr>\n",
              "      <th>185</th>\n",
              "      <td>image_00210.jpeg</td>\n",
              "      <td>chinook</td>\n",
              "      <td>631</td>\n",
              "      <td>208</td>\n",
              "      <td>1064</td>\n",
              "      <td>402</td>\n",
              "      <td>1</td>\n",
              "      <td>2</td>\n",
              "    </tr>\n",
              "    <tr>\n",
              "      <th>186</th>\n",
              "      <td>image_00002.jpeg</td>\n",
              "      <td>f16</td>\n",
              "      <td>140</td>\n",
              "      <td>268</td>\n",
              "      <td>912</td>\n",
              "      <td>518</td>\n",
              "      <td>1</td>\n",
              "      <td>0</td>\n",
              "    </tr>\n",
              "    <tr>\n",
              "      <th>187</th>\n",
              "      <td>image_00044.jpeg</td>\n",
              "      <td>f16</td>\n",
              "      <td>764</td>\n",
              "      <td>311</td>\n",
              "      <td>1042</td>\n",
              "      <td>437</td>\n",
              "      <td>1</td>\n",
              "      <td>0</td>\n",
              "    </tr>\n",
              "    <tr>\n",
              "      <th>188</th>\n",
              "      <td>image_00350.jpeg</td>\n",
              "      <td>seahawk</td>\n",
              "      <td>462</td>\n",
              "      <td>392</td>\n",
              "      <td>806</td>\n",
              "      <td>523</td>\n",
              "      <td>1</td>\n",
              "      <td>5</td>\n",
              "    </tr>\n",
              "  </tbody>\n",
              "</table>\n",
              "<p>189 rows × 8 columns</p>\n",
              "</div>"
            ]
          },
          "metadata": {},
          "execution_count": 61
        }
      ]
    },
    {
      "cell_type": "code",
      "source": [
        "# Normalizar bboxes\n",
        "df[[\"ymin\", \"ymax\"]] = df[[\"ymin\", \"ymax\"]].div(h_real, axis=0)\n",
        "df[[\"xmin\", \"xmax\"]] = df[[\"xmin\", \"xmax\"]].div(w_real, axis=0)\n",
        "\n",
        "# Split dataset\n",
        "train_df, val_df = train_test_split(df, stratify=df['class_id'], test_size=0.25, random_state=42)\n"
      ],
      "metadata": {
        "id": "5ipbItKEtXYl"
      },
      "execution_count": null,
      "outputs": []
    },
    {
      "cell_type": "code",
      "source": [
        "def collate_fn(batch):\n",
        "    batch = [item for item in batch if item is not None]  # Filtrar None\n",
        "    return torch.utils.data.dataloader.default_collate(batch)"
      ],
      "metadata": {
        "id": "QQkskSLpvNkL"
      },
      "execution_count": null,
      "outputs": []
    },
    {
      "cell_type": "markdown",
      "source": [
        "## Custom CNN Backbone"
      ],
      "metadata": {
        "id": "zPv5R80xtZLo"
      }
    },
    {
      "cell_type": "code",
      "source": [
        "class CustomBackbone(nn.Module):\n",
        "    def __init__(self):\n",
        "        super().__init__()\n",
        "        self.features = nn.Sequential(\n",
        "            nn.Conv2d(3, 64, kernel_size=3, padding=1),\n",
        "            nn.ReLU(inplace=True),\n",
        "            nn.MaxPool2d(kernel_size=2, stride=2),\n",
        "\n",
        "            nn.Conv2d(64, 128, kernel_size=3, padding=1),\n",
        "            nn.ReLU(inplace=True),\n",
        "            nn.MaxPool2d(kernel_size=2, stride=2),\n",
        "\n",
        "            nn.Conv2d(128, 256, kernel_size=3, padding=1),\n",
        "            nn.ReLU(inplace=True),\n",
        "            nn.Conv2d(256, 256, kernel_size=3, padding=1),\n",
        "            nn.ReLU(inplace=True),\n",
        "            nn.AdaptiveAvgPool2d((7, 7)),\n",
        "            nn.Flatten()\n",
        "        )\n",
        "\n",
        "    def forward(self, x):\n",
        "        return self.features(x)"
      ],
      "metadata": {
        "id": "tXGW-opQtaZj"
      },
      "execution_count": null,
      "outputs": []
    },
    {
      "cell_type": "markdown",
      "source": [
        "## Model with multiple backbone options"
      ],
      "metadata": {
        "id": "HZ90L-q9tfm0"
      }
    },
    {
      "cell_type": "code",
      "source": [
        "class MultiTaskModel(nn.Module):\n",
        "    def __init__(self, backbone_type='custom', n_classes=6):\n",
        "        super().__init__()\n",
        "\n",
        "        # Selección de backbone\n",
        "        if backbone_type == 'resnet':\n",
        "            self.backbone = resnet50(pretrained=True)\n",
        "            self.backbone = nn.Sequential(*list(self.backbone.children())[:-2])\n",
        "            self.pool = nn.AdaptiveAvgPool2d((1,1))\n",
        "            out_features = 2048\n",
        "        elif backbone_type == 'efficientnet':\n",
        "            # Cargar modelo preentrenado y eliminar la capa FC\n",
        "            self.backbone = EfficientNet.from_pretrained('efficientnet-b0')\n",
        "            # Extraer características hasta antes de la capa FC\n",
        "            self.backbone._avg_pooling = nn.Identity()  # Deshabilitar avg pooling original\n",
        "            self.backbone._fc = nn.Identity()  # Deshabilitar FC original\n",
        "            self.pool = nn.AdaptiveAvgPool2d((1,1))  # Nuevo pooling\n",
        "            out_features = 1280\n",
        "        else:  # Custom\n",
        "            self.backbone = CustomBackbone()\n",
        "            out_features = 256 * 7 * 7\n",
        "\n",
        "        # Cabezas\n",
        "        self.cls_head = nn.Sequential(\n",
        "            nn.Linear(out_features, 1024),\n",
        "            nn.ReLU(),\n",
        "            nn.Dropout(0.3),\n",
        "            nn.Linear(1024, 512),\n",
        "            nn.ReLU(),\n",
        "            nn.Linear(512, n_classes)\n",
        "        )\n",
        "\n",
        "        self.reg_head = nn.Sequential(\n",
        "            nn.Linear(out_features, 1024),\n",
        "            nn.ReLU(),\n",
        "            nn.Dropout(0.3),\n",
        "            nn.Linear(1024, 512),\n",
        "            nn.ReLU(),\n",
        "            nn.Linear(512, 4),\n",
        "            nn.Sigmoid()\n",
        "        )\n",
        "\n",
        "    def forward(self, x):\n",
        "\n",
        "        # features = self.backbone(x)\n",
        "        # # Check if the features have less than 4 dimensions (batch, channel, height, width)\n",
        "        # if features.dim() < 4:\n",
        "        #     # Add a dimension for height and width\n",
        "        #     features = features.unsqueeze(-1).unsqueeze(-1)\n",
        "\n",
        "        # # Apply AdaptiveAvgPool2d before flattening for all backbone types if self.pool exists\n",
        "        # if hasattr(self, 'pool'):\n",
        "        #     features = self.pool(features)\n",
        "\n",
        "        # features = features.view(features.size(0), -1)\n",
        "        if isinstance(self.backbone, EfficientNet):\n",
        "            # Extraer características y aplicar pooling\n",
        "            features = self.backbone.extract_features(x)\n",
        "            features = self.pool(features)\n",
        "            features = features.view(features.size(0), -1)\n",
        "        else:\n",
        "            features = self.backbone(x)\n",
        "            if hasattr(self, 'pool'):\n",
        "                features = self.pool(features)\n",
        "            # if features.dim() < 4:\n",
        "            #   # Add a dimension for height and width\n",
        "            #   features = features.unsqueeze(-1).unsqueeze(-1)\n",
        "            features = features.view(features.size(0), -1)\n",
        "\n",
        "\n",
        "        return {\n",
        "            'class_id': self.cls_head(features),\n",
        "            'bbox': self.reg_head(features)\n",
        "        }"
      ],
      "metadata": {
        "id": "I58F0RKytdDw"
      },
      "execution_count": null,
      "outputs": []
    },
    {
      "cell_type": "markdown",
      "source": [
        "## Data Augmentation Strategies"
      ],
      "metadata": {
        "id": "6FY_3M5VvJzv"
      }
    },
    {
      "cell_type": "code",
      "source": [
        "\n",
        "# Estrategia 1 - Transformaciones básicas\n",
        "aug_strategy1 = A.Compose([\n",
        "    A.HorizontalFlip(p=0.5),\n",
        "    A.Rotate(limit=30, p=0.5),\n",
        "    A.RandomBrightnessContrast(p=0.2),\n",
        "], bbox_params=A.BboxParams(format='albumentations',label_fields=['class_labels'],  min_area=0.01))\n",
        "\n"
      ],
      "metadata": {
        "id": "TbGZA1H1tsDN"
      },
      "execution_count": null,
      "outputs": []
    },
    {
      "cell_type": "code",
      "source": [
        "# Estrategia 2 - Transformaciones más agresivas\n",
        "aug_strategy2 = A.Compose([\n",
        "    A.CoarseDropout(max_holes=8, max_height=32, max_width=32, p=0.5), # Use CoarseDropout instead of Cutout\n",
        "    A.GaussNoise(var_limit=(10.0, 50.0), p=0.3),\n",
        "    A.HueSaturationValue(hue_shift_limit=20, sat_shift_limit=30, val_shift_limit=20, p=0.3),\n",
        "    A.RandomShadow(p=0.2),\n",
        "], bbox_params=A.BboxParams(format='albumentations',label_fields=['class_labels'],  min_area=0.01))"
      ],
      "metadata": {
        "colab": {
          "base_uri": "https://localhost:8080/"
        },
        "id": "fNI4-W4RUeIM",
        "outputId": "5df778df-f942-4f3b-9ea0-71640f082c43"
      },
      "execution_count": null,
      "outputs": [
        {
          "output_type": "stream",
          "name": "stderr",
          "text": [
            "C:\\Users\\manza\\AppData\\Local\\Temp\\ipykernel_7004\\302224986.py:3: UserWarning: Argument(s) 'max_holes, max_height, max_width' are not valid for transform CoarseDropout\n",
            "  A.CoarseDropout(max_holes=8, max_height=32, max_width=32, p=0.5), # Use CoarseDropout instead of Cutout\n",
            "C:\\Users\\manza\\AppData\\Local\\Temp\\ipykernel_7004\\302224986.py:4: UserWarning: Argument(s) 'var_limit' are not valid for transform GaussNoise\n",
            "  A.GaussNoise(var_limit=(10.0, 50.0), p=0.3),\n"
          ]
        }
      ]
    },
    {
      "cell_type": "markdown",
      "source": [
        "## Dataset and Transforms"
      ],
      "metadata": {
        "id": "Zs7krCaWvIQh"
      }
    },
    {
      "cell_type": "code",
      "source": [
        "class MilitaryDataset(Dataset):\n",
        "    def __init__(self, df, root_dir, transform=None, output_size=IMG_SIZE):\n",
        "        self.df = df\n",
        "        self.root_dir = root_dir\n",
        "        self.transform = transform\n",
        "        self.output_size = output_size\n",
        "        self.has_annotations = 'xmin' in df.columns\n",
        "\n",
        "    def __len__(self):\n",
        "        return len(self.df)\n",
        "\n",
        "    def __getitem__(self, idx):\n",
        "        row = self.df.iloc[idx]\n",
        "        img_path = os.path.join(self.root_dir, row['filename'])\n",
        "        image = cv2.imread(img_path)\n",
        "        image = cv2.cvtColor(image, cv2.COLOR_BGR2RGB)\n",
        "\n",
        "        if self.output_size:\n",
        "            image = cv2.resize(image, (self.output_size[1], self.output_size[0]))\n",
        "\n",
        "        bbox = np.zeros(4, dtype=np.float32)\n",
        "        class_id = -1\n",
        "        if self.has_annotations:  # Solo si existen anotaciones\n",
        "            bbox = row[['xmin', 'ymin', 'xmax', 'ymax']].values.astype(np.float32)\n",
        "            class_id = row['class_id']\n",
        "\n",
        "\n",
        "        # bbox = row[['xmin', 'ymin', 'xmax', 'ymax']].values.astype(np.float32)\n",
        "        # class_id = row['class_id']\n",
        "\n",
        "        if self.transform:\n",
        "            transformed = self.transform(image=image, bboxes=[bbox], class_labels=[class_id])\n",
        "            image = transformed['image']\n",
        "\n",
        "            if len(transformed['bboxes']) == 0:\n",
        "                return None  # Omitir este ejemplo\n",
        "            # bbox = transformed['bboxes'][0]\n",
        "            if transformed['bboxes']:\n",
        "                bbox = transformed['bboxes'][0]\n",
        "                # if transformed['class_labels']:\n",
        "                #   class_id = transformed['class_labels'][0]\n",
        "            else:\n",
        "                # Handle empty 'bboxes' - you might want to skip this sample or assign a default bbox\n",
        "                print(f\"Warning: Empty bboxes for image {img_path}. Skipping this sample.\")\n",
        "                if self.output_size:\n",
        "                    bbox = bbox * [self.output_size[1] / w_real, self.output_size[0] / h_real,\n",
        "                                   self.output_size[1] / w_real, self.output_size[0] / h_real]\n",
        "\n",
        "                # New Check if 'class_labels' is empty and use default class_id if necessary\n",
        "                if transformed['class_labels']:\n",
        "                    class_id = transformed['class_labels'][0]\n",
        "                else:\n",
        "                    print(f\"Warning: Empty class_labels for image {img_path}. Using default class_id: {class_id}\")\n",
        "                # end\n",
        "\n",
        "            class_id = transformed['class_labels'][0]\n",
        "\n",
        "        image = image.transpose(2, 0, 1).astype(np.float32) / 255.0\n",
        "        return {\n",
        "            'image': torch.tensor(image, dtype=torch.float),\n",
        "            'bbox': torch.tensor(bbox, dtype=torch.float),\n",
        "            'class_id': torch.tensor(class_id, dtype=torch.long)\n",
        "        }\n"
      ],
      "metadata": {
        "id": "OZ9RzkDytvgv"
      },
      "execution_count": null,
      "outputs": []
    },
    {
      "cell_type": "markdown",
      "source": [
        "## Training Loop\n"
      ],
      "metadata": {
        "id": "lWWpDuYWu9Yq"
      }
    },
    {
      "cell_type": "code",
      "source": [
        "def train_model(backbone_type, aug_strategy, num_epochs=10):\n",
        "    # Datasets\n",
        "    train_dataset = MilitaryDataset(\n",
        "        train_df,\n",
        "        osp.join(DATA_DIR, \"images/images\"),\n",
        "        transform=aug_strategy,\n",
        "        output_size=IMG_SIZE\n",
        "    )\n",
        "\n",
        "    val_dataset = MilitaryDataset(\n",
        "        val_df,\n",
        "        osp.join(DATA_DIR, \"images/images\"),\n",
        "        output_size=IMG_SIZE\n",
        "    )\n",
        "\n",
        "    # DataLoaders\n",
        "    train_loader = DataLoader(train_dataset, batch_size=BATCH_SIZE, shuffle=True, num_workers=0, collate_fn=collate_fn)\n",
        "    val_loader = DataLoader(val_dataset, batch_size=BATCH_SIZE, num_workers=0)\n",
        "\n",
        "    # Model\n",
        "    model = MultiTaskModel(backbone_type=backbone_type).to(device)\n",
        "    optimizer = torch.optim.Adam(model.parameters(), lr=1e-4)\n",
        "    cls_criterion = nn.CrossEntropyLoss()\n",
        "    reg_criterion = nn.SmoothL1Loss()\n",
        "\n",
        "    best_iou = 0.0\n",
        "    for epoch in range(num_epochs):\n",
        "        model.train()\n",
        "        total_loss = 0.0\n",
        "\n",
        "        for batch in tqdm(train_loader):\n",
        "            images = batch['image'].to(device)\n",
        "            bboxes = batch['bbox'].to(device)\n",
        "            classes = batch['class_id'].to(device)\n",
        "\n",
        "            optimizer.zero_grad()\n",
        "            outputs = model(images)\n",
        "\n",
        "            cls_loss = cls_criterion(outputs['class_id'], classes)\n",
        "            reg_loss = reg_criterion(outputs['bbox'], bboxes)\n",
        "            loss = cls_loss + reg_loss\n",
        "\n",
        "            loss.backward()\n",
        "            optimizer.step()\n",
        "            total_loss += loss.item()\n",
        "\n",
        "        # Validation\n",
        "        model.eval()\n",
        "        val_cls_correct = 0\n",
        "        val_iou = 0.0\n",
        "        with torch.no_grad():\n",
        "            for batch in val_loader:\n",
        "                images = batch['image'].to(device)\n",
        "                bboxes = batch['bbox'].to(device)\n",
        "                classes = batch['class_id'].to(device)\n",
        "\n",
        "                outputs = model(images)\n",
        "\n",
        "                # Classification\n",
        "                pred_classes = outputs['class_id'].argmax(dim=1)\n",
        "                val_cls_correct += (pred_classes == classes).sum().item()\n",
        "\n",
        "                # Regression (IoU)\n",
        "                pred_boxes = outputs['bbox'].cpu().numpy()\n",
        "                true_boxes = bboxes.cpu().numpy()\n",
        "                iou = calculate_batch_iou(pred_boxes, true_boxes)\n",
        "                val_iou += iou * images.size(0)\n",
        "\n",
        "        avg_loss = total_loss / len(train_loader)\n",
        "        val_acc = val_cls_correct / len(val_dataset)\n",
        "        val_iou = val_iou / len(val_dataset)\n",
        "\n",
        "        print(f\"Epoch {epoch+1}/{num_epochs}\")\n",
        "        print(f\"Train Loss: {avg_loss:.4f} | Val Acc: {val_acc:.4f} | Val IoU: {val_iou:.4f}\")\n",
        "\n",
        "        if val_iou > best_iou:\n",
        "            best_iou = val_iou\n",
        "            torch.save(model.state_dict(), f\"best_model_{backbone_type}.pth\")\n",
        "\n",
        "    return model"
      ],
      "metadata": {
        "id": "N_EpI7PTt5nF"
      },
      "execution_count": null,
      "outputs": []
    },
    {
      "cell_type": "markdown",
      "source": [
        "## Evaluation Metrics"
      ],
      "metadata": {
        "id": "ThCUqg2mvFb8"
      }
    },
    {
      "cell_type": "code",
      "source": [
        "def calculate_iou(box1, box2):\n",
        "    x1 = max(box1[0], box2[0])\n",
        "    y1 = max(box1[1], box2[1])\n",
        "    x2 = min(box1[2], box2[2])\n",
        "    y2 = min(box1[3], box2[3])\n",
        "\n",
        "    inter_area = max(0, x2 - x1) * max(0, y2 - y1)\n",
        "    area1 = (box1[2] - box1[0]) * (box1[3] - box1[1])\n",
        "    area2 = (box2[2] - box2[0]) * (box2[3] - box2[1])\n",
        "\n",
        "    return inter_area / (area1 + area2 - inter_area + 1e-6)\n",
        "\n",
        "def calculate_batch_iou(pred_boxes, true_boxes):\n",
        "    ious = []\n",
        "    for pred, true in zip(pred_boxes, true_boxes):\n",
        "        pred = pred * [w_real, h_real, w_real, h_real]\n",
        "        true = true * [w_real, h_real, w_real, h_real]\n",
        "        ious.append(calculate_iou(pred, true))\n",
        "    return np.mean(ious)"
      ],
      "metadata": {
        "id": "uoLx0zaGt97x"
      },
      "execution_count": null,
      "outputs": []
    },
    {
      "cell_type": "code",
      "source": [
        "## Entrenamiento Comparativo\n",
        "backbones = ['custom', 'resnet', 'efficientnet']\n",
        "# backbones = ['efficientnet']\n",
        "aug_strategies = [aug_strategy1, aug_strategy2]\n",
        "#aug_strategies = [aug_strategy2]\n",
        "\n",
        "for backbone in backbones:\n",
        "    for strategy in aug_strategies:\n",
        "        print(f\"\\nTraining with {backbone} and augmentation strategy:{strategy} \")\n",
        "        model = train_model(backbone_type=backbone, aug_strategy=strategy, num_epochs=100)"
      ],
      "metadata": {
        "colab": {
          "base_uri": "https://localhost:8080/",
          "height": 1000
        },
        "id": "LRWm9IkEuA8r",
        "outputId": "629dee03-aafd-4914-cacd-dceb954e3b14"
      },
      "execution_count": null,
      "outputs": [
        {
          "output_type": "stream",
          "name": "stdout",
          "text": [
            "\n",
            "Training with custom and augmentation strategy:Compose([\n",
            "  HorizontalFlip(p=0.5),\n",
            "  Rotate(p=0.5, limit=(-30, 30), interpolation=1, border_mode=0, fill=0.0, fill_mask=0.0, rotate_method='largest_box', crop_border=False, mask_interpolation=0),\n",
            "  RandomBrightnessContrast(p=0.2, brightness_limit=(-0.2, 0.2), contrast_limit=(-0.2, 0.2), brightness_by_max=True, ensure_safe_range=False),\n",
            "], p=1.0, bbox_params={'format': 'albumentations', 'label_fields': ['class_labels'], 'min_area': 0.01, 'min_visibility': 0.0, 'min_width': 0.0, 'min_height': 0.0, 'check_each_transform': True, 'clip': False, 'max_accept_ratio': None}, keypoint_params=None, additional_targets={}, is_check_shapes=True) \n"
          ]
        },
        {
          "output_type": "stream",
          "name": "stderr",
          "text": [
            "  0%|                                                                                            | 0/8 [00:05<?, ?it/s]\n"
          ]
        },
        {
          "output_type": "error",
          "ename": "RuntimeError",
          "evalue": "CUDA error: CUBLAS_STATUS_EXECUTION_FAILED when calling cublasLtMatmul with transpose_mat1 1 transpose_mat2 0 m 512 n 20 k 1024 mat1_ld 1024 mat2_ld 1024 result_ld 512 abcType 0 computeType 68 scaleType 0",
          "traceback": [
            "\u001b[1;31m---------------------------------------------------------------------------\u001b[0m",
            "\u001b[1;31mRuntimeError\u001b[0m                              Traceback (most recent call last)",
            "Cell \u001b[1;32mIn[58], line 10\u001b[0m\n\u001b[0;32m      8\u001b[0m \u001b[38;5;28;01mfor\u001b[39;00m strategy \u001b[38;5;129;01min\u001b[39;00m aug_strategies:\n\u001b[0;32m      9\u001b[0m     \u001b[38;5;28mprint\u001b[39m(\u001b[38;5;124mf\u001b[39m\u001b[38;5;124m\"\u001b[39m\u001b[38;5;130;01m\\n\u001b[39;00m\u001b[38;5;124mTraining with \u001b[39m\u001b[38;5;132;01m{\u001b[39;00mbackbone\u001b[38;5;132;01m}\u001b[39;00m\u001b[38;5;124m and augmentation strategy:\u001b[39m\u001b[38;5;132;01m{\u001b[39;00mstrategy\u001b[38;5;132;01m}\u001b[39;00m\u001b[38;5;124m \u001b[39m\u001b[38;5;124m\"\u001b[39m)\n\u001b[1;32m---> 10\u001b[0m     model \u001b[38;5;241m=\u001b[39m train_model(backbone_type\u001b[38;5;241m=\u001b[39mbackbone, aug_strategy\u001b[38;5;241m=\u001b[39mstrategy, num_epochs\u001b[38;5;241m=\u001b[39m\u001b[38;5;241m100\u001b[39m)\n",
            "Cell \u001b[1;32mIn[56], line 37\u001b[0m, in \u001b[0;36mtrain_model\u001b[1;34m(backbone_type, aug_strategy, num_epochs)\u001b[0m\n\u001b[0;32m     34\u001b[0m classes \u001b[38;5;241m=\u001b[39m batch[\u001b[38;5;124m'\u001b[39m\u001b[38;5;124mclass_id\u001b[39m\u001b[38;5;124m'\u001b[39m]\u001b[38;5;241m.\u001b[39mto(device)\n\u001b[0;32m     36\u001b[0m optimizer\u001b[38;5;241m.\u001b[39mzero_grad()\n\u001b[1;32m---> 37\u001b[0m outputs \u001b[38;5;241m=\u001b[39m model(images)\n\u001b[0;32m     39\u001b[0m cls_loss \u001b[38;5;241m=\u001b[39m cls_criterion(outputs[\u001b[38;5;124m'\u001b[39m\u001b[38;5;124mclass_id\u001b[39m\u001b[38;5;124m'\u001b[39m], classes)\n\u001b[0;32m     40\u001b[0m reg_loss \u001b[38;5;241m=\u001b[39m reg_criterion(outputs[\u001b[38;5;124m'\u001b[39m\u001b[38;5;124mbbox\u001b[39m\u001b[38;5;124m'\u001b[39m], bboxes)\n",
            "File \u001b[1;32m~\\anaconda3\\Lib\\site-packages\\torch\\nn\\modules\\module.py:1736\u001b[0m, in \u001b[0;36mModule._wrapped_call_impl\u001b[1;34m(self, *args, **kwargs)\u001b[0m\n\u001b[0;32m   1734\u001b[0m     \u001b[38;5;28;01mreturn\u001b[39;00m \u001b[38;5;28mself\u001b[39m\u001b[38;5;241m.\u001b[39m_compiled_call_impl(\u001b[38;5;241m*\u001b[39margs, \u001b[38;5;241m*\u001b[39m\u001b[38;5;241m*\u001b[39mkwargs)  \u001b[38;5;66;03m# type: ignore[misc]\u001b[39;00m\n\u001b[0;32m   1735\u001b[0m \u001b[38;5;28;01melse\u001b[39;00m:\n\u001b[1;32m-> 1736\u001b[0m     \u001b[38;5;28;01mreturn\u001b[39;00m \u001b[38;5;28mself\u001b[39m\u001b[38;5;241m.\u001b[39m_call_impl(\u001b[38;5;241m*\u001b[39margs, \u001b[38;5;241m*\u001b[39m\u001b[38;5;241m*\u001b[39mkwargs)\n",
            "File \u001b[1;32m~\\anaconda3\\Lib\\site-packages\\torch\\nn\\modules\\module.py:1747\u001b[0m, in \u001b[0;36mModule._call_impl\u001b[1;34m(self, *args, **kwargs)\u001b[0m\n\u001b[0;32m   1742\u001b[0m \u001b[38;5;66;03m# If we don't have any hooks, we want to skip the rest of the logic in\u001b[39;00m\n\u001b[0;32m   1743\u001b[0m \u001b[38;5;66;03m# this function, and just call forward.\u001b[39;00m\n\u001b[0;32m   1744\u001b[0m \u001b[38;5;28;01mif\u001b[39;00m \u001b[38;5;129;01mnot\u001b[39;00m (\u001b[38;5;28mself\u001b[39m\u001b[38;5;241m.\u001b[39m_backward_hooks \u001b[38;5;129;01mor\u001b[39;00m \u001b[38;5;28mself\u001b[39m\u001b[38;5;241m.\u001b[39m_backward_pre_hooks \u001b[38;5;129;01mor\u001b[39;00m \u001b[38;5;28mself\u001b[39m\u001b[38;5;241m.\u001b[39m_forward_hooks \u001b[38;5;129;01mor\u001b[39;00m \u001b[38;5;28mself\u001b[39m\u001b[38;5;241m.\u001b[39m_forward_pre_hooks\n\u001b[0;32m   1745\u001b[0m         \u001b[38;5;129;01mor\u001b[39;00m _global_backward_pre_hooks \u001b[38;5;129;01mor\u001b[39;00m _global_backward_hooks\n\u001b[0;32m   1746\u001b[0m         \u001b[38;5;129;01mor\u001b[39;00m _global_forward_hooks \u001b[38;5;129;01mor\u001b[39;00m _global_forward_pre_hooks):\n\u001b[1;32m-> 1747\u001b[0m     \u001b[38;5;28;01mreturn\u001b[39;00m forward_call(\u001b[38;5;241m*\u001b[39margs, \u001b[38;5;241m*\u001b[39m\u001b[38;5;241m*\u001b[39mkwargs)\n\u001b[0;32m   1749\u001b[0m result \u001b[38;5;241m=\u001b[39m \u001b[38;5;28;01mNone\u001b[39;00m\n\u001b[0;32m   1750\u001b[0m called_always_called_hooks \u001b[38;5;241m=\u001b[39m \u001b[38;5;28mset\u001b[39m()\n",
            "Cell \u001b[1;32mIn[52], line 72\u001b[0m, in \u001b[0;36mMultiTaskModel.forward\u001b[1;34m(self, x)\u001b[0m\n\u001b[0;32m     65\u001b[0m     \u001b[38;5;66;03m# if features.dim() < 4:\u001b[39;00m\n\u001b[0;32m     66\u001b[0m     \u001b[38;5;66;03m#   # Add a dimension for height and width\u001b[39;00m\n\u001b[0;32m     67\u001b[0m     \u001b[38;5;66;03m#   features = features.unsqueeze(-1).unsqueeze(-1)\u001b[39;00m\n\u001b[0;32m     68\u001b[0m     features \u001b[38;5;241m=\u001b[39m features\u001b[38;5;241m.\u001b[39mview(features\u001b[38;5;241m.\u001b[39msize(\u001b[38;5;241m0\u001b[39m), \u001b[38;5;241m-\u001b[39m\u001b[38;5;241m1\u001b[39m)\n\u001b[0;32m     71\u001b[0m \u001b[38;5;28;01mreturn\u001b[39;00m {\n\u001b[1;32m---> 72\u001b[0m     \u001b[38;5;124m'\u001b[39m\u001b[38;5;124mclass_id\u001b[39m\u001b[38;5;124m'\u001b[39m: \u001b[38;5;28mself\u001b[39m\u001b[38;5;241m.\u001b[39mcls_head(features),\n\u001b[0;32m     73\u001b[0m     \u001b[38;5;124m'\u001b[39m\u001b[38;5;124mbbox\u001b[39m\u001b[38;5;124m'\u001b[39m: \u001b[38;5;28mself\u001b[39m\u001b[38;5;241m.\u001b[39mreg_head(features)\n\u001b[0;32m     74\u001b[0m }\n",
            "File \u001b[1;32m~\\anaconda3\\Lib\\site-packages\\torch\\nn\\modules\\module.py:1736\u001b[0m, in \u001b[0;36mModule._wrapped_call_impl\u001b[1;34m(self, *args, **kwargs)\u001b[0m\n\u001b[0;32m   1734\u001b[0m     \u001b[38;5;28;01mreturn\u001b[39;00m \u001b[38;5;28mself\u001b[39m\u001b[38;5;241m.\u001b[39m_compiled_call_impl(\u001b[38;5;241m*\u001b[39margs, \u001b[38;5;241m*\u001b[39m\u001b[38;5;241m*\u001b[39mkwargs)  \u001b[38;5;66;03m# type: ignore[misc]\u001b[39;00m\n\u001b[0;32m   1735\u001b[0m \u001b[38;5;28;01melse\u001b[39;00m:\n\u001b[1;32m-> 1736\u001b[0m     \u001b[38;5;28;01mreturn\u001b[39;00m \u001b[38;5;28mself\u001b[39m\u001b[38;5;241m.\u001b[39m_call_impl(\u001b[38;5;241m*\u001b[39margs, \u001b[38;5;241m*\u001b[39m\u001b[38;5;241m*\u001b[39mkwargs)\n",
            "File \u001b[1;32m~\\anaconda3\\Lib\\site-packages\\torch\\nn\\modules\\module.py:1747\u001b[0m, in \u001b[0;36mModule._call_impl\u001b[1;34m(self, *args, **kwargs)\u001b[0m\n\u001b[0;32m   1742\u001b[0m \u001b[38;5;66;03m# If we don't have any hooks, we want to skip the rest of the logic in\u001b[39;00m\n\u001b[0;32m   1743\u001b[0m \u001b[38;5;66;03m# this function, and just call forward.\u001b[39;00m\n\u001b[0;32m   1744\u001b[0m \u001b[38;5;28;01mif\u001b[39;00m \u001b[38;5;129;01mnot\u001b[39;00m (\u001b[38;5;28mself\u001b[39m\u001b[38;5;241m.\u001b[39m_backward_hooks \u001b[38;5;129;01mor\u001b[39;00m \u001b[38;5;28mself\u001b[39m\u001b[38;5;241m.\u001b[39m_backward_pre_hooks \u001b[38;5;129;01mor\u001b[39;00m \u001b[38;5;28mself\u001b[39m\u001b[38;5;241m.\u001b[39m_forward_hooks \u001b[38;5;129;01mor\u001b[39;00m \u001b[38;5;28mself\u001b[39m\u001b[38;5;241m.\u001b[39m_forward_pre_hooks\n\u001b[0;32m   1745\u001b[0m         \u001b[38;5;129;01mor\u001b[39;00m _global_backward_pre_hooks \u001b[38;5;129;01mor\u001b[39;00m _global_backward_hooks\n\u001b[0;32m   1746\u001b[0m         \u001b[38;5;129;01mor\u001b[39;00m _global_forward_hooks \u001b[38;5;129;01mor\u001b[39;00m _global_forward_pre_hooks):\n\u001b[1;32m-> 1747\u001b[0m     \u001b[38;5;28;01mreturn\u001b[39;00m forward_call(\u001b[38;5;241m*\u001b[39margs, \u001b[38;5;241m*\u001b[39m\u001b[38;5;241m*\u001b[39mkwargs)\n\u001b[0;32m   1749\u001b[0m result \u001b[38;5;241m=\u001b[39m \u001b[38;5;28;01mNone\u001b[39;00m\n\u001b[0;32m   1750\u001b[0m called_always_called_hooks \u001b[38;5;241m=\u001b[39m \u001b[38;5;28mset\u001b[39m()\n",
            "File \u001b[1;32m~\\anaconda3\\Lib\\site-packages\\torch\\nn\\modules\\container.py:250\u001b[0m, in \u001b[0;36mSequential.forward\u001b[1;34m(self, input)\u001b[0m\n\u001b[0;32m    248\u001b[0m \u001b[38;5;28;01mdef\u001b[39;00m \u001b[38;5;21mforward\u001b[39m(\u001b[38;5;28mself\u001b[39m, \u001b[38;5;28minput\u001b[39m):\n\u001b[0;32m    249\u001b[0m     \u001b[38;5;28;01mfor\u001b[39;00m module \u001b[38;5;129;01min\u001b[39;00m \u001b[38;5;28mself\u001b[39m:\n\u001b[1;32m--> 250\u001b[0m         \u001b[38;5;28minput\u001b[39m \u001b[38;5;241m=\u001b[39m module(\u001b[38;5;28minput\u001b[39m)\n\u001b[0;32m    251\u001b[0m     \u001b[38;5;28;01mreturn\u001b[39;00m \u001b[38;5;28minput\u001b[39m\n",
            "File \u001b[1;32m~\\anaconda3\\Lib\\site-packages\\torch\\nn\\modules\\module.py:1736\u001b[0m, in \u001b[0;36mModule._wrapped_call_impl\u001b[1;34m(self, *args, **kwargs)\u001b[0m\n\u001b[0;32m   1734\u001b[0m     \u001b[38;5;28;01mreturn\u001b[39;00m \u001b[38;5;28mself\u001b[39m\u001b[38;5;241m.\u001b[39m_compiled_call_impl(\u001b[38;5;241m*\u001b[39margs, \u001b[38;5;241m*\u001b[39m\u001b[38;5;241m*\u001b[39mkwargs)  \u001b[38;5;66;03m# type: ignore[misc]\u001b[39;00m\n\u001b[0;32m   1735\u001b[0m \u001b[38;5;28;01melse\u001b[39;00m:\n\u001b[1;32m-> 1736\u001b[0m     \u001b[38;5;28;01mreturn\u001b[39;00m \u001b[38;5;28mself\u001b[39m\u001b[38;5;241m.\u001b[39m_call_impl(\u001b[38;5;241m*\u001b[39margs, \u001b[38;5;241m*\u001b[39m\u001b[38;5;241m*\u001b[39mkwargs)\n",
            "File \u001b[1;32m~\\anaconda3\\Lib\\site-packages\\torch\\nn\\modules\\module.py:1747\u001b[0m, in \u001b[0;36mModule._call_impl\u001b[1;34m(self, *args, **kwargs)\u001b[0m\n\u001b[0;32m   1742\u001b[0m \u001b[38;5;66;03m# If we don't have any hooks, we want to skip the rest of the logic in\u001b[39;00m\n\u001b[0;32m   1743\u001b[0m \u001b[38;5;66;03m# this function, and just call forward.\u001b[39;00m\n\u001b[0;32m   1744\u001b[0m \u001b[38;5;28;01mif\u001b[39;00m \u001b[38;5;129;01mnot\u001b[39;00m (\u001b[38;5;28mself\u001b[39m\u001b[38;5;241m.\u001b[39m_backward_hooks \u001b[38;5;129;01mor\u001b[39;00m \u001b[38;5;28mself\u001b[39m\u001b[38;5;241m.\u001b[39m_backward_pre_hooks \u001b[38;5;129;01mor\u001b[39;00m \u001b[38;5;28mself\u001b[39m\u001b[38;5;241m.\u001b[39m_forward_hooks \u001b[38;5;129;01mor\u001b[39;00m \u001b[38;5;28mself\u001b[39m\u001b[38;5;241m.\u001b[39m_forward_pre_hooks\n\u001b[0;32m   1745\u001b[0m         \u001b[38;5;129;01mor\u001b[39;00m _global_backward_pre_hooks \u001b[38;5;129;01mor\u001b[39;00m _global_backward_hooks\n\u001b[0;32m   1746\u001b[0m         \u001b[38;5;129;01mor\u001b[39;00m _global_forward_hooks \u001b[38;5;129;01mor\u001b[39;00m _global_forward_pre_hooks):\n\u001b[1;32m-> 1747\u001b[0m     \u001b[38;5;28;01mreturn\u001b[39;00m forward_call(\u001b[38;5;241m*\u001b[39margs, \u001b[38;5;241m*\u001b[39m\u001b[38;5;241m*\u001b[39mkwargs)\n\u001b[0;32m   1749\u001b[0m result \u001b[38;5;241m=\u001b[39m \u001b[38;5;28;01mNone\u001b[39;00m\n\u001b[0;32m   1750\u001b[0m called_always_called_hooks \u001b[38;5;241m=\u001b[39m \u001b[38;5;28mset\u001b[39m()\n",
            "File \u001b[1;32m~\\anaconda3\\Lib\\site-packages\\torch\\nn\\modules\\linear.py:125\u001b[0m, in \u001b[0;36mLinear.forward\u001b[1;34m(self, input)\u001b[0m\n\u001b[0;32m    124\u001b[0m \u001b[38;5;28;01mdef\u001b[39;00m \u001b[38;5;21mforward\u001b[39m(\u001b[38;5;28mself\u001b[39m, \u001b[38;5;28minput\u001b[39m: Tensor) \u001b[38;5;241m-\u001b[39m\u001b[38;5;241m>\u001b[39m Tensor:\n\u001b[1;32m--> 125\u001b[0m     \u001b[38;5;28;01mreturn\u001b[39;00m F\u001b[38;5;241m.\u001b[39mlinear(\u001b[38;5;28minput\u001b[39m, \u001b[38;5;28mself\u001b[39m\u001b[38;5;241m.\u001b[39mweight, \u001b[38;5;28mself\u001b[39m\u001b[38;5;241m.\u001b[39mbias)\n",
            "\u001b[1;31mRuntimeError\u001b[0m: CUDA error: CUBLAS_STATUS_EXECUTION_FAILED when calling cublasLtMatmul with transpose_mat1 1 transpose_mat2 0 m 512 n 20 k 1024 mat1_ld 1024 mat2_ld 1024 result_ld 512 abcType 0 computeType 68 scaleType 0"
          ]
        }
      ]
    },
    {
      "cell_type": "code",
      "source": [
        "import torch\n",
        "print(torch.__version__)  # Debe ser ≥2.0.0\n",
        "print(torch.cuda.is_available())  # Debe ser True\n",
        "print(torch.cuda.get_device_name(0))  # Debe mostrar \"NVIDIA GeForce MX110\""
      ],
      "metadata": {
        "colab": {
          "base_uri": "https://localhost:8080/"
        },
        "id": "hwHAQIYZxgPg",
        "outputId": "84c1d685-9f41-49ee-cda8-9e8efe2f6996"
      },
      "execution_count": null,
      "outputs": [
        {
          "output_type": "stream",
          "name": "stdout",
          "text": [
            "2.5.1+cu121\n",
            "True\n",
            "NVIDIA GeForce MX110\n"
          ]
        }
      ]
    },
    {
      "cell_type": "markdown",
      "source": [
        "\n",
        "## Generación de Submission"
      ],
      "metadata": {
        "id": "vRj0G8LEuIpb"
      }
    },
    {
      "cell_type": "code",
      "source": [
        "def create_submission(model_path, backbone_type):\n",
        "    # Verificar existencia del modelo\n",
        "    if not os.path.exists(model_path):\n",
        "        print(f\"Modelo {model_path} no encontrado. Entrenando primero...\")\n",
        "        model = train_model(backbone_type, aug_strategy1)  # Usar estrategia default\n",
        "        torch.save(model.state_dict(), model_path)\n",
        "\n",
        "    # Cargar modelo\n",
        "    model = MultiTaskModel(backbone_type=backbone_type)\n",
        "\n",
        "    try:\n",
        "        model.load_state_dict(torch.load(model_path, map_location=device))\n",
        "    except Exception as e:\n",
        "        print(f\"Error cargando {model_path}: {str(e)}\")\n",
        "        return None\n",
        "\n",
        "    model.to(device).eval()\n",
        "\n",
        "    # Resto del código original...\n",
        "    test_df = pd.read_csv(osp.join(DATA_DIR, \"test.csv\"))\n",
        "    test_dataset = MilitaryDataset(\n",
        "        test_df,\n",
        "        osp.join(DATA_DIR, \"images/images\"),\n",
        "        output_size=IMG_SIZE\n",
        "    )\n",
        "    test_loader = DataLoader(test_dataset, batch_size=BATCH_SIZE, shuffle=False)\n",
        "\n",
        "    all_preds = []\n",
        "    global_idx = 0  # Contador de índices globales\n",
        "    with torch.no_grad():\n",
        "        for batch in test_loader:\n",
        "            images = batch['image'].to(device)\n",
        "            outputs = model(images)\n",
        "\n",
        "            pred_classes = outputs['class_id'].argmax(dim=1).cpu().numpy()\n",
        "            pred_boxes = outputs['bbox'].cpu().numpy()\n",
        "\n",
        "            # Obtener nombres de archivo usando el contador global\n",
        "            for cls, box in zip(pred_classes, pred_boxes):\n",
        "                filename = test_df.iloc[global_idx]['filename']\n",
        "                all_preds.append({\n",
        "                    'filename': filename,\n",
        "                    'class': id2obj[cls],\n",
        "                    'xmin': max(0, int(box[0] * w_real)),\n",
        "                    'ymin': max(0, int(box[1] * h_real)),\n",
        "                    'xmax': min(w_real, int(box[2] * w_real)),\n",
        "                    'ymax': min(h_real, int(box[3] * h_real))\n",
        "                })\n",
        "                global_idx += 1  # Incrementar índice global\n",
        "\n",
        "    submission_df = pd.DataFrame(all_preds)\n",
        "    submission_df = submission_df[['filename', 'class', 'xmin', 'ymin', 'xmax', 'ymax']]\n",
        "\n",
        "    # Validar formato final\n",
        "    assert set(submission_df.columns) == {'filename', 'class', 'xmin', 'ymin', 'xmax', 'ymax'}, \\\n",
        "        \"Columnas incorrectas en el submission\"\n",
        "\n",
        "    submission_df.to_csv(f'submission_{backbone_type}_v3.csv', index=False)\n",
        "    print(f\"Submission generado para {backbone_type} en submission_{backbone_type}_v3.csv\")\n",
        "    return submission_df\n",
        "\n",
        "# Asegurar que los modelos existen antes de generar submissions\n",
        "backbones = ['custom', 'resnet', 'efficientnet']\n",
        "for backbone in backbones:\n",
        "    model_path = f\"best_model_{backbone}.pth\"\n",
        "    if not os.path.exists(model_path):\n",
        "        print(f\"Entrenando modelo {backbone}...\")\n",
        "        model = train_model(backbone, aug_strategy1, num_epochs=15)\n",
        "        torch.save(model.state_dict(), model_path)\n",
        "\n",
        "    create_submission(model_path, backbone)"
      ],
      "metadata": {
        "colab": {
          "base_uri": "https://localhost:8080/"
        },
        "id": "MEoBlFjLuHJh",
        "outputId": "6a90c74e-9612-460f-b6d1-e59fbf12d00f"
      },
      "execution_count": null,
      "outputs": [
        {
          "output_type": "stream",
          "name": "stderr",
          "text": [
            "C:\\Users\\manza\\AppData\\Local\\Temp\\ipykernel_7004\\2239986760.py:12: FutureWarning: You are using `torch.load` with `weights_only=False` (the current default value), which uses the default pickle module implicitly. It is possible to construct malicious pickle data which will execute arbitrary code during unpickling (See https://github.com/pytorch/pytorch/blob/main/SECURITY.md#untrusted-models for more details). In a future release, the default value for `weights_only` will be flipped to `True`. This limits the functions that could be executed during unpickling. Arbitrary objects will no longer be allowed to be loaded via this mode unless they are explicitly allowlisted by the user via `torch.serialization.add_safe_globals`. We recommend you start setting `weights_only=True` for any use case where you don't have full control of the loaded file. Please open an issue on GitHub for any issues related to this experimental feature.\n",
            "  model.load_state_dict(torch.load(model_path, map_location=device))\n"
          ]
        },
        {
          "output_type": "stream",
          "name": "stdout",
          "text": [
            "Submission generado para custom en submission_custom_v3.csv\n"
          ]
        },
        {
          "output_type": "stream",
          "name": "stderr",
          "text": [
            "C:\\Users\\manza\\anaconda3\\Lib\\site-packages\\torchvision\\models\\_utils.py:208: UserWarning: The parameter 'pretrained' is deprecated since 0.13 and may be removed in the future, please use 'weights' instead.\n",
            "  warnings.warn(\n",
            "C:\\Users\\manza\\anaconda3\\Lib\\site-packages\\torchvision\\models\\_utils.py:223: UserWarning: Arguments other than a weight enum or `None` for 'weights' are deprecated since 0.13 and may be removed in the future. The current behavior is equivalent to passing `weights=ResNet50_Weights.IMAGENET1K_V1`. You can also use `weights=ResNet50_Weights.DEFAULT` to get the most up-to-date weights.\n",
            "  warnings.warn(msg)\n",
            "C:\\Users\\manza\\AppData\\Local\\Temp\\ipykernel_7004\\2239986760.py:12: FutureWarning: You are using `torch.load` with `weights_only=False` (the current default value), which uses the default pickle module implicitly. It is possible to construct malicious pickle data which will execute arbitrary code during unpickling (See https://github.com/pytorch/pytorch/blob/main/SECURITY.md#untrusted-models for more details). In a future release, the default value for `weights_only` will be flipped to `True`. This limits the functions that could be executed during unpickling. Arbitrary objects will no longer be allowed to be loaded via this mode unless they are explicitly allowlisted by the user via `torch.serialization.add_safe_globals`. We recommend you start setting `weights_only=True` for any use case where you don't have full control of the loaded file. Please open an issue on GitHub for any issues related to this experimental feature.\n",
            "  model.load_state_dict(torch.load(model_path, map_location=device))\n"
          ]
        },
        {
          "output_type": "stream",
          "name": "stdout",
          "text": [
            "Submission generado para resnet en submission_resnet_v3.csv\n",
            "Loaded pretrained weights for efficientnet-b0\n"
          ]
        },
        {
          "output_type": "stream",
          "name": "stderr",
          "text": [
            "C:\\Users\\manza\\AppData\\Local\\Temp\\ipykernel_7004\\2239986760.py:12: FutureWarning: You are using `torch.load` with `weights_only=False` (the current default value), which uses the default pickle module implicitly. It is possible to construct malicious pickle data which will execute arbitrary code during unpickling (See https://github.com/pytorch/pytorch/blob/main/SECURITY.md#untrusted-models for more details). In a future release, the default value for `weights_only` will be flipped to `True`. This limits the functions that could be executed during unpickling. Arbitrary objects will no longer be allowed to be loaded via this mode unless they are explicitly allowlisted by the user via `torch.serialization.add_safe_globals`. We recommend you start setting `weights_only=True` for any use case where you don't have full control of the loaded file. Please open an issue on GitHub for any issues related to this experimental feature.\n",
            "  model.load_state_dict(torch.load(model_path, map_location=device))\n"
          ]
        },
        {
          "output_type": "stream",
          "name": "stdout",
          "text": [
            "Submission generado para efficientnet en submission_efficientnet_v3.csv\n"
          ]
        }
      ]
    },
    {
      "cell_type": "code",
      "source": [
        "test_df = pd.read_csv(osp.join(DATA_DIR, \"test.csv\"))\n"
      ],
      "metadata": {
        "id": "yMVBqPUaTxac"
      },
      "execution_count": null,
      "outputs": []
    },
    {
      "cell_type": "code",
      "source": [
        "test_df = pd.read_csv(osp.join(DATA_DIR, \"test.csv\"))\n",
        "test_dataset = MilitaryDataset(\n",
        "        test_df,\n",
        "        osp.join(DATA_DIR, \"images/images\"),\n",
        "        output_size=IMG_SIZE\n",
        "    )\n",
        "test_loader = DataLoader(test_dataset, batch_size=BATCH_SIZE, shuffle=False)\n",
        "test_loader"
      ],
      "metadata": {
        "colab": {
          "base_uri": "https://localhost:8080/"
        },
        "id": "yBK-wAczybJ9",
        "outputId": "4a8f2c17-455f-4e29-af8d-a5439e44836e"
      },
      "execution_count": null,
      "outputs": [
        {
          "output_type": "execute_result",
          "data": {
            "text/plain": [
              "<torch.utils.data.dataloader.DataLoader at 0x211eab82f00>"
            ]
          },
          "metadata": {},
          "execution_count": 10
        }
      ]
    },
    {
      "cell_type": "code",
      "source": [
        "test_loader"
      ],
      "metadata": {
        "colab": {
          "base_uri": "https://localhost:8080/"
        },
        "id": "dRO79inRzAPR",
        "outputId": "2f294da3-0002-4f56-db3c-a841b904ffd9"
      },
      "execution_count": null,
      "outputs": [
        {
          "output_type": "execute_result",
          "data": {
            "text/plain": [
              "<torch.utils.data.dataloader.DataLoader at 0x211eab82f00>"
            ]
          },
          "metadata": {},
          "execution_count": 11
        }
      ]
    },
    {
      "cell_type": "code",
      "source": [
        "# prompt: crea un codigo para descargar el csv test_df\n",
        "\n",
        "import pandas as pd\n",
        "import os\n",
        "\n",
        "DATA_DIR = aa_iv_2025_i_object_localization_path  # Assuming this variable is defined from previous code\n",
        "\n",
        "test_df = pd.read_csv(os.path.join(DATA_DIR, \"test.csv\"))\n",
        "test_df.to_csv('test_df.csv', index=False)\n"
      ],
      "metadata": {
        "id": "9BhpTMSBUTVv"
      },
      "execution_count": null,
      "outputs": []
    }
  ]
}